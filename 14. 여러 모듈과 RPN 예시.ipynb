{
 "cells": [
  {
   "cell_type": "markdown",
   "metadata": {},
   "source": [
    "# 14. 여러 모듈과 RPN 예시"
   ]
  },
  {
   "cell_type": "markdown",
   "metadata": {},
   "source": [
    "## 14.1 파이썬 모듈의 개요"
   ]
  },
  {
   "cell_type": "code",
   "execution_count": null,
   "metadata": {
    "pycharm": {
     "name": "#%%\n"
    }
   },
   "outputs": [],
   "source": [
    "print(__name__)"
   ]
  },
  {
   "cell_type": "markdown",
   "metadata": {},
   "source": [
    "## 14.2 간단한 두 개의 모듈 예시"
   ]
  },
  {
   "cell_type": "code",
   "execution_count": null,
   "metadata": {
    "pycharm": {
     "name": "#%%\n"
    }
   },
   "outputs": [],
   "source": [
    "# File run_me.py ----------------------------\n",
    "\n",
    "import printstuff \t\t# printstuff.py 탑재\n",
    "printstuff.print_this('thing') \t# 함수 호출"
   ]
  },
  {
   "cell_type": "code",
   "execution_count": null,
   "metadata": {
    "pycharm": {
     "name": "#%%\n"
    }
   },
   "outputs": [],
   "source": [
    "# File run_me.py -----------------------------\n",
    "\n",
    "import printstuff # printstuff.py 파일 탑재\n",
    "\n",
    "# 다음 문장은 탑재된 변수를 사용한다.\n",
    "print('%s and %s' % (printstuff.x, printstuff.y))"
   ]
  },
  {
   "cell_type": "code",
   "execution_count": null,
   "metadata": {
    "pycharm": {
     "name": "#%%\n"
    }
   },
   "outputs": [],
   "source": [
    "#File run_me.py ------------------------------\n",
    "\n",
    "from foo_vars import z, print_z_val\n",
    "import foo_vars\n",
    "\n",
    "z = 100\n",
    "print_z_val()"
   ]
  },
  {
   "cell_type": "code",
   "execution_count": null,
   "metadata": {
    "pycharm": {
     "name": "#%%\n"
    }
   },
   "outputs": [],
   "source": [
    "foo_vars.z = 100\n",
    "print_z_val()"
   ]
  },
  {
   "cell_type": "code",
   "execution_count": null,
   "metadata": {
    "pycharm": {
     "name": "#%%\n"
    }
   },
   "outputs": [],
   "source": [
    "# File do_areas.py ----------------------------------\n",
    "\n",
    "import poly      # Import the file poly.py\n",
    "\n",
    "def main():\n",
    "    r = float(input('Enter radius:'))\n",
    "    print('Area of circle is', poly.get_circle_area(r))\n",
    "    x = float(input('Enter side:'))\n",
    "    print('Area of square is', poly.get_square_area(x))\n",
    "\n",
    "main()"
   ]
  },
  {
   "cell_type": "markdown",
   "metadata": {},
   "source": [
    "## 14.3 import 문의 변형"
   ]
  },
  {
   "cell_type": "code",
   "execution_count": null,
   "metadata": {
    "pycharm": {
     "name": "#%%\n"
    }
   },
   "outputs": [],
   "source": [
    "from poly import get_circle_area, get_square_area\n",
    "\n",
    "def main():\n",
    "    r = float(input('Enter radius:'))\n",
    "    print('Area of circle is', get_circle_area(r))\n",
    "\n",
    "    x = float(input('Enter side:'))\n",
    "    print('Area of square is', get_square_area(x))"
   ]
  },
  {
   "cell_type": "code",
   "execution_count": null,
   "metadata": {
    "pycharm": {
     "name": "#%%\n"
    }
   },
   "outputs": [],
   "source": [
    "from poly import *"
   ]
  },
  {
   "cell_type": "markdown",
   "metadata": {},
   "source": [
    "## 14.4 \\_\\_all\\_\\_ 기호 사용하기"
   ]
  },
  {
   "cell_type": "code",
   "execution_count": null,
   "metadata": {
    "pycharm": {
     "name": "#%%\n"
    }
   },
   "outputs": [],
   "source": [
    "# File run_me.py ------------------------------\n",
    "\n",
    "from module2 import *\n",
    "\n",
    "pr_nice('x', x)\n",
    "pr_nice('y', y)"
   ]
  },
  {
   "cell_type": "code",
   "execution_count": null,
   "metadata": {
    "pycharm": {
     "name": "#%%\n"
    }
   },
   "outputs": [],
   "source": [
    "# File listing for run_me.py ----------------------\n",
    "\n",
    "from module2 import * \t\t# x, y, pr_nice 탑재\n",
    "from module2 import z \t\t# z 탑재\n",
    "\n",
    "\n",
    "print('z is %i, for heaven’s sake!' % z)"
   ]
  },
  {
   "cell_type": "code",
   "execution_count": null,
   "metadata": {
    "pycharm": {
     "name": "#%%\n"
    }
   },
   "outputs": [],
   "source": [
    "# File run_me.py -----------------------------\n",
    "\n",
    "from mod_a import *     # 실패할 것이다.\n",
    "\n",
    "print(_a)\n",
    "print(__b)"
   ]
  },
  {
   "cell_type": "code",
   "execution_count": null,
   "metadata": {
    "pycharm": {
     "name": "#%%\n"
    }
   },
   "outputs": [],
   "source": [
    "# File run_me.py -----------------------------\n",
    "\n",
    "from mod_a import _a, __b \t# 이제 동작할 것이다.\n",
    "\n",
    "print(_a)\n",
    "print(__b)"
   ]
  },
  {
   "cell_type": "markdown",
   "metadata": {},
   "source": [
    "## 14.5 전역과 지역 모듈 변수"
   ]
  },
  {
   "cell_type": "markdown",
   "metadata": {},
   "source": [
    "## 14.6 메인 모듈과 \\_\\_main\\_\\_ "
   ]
  },
  {
   "cell_type": "code",
   "execution_count": null,
   "metadata": {
    "pycharm": {
     "name": "#%%\n"
    }
   },
   "outputs": [],
   "source": [
    "# File run_me.py -----------------------------------\n",
    "import mod_a\n",
    "\n",
    "x = 1\n",
    "y = 2\n",
    "\n",
    "print('My name is %s.\\n' % __name__)\n",
    "\n",
    "print(dir())"
   ]
  },
  {
   "cell_type": "code",
   "execution_count": null,
   "metadata": {
    "pycharm": {
     "name": "#%%\n"
    }
   },
   "outputs": [],
   "source": [
    "# File start_me_up.py -----------------------------\n",
    "\n",
    "def call_me_first():\n",
    "    print('Hi, there, Python!')\n",
    "\n",
    "if __name__ == '__main__':\n",
    "    call_me_first()"
   ]
  },
  {
   "cell_type": "markdown",
   "metadata": {},
   "source": [
    "## 14.7\t상호 탑재 문제 해결하기!"
   ]
  },
  {
   "cell_type": "markdown",
   "metadata": {},
   "source": [
    "![](./images_skill_up/14-1.PNG)"
   ]
  },
  {
   "cell_type": "markdown",
   "metadata": {},
   "source": [
    "![](./images_skill_up/14-2.PNG)"
   ]
  },
  {
   "cell_type": "code",
   "execution_count": null,
   "metadata": {
    "pycharm": {
     "name": "#%%\n"
    }
   },
   "outputs": [],
   "source": [
    "# File run_me.py -----------------------------------\n",
    "import mod_a\n",
    "mod_a.funcA(5)"
   ]
  },
  {
   "cell_type": "markdown",
   "metadata": {},
   "source": [
    "## 14.8 RPN 예시: 2개의 모듈로 나누기"
   ]
  },
  {
   "cell_type": "markdown",
   "metadata": {},
   "source": [
    "## 14.9 RPN 예시: I/O 지침 추가하기"
   ]
  },
  {
   "cell_type": "markdown",
   "metadata": {},
   "source": [
    "![](./tables_skill_up/t1401.PNG)"
   ]
  },
  {
   "cell_type": "markdown",
   "metadata": {},
   "source": [
    "## 14.10 RPN 예시 추가 변경"
   ]
  },
  {
   "cell_type": "markdown",
   "metadata": {},
   "source": [
    "### 14.10.1 줄-번호 확인 기능 추가하기"
   ]
  },
  {
   "cell_type": "markdown",
   "metadata": {},
   "source": [
    "### 14.10.2 0이 아니면 이동하는 기능 추가하기"
   ]
  },
  {
   "cell_type": "markdown",
   "metadata": {},
   "source": [
    "### 14.10.3 초과(>)와 난수 획득(!)"
   ]
  },
  {
   "cell_type": "markdown",
   "metadata": {},
   "source": [
    "## 14.11 RPNl 모든 코드 모으기"
   ]
  },
  {
   "cell_type": "markdown",
   "metadata": {},
   "source": [
    "![](./images_skill_up/14-3.PNG)"
   ]
  },
  {
   "cell_type": "markdown",
   "metadata": {},
   "source": [
    "***\n",
    "***\n",
    "## [파이썬 모듈]\n",
    "***\n",
    "***"
   ]
  },
  {
   "cell_type": "markdown",
   "metadata": {},
   "source": [
    "***\n",
    "### 이름 공간\n",
    "***\n",
    "- 이름 공간 또는 스코프 (Naming Space or Scope): 이름이 존재하는 장소. 파이썬은 실행 시간에 각 이름들을 적절한 이름 공간에 넣어 관리한다.\n",
    "- 이름 공간(스코프)의 종류\n",
    "  - 지역(Local): 각 함수 내부\n",
    "  - 전역(Global): 모듈 (파일) 내부\n",
    "  - 내장(Built-in): 파이썬 언어 자체에서 정의한 영역\n",
    "- 변수가 정의되는 위치에 의해 변수의 스코프가 정해짐\n",
    "  - 파이썬에서 변수의 정의\n",
    "    - 변수가 l-value로 사용될 때\n",
    "- 변수가 r-value로 사용될 때 해당 변수의 값을 찾는 순서 규칙\n",
    "  - L --> G --> B"
   ]
  },
  {
   "cell_type": "markdown",
   "metadata": {},
   "source": [
    "![image](images/scoping_rule.png)"
   ]
  },
  {
   "cell_type": "markdown",
   "metadata": {},
   "source": [
    "#### 지역변수와 전역변수\n",
    "- 변수의 스코프는 해당 변수가 l-value로서 정의되는 위치에 따라 달라짐\n",
    "- 변수가 함수 내에서 정의되면 해당 함수의 지역 변수가 된다."
   ]
  },
  {
   "cell_type": "code",
   "execution_count": null,
   "metadata": {
    "pycharm": {
     "name": "#%%\n"
    }
   },
   "outputs": [],
   "source": [
    "# g, h는 전역 변수\n",
    "g = 10\n",
    "h = 5\n",
    "\n",
    "def f(a): # a는 지역 변수\n",
    "    h = a + 10 # h는 지역, 새로 l-value로 정의했음\n",
    "    b = h + a + g # b도 지역, g는 r-value이므로 기존 값을 참조 - 전역 변수\n",
    "    return b\n",
    "\n",
    "print(f(h)) # 함수 호출시에 사용되는 변수는 해당 위치의 스코프에서 값을 찾음 - 전역 변수\n",
    "print(h) # 전역 변수 h는 변함 없음"
   ]
  },
  {
   "cell_type": "markdown",
   "metadata": {},
   "source": [
    "- 함수 내부에서 전역 변수를 직접 사용하고자 할 때\n",
    "  - <code>global</code> 키워드 활용"
   ]
  },
  {
   "cell_type": "code",
   "execution_count": null,
   "metadata": {
    "pycharm": {
     "name": "#%%\n"
    }
   },
   "outputs": [],
   "source": [
    "h = 5\n",
    "\n",
    "def f(a):      # a는 지역\n",
    "    global h   # h 변수를 전역이라고 미리 선언함\n",
    "    h = a + 10 # h는 l-value로 정의되더라도 미리 선언된 내용 때문에 전역 변수\n",
    "    return h\n",
    "\n",
    "print(f(10))\n",
    "print(h)        # 전역 변수 h 값이 함수 내에서 변경되었음"
   ]
  },
  {
   "cell_type": "markdown",
   "metadata": {},
   "source": [
    "- [주의] 동일 함수 내에서 동일한 변수가 지역변수와 전역변수로 동시에 활용될 수 없음\n",
    "  - 함수 내에서 정의되는 변수는 지역 변수로 간주\n",
    "  - 지역 변수로 선언되기 이전에 해당 변수를 사용할 수 없음"
   ]
  },
  {
   "cell_type": "code",
   "execution_count": null,
   "metadata": {
    "pycharm": {
     "name": "#%%\n"
    }
   },
   "outputs": [],
   "source": [
    "g = 10\n",
    "\n",
    "def f():\n",
    "    a = g      # r-value로 사용되는 g는 전역 변수\n",
    "    g = 20     # l-value로 정의되는 g는 지역 변수\n",
    "    return a\n",
    "\n",
    "print(f())"
   ]
  },
  {
   "cell_type": "code",
   "execution_count": null,
   "metadata": {
    "pycharm": {
     "name": "#%%\n"
    }
   },
   "outputs": [],
   "source": [
    "g = 10\n",
    "\n",
    "def f():\n",
    "    global g    # g는 전역 변수로 선언됨\n",
    "    a = g       # a는 지역 변수, g는 전역 변수\n",
    "    g = 20      # g는 전역 변수\n",
    "    return a\n",
    "\n",
    "print(f())\n",
    "print(g)"
   ]
  },
  {
   "cell_type": "markdown",
   "metadata": {},
   "source": [
    "#### 특정 공간의 이름 목록 얻기"
   ]
  },
  {
   "cell_type": "markdown",
   "metadata": {},
   "source": [
    "- 이름(Name)\n",
    "  - 변수 (객체) 이름\n",
    "  - 함수 이름\n",
    "  - 클래스 이름\n",
    "  - 모듈 이름\n",
    "- <code>dir()</code>: 함수가 호출된 스코프에서 정의되어 있는 모든 Name들을 문자열 리스트로 반환한다.\n",
    "- <code>dir(object)</code>: object이 지니고 있는 모든 Name들을 문자열 리스트로 반환한다."
   ]
  },
  {
   "cell_type": "code",
   "execution_count": null,
   "metadata": {
    "pycharm": {
     "name": "#%%\n"
    }
   },
   "outputs": [],
   "source": [
    "print(dir())"
   ]
  },
  {
   "cell_type": "code",
   "execution_count": null,
   "metadata": {
    "pycharm": {
     "name": "#%%\n"
    }
   },
   "outputs": [],
   "source": [
    "l = []\n",
    "print(dir(l))"
   ]
  },
  {
   "cell_type": "markdown",
   "metadata": {},
   "source": [
    "#### 함수의 중첩 영역(Nested Scopes) 지원\n",
    "- Nested Scope: 함수 안에 정의되어 있는 함수 내부\n",
    "  - 가장 안쪽의 스코프부터 바깥쪽의 스코프쪽으로 변수를 찾는다.\n",
    "  - 각각의 중첩 함수마다 독립적인 Scope을 관리한다."
   ]
  },
  {
   "cell_type": "code",
   "execution_count": null,
   "metadata": {
    "pycharm": {
     "name": "#%%\n"
    }
   },
   "outputs": [],
   "source": [
    "x = 2\n",
    "def F():\n",
    "    x = 1\n",
    "    def G():\n",
    "        x = 20\n",
    "        print(x)\n",
    "    G()\n",
    "F()"
   ]
  },
  {
   "cell_type": "code",
   "execution_count": null,
   "metadata": {
    "pycharm": {
     "name": "#%%\n"
    }
   },
   "outputs": [],
   "source": [
    "x = 2\n",
    "def F():\n",
    "    x = 1\n",
    "    def G():\n",
    "        x = 20\n",
    "        print(\"G():\", x)\n",
    "    G()\n",
    "    print(\"F():\", x)\n",
    "F()\n",
    "print(\"Global:\", x)"
   ]
  },
  {
   "cell_type": "code",
   "execution_count": null,
   "metadata": {
    "pycharm": {
     "name": "#%%\n"
    }
   },
   "outputs": [],
   "source": [
    "x = 2\n",
    "def F():\n",
    "    x = 1\n",
    "    def G():\n",
    "        global x\n",
    "        x = 20\n",
    "        print(\"G():\", x)\n",
    "    G()\n",
    "    print(\"F():\", x)\n",
    "F()\n",
    "print(\"Global:\", x)"
   ]
  },
  {
   "cell_type": "markdown",
   "metadata": {},
   "source": [
    "***\n",
    "### 모듈의 정의\n",
    "***\n",
    "- 모듈: 파이썬 프로그램 파일로서 파이썬 데이터와 함수등을 정의하고 있는 단위\n",
    "  - 서로 연관된 작업을 하는 코드들을 묶어서 독립성을 유지하되 재사용 가능하게 만드는 단위\n",
    "  - 모듈을 사용하는 측에서는 모듈에 정의된 함수나 변수 이름을 사용\n",
    "- 모듈의 종류\n",
    "  - 표준 모듈\n",
    "    - 파이썬 언어 패키지 안에 기본적으로 포함된 모듈\n",
    "    - 대표적인 표준 모듈 예\n",
    "      - <code>math, string</code>\n",
    "  - 사용자 생성 모듈\n",
    "    - 개발자가 직접 정의한 모듈\n",
    "  - 써드 파티 모듈\n",
    "    - 다른 업체나 개인이 만들어서 제공하는 모듈"
   ]
  },
  {
   "cell_type": "markdown",
   "metadata": {},
   "source": [
    "#### 모듈은 어디에 저장되는가\n",
    "- 모듈이 정의되고 저장되는 곳은 파일\n",
    "  - 파일\n",
    "    - 모듈 코드를 저장하는 물리적인 단위\n",
    "  - 모듈\n",
    "    - 논리적으로 하나의 단위로 조직된 코드의 모임\n",
    "- 파이썬 모듈이 정의되는 파일의 확장자: <code>.py</code>\n",
    "- 다른 곳에서 모듈을 사용하게 되면 해당 모듈의 <code>.py</code>는 바이트 코드로 컴파일 되어 <code>.pyc</code>로 존재한다."
   ]
  },
  {
   "cell_type": "markdown",
   "metadata": {},
   "source": [
    "#### 사용자 모듈 만들기와 호출하기"
   ]
  },
  {
   "cell_type": "code",
   "execution_count": null,
   "metadata": {
    "pycharm": {
     "name": "#%%\n"
    }
   },
   "outputs": [],
   "source": [
    "#File: mymath.py\n",
    "mypi = 3.14\n",
    "\n",
    "def add(a, b):\n",
    "    return a + b\n",
    "\n",
    "def area(r):\n",
    "    return mypi * r * r"
   ]
  },
  {
   "cell_type": "markdown",
   "metadata": {},
   "source": [
    "- 모듈 이름은 해당 모듈을 정의한 파일 이름에서 <code>.py</code>를 제외한 것\n",
    "  - 모듈을 불러오는 키워드: <code>import</code>\n",
    "- 모듈에서 정의한 이름 사용하기"
   ]
  },
  {
   "cell_type": "code",
   "execution_count": null,
   "metadata": {
    "pycharm": {
     "name": "#%%\n"
    }
   },
   "outputs": [],
   "source": [
    "import mymath\n",
    "\n",
    "print(dir(mymath))    # mymath에 정의된 이름들 확인하기\n",
    "print(mymath.mypi)    # mymath 안에 정의된 mypi를 사용한다\n",
    "print(mymath.area(5)) # mymath 안에 정의된 area를 사용한다"
   ]
  },
  {
   "cell_type": "markdown",
   "metadata": {},
   "source": [
    "#### 모듈을 왜 사용하는가?\n",
    "- 함수와 모듈\n",
    "  - 함수: 파일 내에서 일부 코드를 묶는 것\n",
    "  - 모듈: 파일 단위로 코드들을 묶는 것\n",
    "    - 비슷하거나 관련된 일을 하는 함수나 상수값들을 모아서 하나의 파일에 저장하고 추후에 재사용하는 단위\n",
    "- 모듈 사용의 이점\n",
    "  - 코드의 재사용\n",
    "  - 프로그램 개발시에 전체 코드들을 여러 모듈 단위로 분리하여 설계함으로써 작업의 효율을 높일 수 있음\n",
    "  - 별도의 이름 공간(스코프)를 제공함으로써 동일한 이름의 여러 함수나 변수들이 각 모듈마다 독립적으로 정의될 수 있다.\n",
    "- 별도 파일 내에 파이썬 코드를 저장할 때 (즉, 모듈을 코딩할 때) 한글 처리\n",
    "  - 파일의 맨 위에 다음 코드를 넣어 준다.\n",
    "    - \\# -\\*- coding:utf-8 -*-\n",
    "- 모듈은 하나의 독립된 이름 공간을 확보하면서 정의된다."
   ]
  },
  {
   "cell_type": "markdown",
   "metadata": {},
   "source": [
    "#### 모듈이 지닌 이름들 알아보기\n",
    "- <code>dir(모듈)</code>: 모듈이 지니고 있는 모든 이름들을 리스트로 반환"
   ]
  },
  {
   "cell_type": "code",
   "execution_count": null,
   "metadata": {
    "pycharm": {
     "name": "#%%\n"
    }
   },
   "outputs": [],
   "source": [
    "import string\n",
    "print(dir(string))"
   ]
  },
  {
   "cell_type": "markdown",
   "metadata": {},
   "source": [
    "#### 이름 공간을 제공하는 다른 예들\n",
    "- 독립된 이름 공간(스코프)을 제공하는 것들\n",
    "  - 모듈\n",
    "  - 함수\n",
    "  - 클래스\n",
    "  - 객체"
   ]
  },
  {
   "cell_type": "markdown",
   "metadata": {},
   "source": [
    "- <code>string</code> 모듈 이름 공간에 변수 <code>a</code>를 생성한다.\n",
    "  - 표준 모듈에 사용자가 정의하는 이름을 생성하는 것은 비추천\n",
    "  - 단지 모듈 자체가 독립적인 이름 공간을 제공한다는 것을 알려줌"
   ]
  },
  {
   "cell_type": "code",
   "execution_count": null,
   "metadata": {
    "pycharm": {
     "name": "#%%\n"
    }
   },
   "outputs": [],
   "source": [
    "import string\n",
    "string.a = 1\n",
    "print(string.a)"
   ]
  },
  {
   "cell_type": "markdown",
   "metadata": {},
   "source": [
    "- 클래스도 독립적인 이름 공간"
   ]
  },
  {
   "cell_type": "code",
   "execution_count": null,
   "metadata": {
    "pycharm": {
     "name": "#%%\n"
    }
   },
   "outputs": [],
   "source": [
    "class C:            # 클래스도 독립적인 이름 공간\n",
    "    a = 2           # 클래스 이름 공간 내에 변수 선언\n",
    "    pass            # 클래스 정의 완료\n",
    "\n",
    "c = C()             # 클래스 인스턴스 객체 생성\n",
    "c.a = 1             # 클래스에서 생성된 인스턴스 객체도 별도의 이름 공간\n",
    "print(c.a)\n",
    "print(c.__class__.a)\n",
    "print(C.a)"
   ]
  },
  {
   "cell_type": "markdown",
   "metadata": {},
   "source": [
    "- 함수도 독립적인 이름 공간\n",
    "  - 다만 함수 내에서 선언된 지역(로컬) 변수는 함수 외부에서 접근할 수 없다."
   ]
  },
  {
   "cell_type": "code",
   "execution_count": null,
   "metadata": {
    "pycharm": {
     "name": "#%%\n"
    }
   },
   "outputs": [],
   "source": [
    "x = 10    # 현재 모듈 내부에 정의되는 이름\n",
    "def f():\n",
    "    a = 1\n",
    "    b = 2 # 현재 모듈에 정의되는 함수 f 내에 이름 a,b를 정의하고있다. 함수도 독립적인 이름 공간\n",
    "f.c = 1\n",
    "print(f.c)\n",
    "print()\n",
    "print(f.a)"
   ]
  },
  {
   "cell_type": "markdown",
   "metadata": {},
   "source": [
    "***\n",
    "### 모듈 검색 경로\n",
    "***"
   ]
  },
  {
   "cell_type": "markdown",
   "metadata": {},
   "source": [
    "#### <code>PYTHONPATH</code> 환경 변수 설정하기\n",
    "- 파이썬이 모듈을 찾는 순서\n",
    "  - 1) 이미 메모리에 로딩되어진 것\n",
    "  - 2) 현재 디렉토리 (ipython에서 <code>pwd</code> 명령으로 확인 가능)\n",
    "\n",
    "    - <code>! pwd</code>\n",
    "\n",
    "\n",
    "  - 3) <code>PYTHONPATH</code> 환경 변수에 기술된 디렉토리 목록을 차례로 탐색\n",
    "  - 4) 표준 라이브러리 디렉토리들\n",
    "    - <code>sys</code> 모듈 임포트 후 <code>sys.path</code> 로 확인 가능\n",
    "    - <code>sys.path.append()</code>, <code>sys.path.remove()</code>로 추가, 삭제 가능\n",
    "- <code>PYTHONPATH</code> 환경 변수 설정 방법\n",
    "  - 윈도우즈\n",
    "    - 제어판\\시스템 및 보안\\시스템\\고급 시스템 설정\\환경 변수\n",
    "      - 새로 만들기: 변수 이름 - <code>PYTHONPATH</code>, 변수 값 - <code>C:\\Users\\yhhan\\mypythonlib</code>\n",
    "      - python 새로 시작하기 (cmd창 새로 시작한 후)\n",
    "  - MAC이나 리눅스\n",
    "    - <code>~/.bashrc</code>, <code>~/.bash_profile</code>, 혹은 <code>~/.profile</code> 파일에 다음 라인 추가\n",
    "      - <code>export PYTHONPATH=/Users/yhhan/mypythonlib</code>\n",
    "      - 터미널 창에서 다음 명령어 수행\n",
    "        - <code>source ~/.bash_profile</code>\n",
    "  - 이클립스에서 <code>PYTHONPATH</code> 설정\n",
    "  - [참고] https://goo.gl/crPFi0"
   ]
  },
  {
   "cell_type": "markdown",
   "metadata": {},
   "source": [
    "![inheritance](images/pythonpath_eclipse.png)"
   ]
  },
  {
   "cell_type": "markdown",
   "metadata": {},
   "source": [
    "- 코드 내에서 모듈 검색 경로 확인하기"
   ]
  },
  {
   "cell_type": "code",
   "execution_count": null,
   "metadata": {
    "pycharm": {
     "name": "#%%\n"
    }
   },
   "outputs": [],
   "source": [
    "import sys\n",
    "print sys.path"
   ]
  },
  {
   "cell_type": "markdown",
   "metadata": {},
   "source": [
    "#### 모듈의 검색 경로 동적으로 바꾸기"
   ]
  },
  {
   "cell_type": "code",
   "execution_count": null,
   "metadata": {
    "pycharm": {
     "name": "#%%\n"
    }
   },
   "outputs": [],
   "source": [
    "import sys\n",
    "\n",
    "sys.path.append('~/mypythonlib')\n",
    "print(sys.path)"
   ]
  },
  {
   "cell_type": "code",
   "execution_count": null,
   "metadata": {
    "pycharm": {
     "name": "#%%\n"
    }
   },
   "outputs": [],
   "source": [
    "sys.path.insert(0, '~/mypythonlib2')\n",
    "print(sys.path)"
   ]
  },
  {
   "cell_type": "markdown",
   "metadata": {},
   "source": [
    "***\n",
    "***\n",
    "## [모듈의 활용 및 패키지]\n",
    "***\n",
    "***"
   ]
  },
  {
   "cell_type": "markdown",
   "metadata": {},
   "source": [
    "***\n",
    "### 모듈의 다양한 <code>import</code> 방법\n",
    "***"
   ]
  },
  {
   "cell_type": "markdown",
   "metadata": {},
   "source": [
    "#### 모듈 <code>import</code> 하기\n",
    "##### 1) <code>import</code> 모듈명\n",
    "- 가장 기본적인 형태\n",
    "  - 현재의 이름 공간에 <code>mymath</code> 이름이 유지되므로 <code>mymath.area()</code> 형태로 자격 이름 사용"
   ]
  },
  {
   "cell_type": "code",
   "execution_count": null,
   "metadata": {
    "pycharm": {
     "name": "#%%\n"
    }
   },
   "outputs": [],
   "source": [
    "import mymath\n",
    "print(mymath.area(5))"
   ]
  },
  {
   "cell_type": "markdown",
   "metadata": {},
   "source": [
    "##### 2) <code>from 모듈명 import 이름들</code>\n",
    "- 해당 모듈에 존재하는 지정 이름들을 현재 이름 공간으로 불러들인다.\n",
    "- 불러들인 각 이름들은 모듈 이름 없이 직접 사용 가능하다.\n",
    "- <code>import</code> 하는 이름들이 기존에 미리 존재하고 있었다면 그 이름들에 의해 참조되던 기존 객체들은 상실된다."
   ]
  },
  {
   "cell_type": "code",
   "execution_count": null,
   "metadata": {
    "pycharm": {
     "name": "#%%\n"
    }
   },
   "outputs": [],
   "source": [
    "from mymath import area, mypi\n",
    "print(area(5))"
   ]
  },
  {
   "cell_type": "markdown",
   "metadata": {},
   "source": [
    "##### 3) <code>from 모듈명 import *</code>\n",
    "- 해당 모듈에 존재하는 '\\_\\_'로 시작되는 이름들을 제외한 모든 이름들을 현재 이름 공간으로 불러들인다."
   ]
  },
  {
   "cell_type": "code",
   "execution_count": null,
   "metadata": {
    "pycharm": {
     "name": "#%%\n"
    }
   },
   "outputs": [],
   "source": [
    "from mymath import *\n",
    "print(area(5))"
   ]
  },
  {
   "cell_type": "markdown",
   "metadata": {},
   "source": [
    "##### 4) <code>import 모듈명 as 새로운 모듈 이름</code>\n",
    "- 해당 모듈을 새로운 다른 이름으로 사용하고자 할 때 사용\n",
    "- 기존 모듈 이름이 너무 길거나 현재 사용중인 다름 이름들과 충돌이 일어날 때 유용"
   ]
  },
  {
   "cell_type": "code",
   "execution_count": null,
   "metadata": {
    "pycharm": {
     "name": "#%%\n"
    }
   },
   "outputs": [],
   "source": [
    "import string as chstr\n",
    "print(chstr)\n",
    "print()\n",
    "print(chstr.punctuation)"
   ]
  },
  {
   "cell_type": "markdown",
   "metadata": {},
   "source": [
    "##### 5) <code>from 모듈명 import 이름 as 새로운 이름[, 이름 as 새로운 이름]</code>\n",
    "- 해당 모듈 내에 정의된 이름을 다른 새로운 이름으로 사용하고자 할 때 사용"
   ]
  },
  {
   "cell_type": "code",
   "execution_count": null,
   "metadata": {
    "pycharm": {
     "name": "#%%\n"
    }
   },
   "outputs": [],
   "source": [
    "from string import punctuation\n",
    "print(punctuation)\n",
    "from string import punctuation as punc\n",
    "print(punc)"
   ]
  },
  {
   "cell_type": "code",
   "execution_count": null,
   "metadata": {
    "pycharm": {
     "name": "#%%\n"
    }
   },
   "outputs": [],
   "source": [
    "from math import floor as flr, ceil as cil\n",
    "print(flr)\n",
    "print(flr(4.5))\n",
    "print(cil)\n",
    "print(cil(4.5))\n",
    "\n",
    "print()\n",
    "\n",
    "from math import floor, ceil\n",
    "print(floor(4.5))\n",
    "print(ceil(4.5))"
   ]
  },
  {
   "cell_type": "markdown",
   "metadata": {},
   "source": [
    "- <code>import</code> 문은 보통의 문(statement)이 작성될 수 있는 곳이면 어디에서나 사용 가능\n",
    "  - 예를 들면 함수 정의 <code>def</code> 문 안이나 <code>if</code> 문 안에서 사용할 수 있음"
   ]
  },
  {
   "cell_type": "code",
   "execution_count": null,
   "metadata": {
    "pycharm": {
     "name": "#%%\n"
    }
   },
   "outputs": [],
   "source": [
    "def str_test(s):\n",
    "    import string\n",
    "    t = string.split(s)\n",
    "    return(t)"
   ]
  },
  {
   "cell_type": "markdown",
   "metadata": {},
   "source": [
    "#### <code>import<code>에 의한 모듈 코드 수행\n",
    "- <code>import<code>는 코드를 가져오기만 하는 것이 아니라 가져온 코드를 수행한다."
   ]
  },
  {
   "cell_type": "code",
   "execution_count": null,
   "metadata": {
    "pycharm": {
     "name": "#%%\n"
    }
   },
   "outputs": [],
   "source": [
    "#FILE : mymath.py\n",
    "mypi = 3.14\n",
    "\n",
    "def add(a, b):\n",
    "    return a + b\n",
    "\n",
    "def area(r):\n",
    "    return mypi * r * r\n",
    "\n",
    "print(area(4.0))"
   ]
  },
  {
   "cell_type": "code",
   "execution_count": null,
   "metadata": {
    "pycharm": {
     "name": "#%%\n"
    }
   },
   "outputs": [],
   "source": [
    "import mymath\n",
    "\n",
    "#기존:\n",
    "#50.24"
   ]
  },
  {
   "cell_type": "markdown",
   "metadata": {},
   "source": [
    "#### 컴파일과 적재시간\n",
    "- <code>import mymath</code>를 수행할 때 발생하는 일\n",
    "  - 1) 우선 <code>mymath.pyc</code>를 찾는다.\n",
    "  - 2) <code>mymath.pyc</code>가 없다면 <code>mymath.py</code>를 찾아서 <code>mymath.pyc</code>를 생성한다.\n",
    "  - 3) 생성된 <code>mymath.pyc</code>를 메모리로 읽어들여 수행한다.\n",
    "- <code>.pyc</code> 파일\n",
    "  - 바이트 코드 파일\n",
    "    - 기계나 플랫폼(OS)에 의존하지 않도록 만들어진 일종의 목적 코드 (Object Code)\n",
    "    - 파이썬은 컴파일 언어이면서 동시에 인터프리터 언어의 수행 방식을 취하고 있다.\n",
    "- 새로운 <code>.pyc</code> 생성에 대한 판단\n",
    "  - <code>.py</code> 수정 시간이 <code>.pyc</code> 수정 시간보다 더 최근일 때\n",
    "- <code>.py</code>가 없이도 <code>.pyc</code> 파일만 있어도 <code>import</code> 가능\n",
    "  - 코드를 숨기는 간단한 기법으로 활용 가능"
   ]
  },
  {
   "cell_type": "markdown",
   "metadata": {},
   "source": [
    "#### 모듈 이름과 이미 사용하고 있던 이름이 같다면?\n",
    "- 이전의 이름이 참조하던 객체는 상실됨"
   ]
  },
  {
   "cell_type": "code",
   "execution_count": null,
   "metadata": {
    "pycharm": {
     "name": "#%%\n"
    }
   },
   "outputs": [],
   "source": [
    "string = \"My first string\"\n",
    "import string\n",
    "print(string)"
   ]
  },
  {
   "cell_type": "code",
   "execution_count": null,
   "metadata": {
    "pycharm": {
     "name": "#%%\n"
    }
   },
   "outputs": [],
   "source": [
    "import string\n",
    "string = \"My first string\" #여기서 string이란 이름은 문자열을 참조하게 된다.\n",
    "print(string)"
   ]
  },
  {
   "cell_type": "markdown",
   "metadata": {},
   "source": [
    "- 한번 <code>import</code> 되었던 모듈은 메모리에 적재되어지고, 나중에 다시 동일한 모듈을 <code>import</code>하면 메모리에 적재되어 있던 모듈이 즉시 사용된다."
   ]
  },
  {
   "cell_type": "code",
   "execution_count": null,
   "metadata": {
    "pycharm": {
     "name": "#%%\n"
    }
   },
   "outputs": [],
   "source": [
    "import string\n",
    "string.a = 1\n",
    "string = \"My first string\"\n",
    "print(string)\n",
    "\n",
    "import string\n",
    "print(string.a)  # 여기서 string 모듈이 기존에 이미 등록되었던 것임을 알 수 있다."
   ]
  },
  {
   "cell_type": "markdown",
   "metadata": {},
   "source": [
    "***\n",
    "### 모듈의 실행과 테스트 코드\n",
    "***\n",
    "- \\_\\_name\\_\\_\n",
    "  - 모듈의 이름이 자동으로 저장되는 변수\n",
    "  - 현재의 모듈이 최상위 모듈로서 수행되는지, 아니면 다른 모듈에 의해 <code>import<code>되어 수행되는지를 구별하기 위해 주로 활용\n",
    "  - 최상위 모듈: 파이썬 인터프리터가 기본적으로 가장 먼저 인식하여 처리하는 모듈\n",
    "     - 모듈의 이름이 항상 \"\\_\\_main\\_\\_\""
   ]
  },
  {
   "cell_type": "markdown",
   "metadata": {},
   "source": [
    "- <code>prname.py</code>를 직접 수행할 때의 출력 내용: \\_\\_main\\_\\_\n",
    "  - \\>\\>\\> <code>ipython prname.py</code>\n",
    "    - \\_\\_main\\_\\_\n",
    "  - <code>prname.py</code>가 최상위 모듈로서 수행됨을 의미"
   ]
  },
  {
   "cell_type": "code",
   "execution_count": null,
   "metadata": {
    "pycharm": {
     "name": "#%%\n"
    }
   },
   "outputs": [],
   "source": [
    "#FILE : prname.py\n",
    "print(__name__)"
   ]
  },
  {
   "cell_type": "markdown",
   "metadata": {},
   "source": [
    "- <code>prname.py</code>가 모듈로서 다른 이름 공간으로 <code>import</code> 되어질 때의 출력 내용: <code>prname</code>"
   ]
  },
  {
   "cell_type": "code",
   "execution_count": null,
   "metadata": {
    "pycharm": {
     "name": "#%%\n"
    }
   },
   "outputs": [],
   "source": [
    "import prname\n",
    "print(prname.__name__)"
   ]
  },
  {
   "cell_type": "code",
   "execution_count": null,
   "metadata": {
    "pycharm": {
     "name": "#%%\n"
    }
   },
   "outputs": [],
   "source": [
    "import string\n",
    "print(string.__name__)\n",
    "\n",
    "import re\n",
    "print(re.__name__)\n",
    "\n",
    "import os\n",
    "print(os.__name__)"
   ]
  },
  {
   "cell_type": "markdown",
   "metadata": {},
   "source": [
    "- 아래 코드는 최상위 모듈로서 수행될 때 <code>add()</code> 함수 호출이 일어난다.\n",
    "- 보통 파이썬 모듈을 개발할 때에는 마지막 부분에 if \\_\\_name\\_\\_ == \"\\_\\_main\\_\\_\": 과 같은 코드를 추가하여 테스트 코드를 삽입한다."
   ]
  },
  {
   "cell_type": "code",
   "execution_count": null,
   "metadata": {
    "pycharm": {
     "name": "#%%\n"
    }
   },
   "outputs": [],
   "source": [
    "#file: module_test.py\n",
    "def add(a, b):\n",
    "    return a + b\n",
    "\n",
    "def f():\n",
    "    print(\"Python is becoming popular.\")\n",
    "\n",
    "if __name__ == \"__main__\":\n",
    "    print(add(1, 10))\n",
    "    f()"
   ]
  },
  {
   "cell_type": "markdown",
   "metadata": {},
   "source": [
    "- 정의된 모듈이 다른 모듈로 <code>import</code>되어질 때에는 \\_\\_name\\_\\_은 모듈 이름 자체이므로 위 코드에서 <code>if</code> 문이 수행되지 않는다.\n",
    "  - 즉, <code>test()</code> 함수 호출이 곧바로 되지 않는다."
   ]
  },
  {
   "cell_type": "code",
   "execution_count": null,
   "metadata": {
    "pycharm": {
     "name": "#%%\n"
    }
   },
   "outputs": [],
   "source": [
    "import module_test"
   ]
  },
  {
   "cell_type": "markdown",
   "metadata": {},
   "source": [
    "***\n",
    "### [패키지]\n",
    "***"
   ]
  },
  {
   "cell_type": "markdown",
   "metadata": {},
   "source": [
    "#### 패키지의 이해"
   ]
  },
  {
   "cell_type": "markdown",
   "metadata": {},
   "source": [
    "- 패키지 (Package)\n",
    "  - 여러 모듈들을 한데 묶어서 정리해 놓은 구조\n",
    "  - 물리적으로 여러 모듈 파일을 모아 놓은 디렉토리에 해당\n",
    "    - 최상위 디렉토리 이름이 패키지 이름이 된다.\n",
    "    - 최상위 디렉토리 하위에 여러 서브 디렉토리는 해당 최상위 패키지의 하위 패키지가 된다.\n",
    "- 예제: Speech 패키지\n",
    "  - 각 폴더마다 \\_\\_init\\_\\_.py 파일 존재에 유의\n",
    "  - 패키지가 임포트 되면 \\_\\_init\\_\\_.py 파일에 존재하는 내용은 자동으로 실행됨"
   ]
  },
  {
   "cell_type": "markdown",
   "metadata": {},
   "source": [
    "![inheritance](images/package.png)"
   ]
  },
  {
   "cell_type": "code",
   "execution_count": null,
   "metadata": {
    "pycharm": {
     "name": "#%%\n"
    }
   },
   "outputs": [],
   "source": [
    "import Speech"
   ]
  },
  {
   "cell_type": "markdown",
   "metadata": {},
   "source": [
    "- Speech 디렉토리의 위치\n",
    "  - <code>sys.path</code>(또는 <code>PYTHONPATH</code> 환경 변수)에 열거된 폴더 중 하나에 위치해야 한다."
   ]
  },
  {
   "cell_type": "markdown",
   "metadata": {},
   "source": [
    "- <code>Speech/Recognition/HMM.py</code> 코드 내용"
   ]
  },
  {
   "cell_type": "code",
   "execution_count": null,
   "metadata": {
    "pycharm": {
     "name": "#%%\n"
    }
   },
   "outputs": [],
   "source": [
    "def train():\n",
    "    print(\"Train\")\n",
    "    pass\n",
    "\n",
    "def loadModel():\n",
    "    print(\"LoadModel\")\n",
    "    pass\n",
    "\n",
    "def saveModel():\n",
    "    print(\"SaveModel\")\n",
    "    pass"
   ]
  },
  {
   "cell_type": "markdown",
   "metadata": {},
   "source": [
    "#### \\_\\_init\\_\\_.py의 역할\n",
    "- \\_\\_init\\_\\_.py 파일이 존재해야지만 파이썬 패키지로서 인식됨"
   ]
  },
  {
   "cell_type": "markdown",
   "metadata": {},
   "source": [
    "#### <code>import</code> 하기"
   ]
  },
  {
   "cell_type": "code",
   "execution_count": null,
   "metadata": {
    "pycharm": {
     "name": "#%%\n"
    }
   },
   "outputs": [],
   "source": [
    "import Speech"
   ]
  },
  {
   "cell_type": "code",
   "execution_count": null,
   "metadata": {
    "pycharm": {
     "name": "#%%\n"
    }
   },
   "outputs": [],
   "source": [
    "Speech.Recognition.HMM.train()"
   ]
  },
  {
   "cell_type": "code",
   "execution_count": null,
   "metadata": {
    "pycharm": {
     "name": "#%%\n"
    }
   },
   "outputs": [],
   "source": [
    "import Speech.Recognition.HMM\n",
    "Speech.Recognition.HMM.train()"
   ]
  },
  {
   "cell_type": "code",
   "execution_count": null,
   "metadata": {
    "pycharm": {
     "name": "#%%\n"
    }
   },
   "outputs": [],
   "source": [
    "from Speech.Recognition import HMM\n",
    "HMM.train()"
   ]
  },
  {
   "cell_type": "code",
   "execution_count": null,
   "metadata": {
    "pycharm": {
     "name": "#%%\n"
    }
   },
   "outputs": [],
   "source": [
    "from Speech.Recognition.HMM import train\n",
    "train()"
   ]
  },
  {
   "cell_type": "markdown",
   "metadata": {},
   "source": [
    "#### <code>import *</code> 하기"
   ]
  },
  {
   "cell_type": "code",
   "execution_count": null,
   "metadata": {
    "pycharm": {
     "name": "#%%\n"
    }
   },
   "outputs": [],
   "source": [
    "from Speech.Recognition.HMM import *\n",
    "train()\n",
    "loadModel()\n",
    "saveModel()\n"
   ]
  }
 ],
 "metadata": {
  "kernelspec": {
   "display_name": "Python 3",
   "language": "python",
   "name": "python3"
  },
  "language_info": {
   "codemirror_mode": {
    "name": "ipython",
    "version": 3
   },
   "file_extension": ".py",
   "mimetype": "text/x-python",
   "name": "python",
   "nbconvert_exporter": "python",
   "pygments_lexer": "ipython3",
   "version": "3.7.9"
  }
 },
 "nbformat": 4,
 "nbformat_minor": 4
}

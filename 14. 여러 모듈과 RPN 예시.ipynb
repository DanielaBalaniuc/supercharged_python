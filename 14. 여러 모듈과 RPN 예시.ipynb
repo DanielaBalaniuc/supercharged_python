{
 "cells": [
  {
   "cell_type": "markdown",
   "metadata": {},
   "source": [
    "# 14. 여러 모듈과 RPN 예시"
   ]
  },
  {
   "cell_type": "markdown",
   "metadata": {},
   "source": [
    "## 14.1 파이썬 모듈의 개요"
   ]
  },
  {
   "cell_type": "code",
   "execution_count": 1,
   "metadata": {},
   "outputs": [
    {
     "name": "stdout",
     "output_type": "stream",
     "text": [
      "__main__\n"
     ]
    }
   ],
   "source": [
    "print(__name__)"
   ]
  },
  {
   "cell_type": "markdown",
   "metadata": {},
   "source": [
    "## 14.2 간단한 두 개의 모듈 예시"
   ]
  },
  {
   "cell_type": "code",
   "execution_count": 4,
   "metadata": {},
   "outputs": [
    {
     "name": "stdout",
     "output_type": "stream",
     "text": [
      "Print this thing.\n"
     ]
    }
   ],
   "source": [
    "# File run_me.py ----------------------------\n",
    "\n",
    "import printstuff \t\t# printstuff.py 탑재\n",
    "printstuff.print_this('thing') \t# 함수 호출"
   ]
  },
  {
   "cell_type": "code",
   "execution_count": 5,
   "metadata": {},
   "outputs": [
    {
     "name": "stdout",
     "output_type": "stream",
     "text": [
      "100 and 200\n"
     ]
    }
   ],
   "source": [
    "# File run_me.py -----------------------------\n",
    "\n",
    "import printstuff # printstuff.py 파일 탑재\n",
    "\n",
    "# 다음 문장은 탑재된 변수를 사용한다.\n",
    "print('%s and %s' % (printstuff.x, printstuff.y))"
   ]
  },
  {
   "cell_type": "code",
   "execution_count": 6,
   "metadata": {},
   "outputs": [
    {
     "name": "stdout",
     "output_type": "stream",
     "text": [
      "Value of z is 0\n"
     ]
    }
   ],
   "source": [
    "#File run_me.py ------------------------------\n",
    "\n",
    "from foo_vars import z, print_z_val\n",
    "import foo_vars\n",
    "\n",
    "z = 100\n",
    "print_z_val()"
   ]
  },
  {
   "cell_type": "code",
   "execution_count": 8,
   "metadata": {},
   "outputs": [
    {
     "name": "stdout",
     "output_type": "stream",
     "text": [
      "Value of z is 100\n"
     ]
    }
   ],
   "source": [
    "foo_vars.z = 100\n",
    "print_z_val()"
   ]
  },
  {
   "cell_type": "code",
   "execution_count": 9,
   "metadata": {},
   "outputs": [
    {
     "name": "stdout",
     "output_type": "stream",
     "text": [
      "Enter radius:45\n",
      "Area of circle is 6361.723800000001\n",
      "Enter side:10\n",
      "Area of square is 100.0\n"
     ]
    }
   ],
   "source": [
    "# File do_areas.py ----------------------------------\n",
    "\n",
    "import poly      # Import the file poly.py\n",
    "\n",
    "def main():\n",
    "    r = float(input('Enter radius:'))\n",
    "    print('Area of circle is', poly.get_circle_area(r))\n",
    "    x = float(input('Enter side:'))\n",
    "    print('Area of square is', poly.get_square_area(x))\n",
    "\n",
    "main()"
   ]
  },
  {
   "cell_type": "markdown",
   "metadata": {},
   "source": [
    "## 14.3 import 문의 변형"
   ]
  },
  {
   "cell_type": "code",
   "execution_count": 10,
   "metadata": {},
   "outputs": [],
   "source": [
    "from poly import get_circle_area, get_square_area\n",
    "\n",
    "def main():\n",
    "    r = float(input('Enter radius:'))\n",
    "    print('Area of circle is', get_circle_area(r))\n",
    "\n",
    "    x = float(input('Enter side:'))\n",
    "    print('Area of square is', get_square_area(x))"
   ]
  },
  {
   "cell_type": "code",
   "execution_count": 11,
   "metadata": {},
   "outputs": [],
   "source": [
    "from poly import *"
   ]
  },
  {
   "cell_type": "markdown",
   "metadata": {},
   "source": [
    "## 14.4 \\_\\_all\\_\\_ 기호 사용하기"
   ]
  },
  {
   "cell_type": "code",
   "execution_count": 3,
   "metadata": {},
   "outputs": [
    {
     "name": "stdout",
     "output_type": "stream",
     "text": [
      "The value of x is 1000.\n",
      "And z is 10.\n",
      "The value of y is 500.\n",
      "And z is 10.\n"
     ]
    }
   ],
   "source": [
    "# File run_me.py ------------------------------\n",
    "\n",
    "from module2 import *\n",
    "\n",
    "pr_nice('x', x)\n",
    "pr_nice('y', y)"
   ]
  },
  {
   "cell_type": "code",
   "execution_count": 4,
   "metadata": {},
   "outputs": [
    {
     "name": "stdout",
     "output_type": "stream",
     "text": [
      "z is 10, for heaven’s sake!\n"
     ]
    }
   ],
   "source": [
    "# File listing for run_me.py ----------------------\n",
    "\n",
    "from module2 import * \t\t# x, y, pr_nice 탑재\n",
    "from module2 import z \t\t# z 탑재\n",
    "\n",
    "\n",
    "print('z is %i, for heaven’s sake!' % z)"
   ]
  },
  {
   "cell_type": "code",
   "execution_count": 6,
   "metadata": {
    "scrolled": true
   },
   "outputs": [
    {
     "ename": "NameError",
     "evalue": "name '_a' is not defined",
     "output_type": "error",
     "traceback": [
      "\u001b[1;31m---------------------------------------------------------------------------\u001b[0m",
      "\u001b[1;31mNameError\u001b[0m                                 Traceback (most recent call last)",
      "\u001b[1;32m<ipython-input-6-c70f17df2ceb>\u001b[0m in \u001b[0;36m<module>\u001b[1;34m\u001b[0m\n\u001b[0;32m      3\u001b[0m \u001b[1;32mfrom\u001b[0m \u001b[0mmod_a\u001b[0m \u001b[1;32mimport\u001b[0m \u001b[1;33m*\u001b[0m \u001b[1;31m# This will fail.\u001b[0m\u001b[1;33m\u001b[0m\u001b[1;33m\u001b[0m\u001b[0m\n\u001b[0;32m      4\u001b[0m \u001b[1;33m\u001b[0m\u001b[0m\n\u001b[1;32m----> 5\u001b[1;33m \u001b[0mprint\u001b[0m\u001b[1;33m(\u001b[0m\u001b[0m_a\u001b[0m\u001b[1;33m)\u001b[0m\u001b[1;33m\u001b[0m\u001b[1;33m\u001b[0m\u001b[0m\n\u001b[0m\u001b[0;32m      6\u001b[0m \u001b[0mprint\u001b[0m\u001b[1;33m(\u001b[0m\u001b[0m__b\u001b[0m\u001b[1;33m)\u001b[0m\u001b[1;33m\u001b[0m\u001b[1;33m\u001b[0m\u001b[0m\n",
      "\u001b[1;31mNameError\u001b[0m: name '_a' is not defined"
     ]
    }
   ],
   "source": [
    "# File run_me.py -----------------------------\n",
    "\n",
    "from mod_a import *     # 실패할 것이다.\n",
    "\n",
    "print(_a)\n",
    "print(__b)"
   ]
  },
  {
   "cell_type": "code",
   "execution_count": 7,
   "metadata": {},
   "outputs": [
    {
     "name": "stdout",
     "output_type": "stream",
     "text": [
      "10\n",
      "100\n"
     ]
    }
   ],
   "source": [
    "# File run_me.py -----------------------------\n",
    "\n",
    "from mod_a import _a, __b \t# 이제 동작할 것이다.\n",
    "\n",
    "print(_a)\n",
    "print(__b)"
   ]
  },
  {
   "cell_type": "markdown",
   "metadata": {},
   "source": [
    "## 14.6 메인 모듈과 \\_\\_main\\_\\_ "
   ]
  },
  {
   "cell_type": "code",
   "execution_count": 4,
   "metadata": {},
   "outputs": [
    {
     "name": "stdout",
     "output_type": "stream",
     "text": [
      "My name is __main__.\n",
      "\n",
      "['In', 'Out', '_', '__', '___', '__builtin__', '__builtins__', '__doc__', '__loader__', '__name__', '__package__', '__spec__', '_dh', '_i', '_i1', '_i2', '_i3', '_i4', '_ih', '_ii', '_iii', '_oh', 'exit', 'get_ipython', 'mod_a', 'quit', 'x', 'y']\n"
     ]
    }
   ],
   "source": [
    "# File run_me.py -----------------------------------\n",
    "import mod_a\n",
    "\n",
    "x = 1\n",
    "y = 2\n",
    "\n",
    "print('My name is %s.\\n' % __name__)\n",
    "\n",
    "print(dir())"
   ]
  },
  {
   "cell_type": "code",
   "execution_count": 10,
   "metadata": {},
   "outputs": [
    {
     "name": "stdout",
     "output_type": "stream",
     "text": [
      "Hi, there, Python!\n"
     ]
    }
   ],
   "source": [
    "# File start_me_up.py -----------------------------\n",
    "\n",
    "def call_me_first():\n",
    "    print('Hi, there, Python!')\n",
    "\n",
    "if __name__ == '__main__':\n",
    "    call_me_first()"
   ]
  },
  {
   "cell_type": "markdown",
   "metadata": {},
   "source": [
    "## 14.7\t상호 탑재 문제 해결하기!"
   ]
  },
  {
   "cell_type": "code",
   "execution_count": 1,
   "metadata": {},
   "outputs": [
    {
     "name": "stdout",
     "output_type": "stream",
     "text": [
      "3\n"
     ]
    },
    {
     "ename": "AttributeError",
     "evalue": "module 'mod_a' has no attribute 'funcA'",
     "output_type": "error",
     "traceback": [
      "\u001b[1;31m---------------------------------------------------------------------------\u001b[0m",
      "\u001b[1;31mAttributeError\u001b[0m                            Traceback (most recent call last)",
      "\u001b[1;32m<ipython-input-1-e6a5db6a3e1b>\u001b[0m in \u001b[0;36m<module>\u001b[1;34m\u001b[0m\n\u001b[0;32m      1\u001b[0m \u001b[1;31m# File run_me.py -----------------------------------\u001b[0m\u001b[1;33m\u001b[0m\u001b[1;33m\u001b[0m\u001b[1;33m\u001b[0m\u001b[0m\n\u001b[1;32m----> 2\u001b[1;33m \u001b[1;32mimport\u001b[0m \u001b[0mmod_a\u001b[0m\u001b[1;33m\u001b[0m\u001b[1;33m\u001b[0m\u001b[0m\n\u001b[0m\u001b[0;32m      3\u001b[0m \u001b[0mmod_a\u001b[0m\u001b[1;33m.\u001b[0m\u001b[0mfuncA\u001b[0m\u001b[1;33m(\u001b[0m\u001b[1;36m5\u001b[0m\u001b[1;33m)\u001b[0m\u001b[1;33m\u001b[0m\u001b[1;33m\u001b[0m\u001b[0m\n",
      "\u001b[1;32mD:\\_supercharted_notebook\\mod_a.py\u001b[0m in \u001b[0;36m<module>\u001b[1;34m\u001b[0m\n\u001b[0;32m      2\u001b[0m \u001b[1;32mimport\u001b[0m \u001b[0mmod_b\u001b[0m\u001b[1;33m\u001b[0m\u001b[1;33m\u001b[0m\u001b[0m\n\u001b[0;32m      3\u001b[0m \u001b[1;33m\u001b[0m\u001b[0m\n\u001b[1;32m----> 4\u001b[1;33m \u001b[0mmod_b\u001b[0m\u001b[1;33m.\u001b[0m\u001b[0mfuncB\u001b[0m\u001b[1;33m(\u001b[0m\u001b[1;36m3\u001b[0m\u001b[1;33m)\u001b[0m\u001b[1;33m\u001b[0m\u001b[1;33m\u001b[0m\u001b[0m\n\u001b[0m\u001b[0;32m      5\u001b[0m \u001b[1;33m\u001b[0m\u001b[0m\n\u001b[0;32m      6\u001b[0m \u001b[1;32mdef\u001b[0m \u001b[0mfuncA\u001b[0m\u001b[1;33m(\u001b[0m\u001b[0mn\u001b[0m\u001b[1;33m)\u001b[0m\u001b[1;33m:\u001b[0m\u001b[1;33m\u001b[0m\u001b[1;33m\u001b[0m\u001b[0m\n",
      "\u001b[1;32mD:\\_supercharted_notebook\\mod_b.py\u001b[0m in \u001b[0;36mfuncB\u001b[1;34m(n)\u001b[0m\n\u001b[0;32m      4\u001b[0m \u001b[1;32mdef\u001b[0m \u001b[0mfuncB\u001b[0m\u001b[1;33m(\u001b[0m\u001b[0mn\u001b[0m\u001b[1;33m)\u001b[0m\u001b[1;33m:\u001b[0m\u001b[1;33m\u001b[0m\u001b[1;33m\u001b[0m\u001b[0m\n\u001b[0;32m      5\u001b[0m     \u001b[0mprint\u001b[0m\u001b[1;33m(\u001b[0m\u001b[0mn\u001b[0m\u001b[1;33m)\u001b[0m\u001b[1;33m\u001b[0m\u001b[1;33m\u001b[0m\u001b[0m\n\u001b[1;32m----> 6\u001b[1;33m     \u001b[0mmod_a\u001b[0m\u001b[1;33m.\u001b[0m\u001b[0mfuncA\u001b[0m\u001b[1;33m(\u001b[0m\u001b[0mn\u001b[0m\u001b[1;33m)\u001b[0m\u001b[1;33m\u001b[0m\u001b[1;33m\u001b[0m\u001b[0m\n\u001b[0m",
      "\u001b[1;31mAttributeError\u001b[0m: module 'mod_a' has no attribute 'funcA'"
     ]
    }
   ],
   "source": [
    "# File run_me.py -----------------------------------\n",
    "import mod_a\n",
    "mod_a.funcA(5)"
   ]
  }
 ],
 "metadata": {
  "kernelspec": {
   "display_name": "Python 3",
   "language": "python",
   "name": "python3"
  },
  "language_info": {
   "codemirror_mode": {
    "name": "ipython",
    "version": 3
   },
   "file_extension": ".py",
   "mimetype": "text/x-python",
   "name": "python",
   "nbconvert_exporter": "python",
   "pygments_lexer": "ipython3",
   "version": "3.6.8"
  }
 },
 "nbformat": 4,
 "nbformat_minor": 4
}

{
 "cells": [
  {
   "cell_type": "markdown",
   "metadata": {},
   "source": [
    "# D. 딕셔너리 메소드\n",
    "\n",
    "## dict_obj.clear()"
   ]
  },
  {
   "cell_type": "code",
   "execution_count": 31,
   "metadata": {},
   "outputs": [
    {
     "data": {
      "text/plain": [
       "{}"
      ]
     },
     "execution_count": 31,
     "metadata": {},
     "output_type": "execute_result"
    }
   ],
   "source": [
    "a_dict = {'test':0}\n",
    "a_dict.clear()\n",
    "a_dict"
   ]
  },
  {
   "cell_type": "markdown",
   "metadata": {},
   "source": [
    "## dict_obj.copy()"
   ]
  },
  {
   "cell_type": "code",
   "execution_count": 32,
   "metadata": {},
   "outputs": [],
   "source": [
    "a_dict = {'pi': 3.14159, 'e': 2.71828 }\n",
    "b_dict = a_dict.copy()"
   ]
  },
  {
   "cell_type": "markdown",
   "metadata": {},
   "source": [
    "## dict_obj.get(key_obj, default_val = None)"
   ]
  },
  {
   "cell_type": "code",
   "execution_count": 34,
   "metadata": {},
   "outputs": [
    {
     "name": "stdout",
     "output_type": "stream",
     "text": [
      "BrianO not found.\n"
     ]
    }
   ],
   "source": [
    "my_dict = {}\n",
    "\n",
    "v = my_dict.get('BrianO')\n",
    "if v:\n",
    "    print('Value is: ', v)\n",
    "else:\n",
    "    print('BrianO not found.')"
   ]
  },
  {
   "cell_type": "code",
   "execution_count": 35,
   "metadata": {},
   "outputs": [],
   "source": [
    "s = 'I am what I am and that is all that I am'\n",
    "wrd_list = s.split()\n",
    "hist_dict = {}"
   ]
  },
  {
   "cell_type": "code",
   "execution_count": 36,
   "metadata": {},
   "outputs": [
    {
     "name": "stdout",
     "output_type": "stream",
     "text": [
      "{'I': 3, 'am': 3, 'what': 1, 'and': 1, 'that': 2, 'is': 1, 'all': 1}\n"
     ]
    }
   ],
   "source": [
    "for wrd in wrd_list:\n",
    "    hist_dict[wrd] = hist_dict.get(wrd, 0) + 1\n",
    "print(hist_dict)"
   ]
  },
  {
   "cell_type": "markdown",
   "metadata": {},
   "source": [
    "## dict_obj.items()"
   ]
  },
  {
   "cell_type": "code",
   "execution_count": 37,
   "metadata": {},
   "outputs": [
    {
     "name": "stdout",
     "output_type": "stream",
     "text": [
      "dict_items([('Moe', 1.5), ('Larry', 1.0), ('BillG', 4.0)])\n"
     ]
    }
   ],
   "source": [
    "grades = {'Moe':1.5, 'Larry':1.0, 'BillG':4.0}\n",
    "print(grades.items())"
   ]
  },
  {
   "cell_type": "markdown",
   "metadata": {},
   "source": [
    "## dict_obj.keys()"
   ]
  },
  {
   "cell_type": "code",
   "execution_count": 38,
   "metadata": {},
   "outputs": [
    {
     "name": "stdout",
     "output_type": "stream",
     "text": [
      "dict_keys(['Moe', 'Larry', 'BillG'])\n"
     ]
    }
   ],
   "source": [
    "grades = {'Moe':1.5, 'Larry':1.0, 'BillG':4.0}\n",
    "print(grades.keys())"
   ]
  },
  {
   "cell_type": "markdown",
   "metadata": {},
   "source": [
    "## dict_obj.pop(key [, default_value])"
   ]
  },
  {
   "cell_type": "code",
   "execution_count": 39,
   "metadata": {},
   "outputs": [
    {
     "name": "stdout",
     "output_type": "stream",
     "text": [
      "4.0\n",
      "{'Moe': 1.5, 'Larry': 1.0}\n"
     ]
    }
   ],
   "source": [
    "grades = {'Moe':1.5, 'Larry':1.0, 'BillG':4.0}\n",
    "print(grades.pop('BillG', None)) \t\t         # 4.0 출력\n",
    "print(grades) \t\t\t\t                     # grade 출력 후 BillG 제거"
   ]
  },
  {
   "cell_type": "markdown",
   "metadata": {},
   "source": [
    "## dict_obj.popitem()"
   ]
  },
  {
   "cell_type": "code",
   "execution_count": 40,
   "metadata": {},
   "outputs": [
    {
     "name": "stdout",
     "output_type": "stream",
     "text": [
      "('BillG', 4.0)\n",
      "{'Moe': 1.5, 'Larry': 1.0}\n"
     ]
    }
   ],
   "source": [
    "grades = {'Moe':1.5, 'Larry':1.0, 'BillG':4.0}\n",
    "print(grades.popitem())\n",
    "print(grades)"
   ]
  },
  {
   "cell_type": "markdown",
   "metadata": {},
   "source": [
    "## dict_obj.setdefault(key, default_value=None)"
   ]
  },
  {
   "cell_type": "code",
   "execution_count": 41,
   "metadata": {},
   "outputs": [
    {
     "name": "stdout",
     "output_type": "stream",
     "text": [
      "4.0\n"
     ]
    }
   ],
   "source": [
    "print(grades.setdefault('Stephen Hawking', 4.0))"
   ]
  },
  {
   "cell_type": "markdown",
   "metadata": {},
   "source": [
    "## dict_obj.values()"
   ]
  },
  {
   "cell_type": "code",
   "execution_count": 42,
   "metadata": {},
   "outputs": [
    {
     "name": "stdout",
     "output_type": "stream",
     "text": [
      "dict_values([1.5, 1.0, 1.0, 4.0])\n"
     ]
    }
   ],
   "source": [
    "grades = {'Moe':1.5, 'Larry':1.0, 'Curly':1.0, 'BillG': 4.0}\n",
    "print(grades.values())"
   ]
  },
  {
   "cell_type": "markdown",
   "metadata": {},
   "source": [
    "## dict_obj.update(sequence)"
   ]
  },
  {
   "cell_type": "code",
   "execution_count": 43,
   "metadata": {},
   "outputs": [
    {
     "name": "stdout",
     "output_type": "stream",
     "text": [
      "{'Moe': 1.0, 'Curly': 1.0, 'BillG': 4.0, 'BrianO': 3.9, 'SillySue': 2.0}\n"
     ]
    }
   ],
   "source": [
    "grades1 = {'Moe':1.0, 'Curly':1.0}\n",
    "grades2 = {'BillG': 4.0}\n",
    "grades3 = [('BrianO', 3.9), ('SillySue', 2.0)]\n",
    "grades1.update(grades2)\n",
    "grades1.update(grades3)\n",
    "print(grades1)"
   ]
  },
  {
   "cell_type": "code",
   "execution_count": 44,
   "metadata": {},
   "outputs": [],
   "source": [
    "a = 5.5\n",
    "b = 5.5 * 100\n",
    "x = y = z = 0 \t\t\t    # x, y, z에 같은 값을 대입\n",
    "var1 = var2 = 1000 / 3 \t\t# var1, var2에 같은 값 대입"
   ]
  },
  {
   "cell_type": "code",
   "execution_count": 45,
   "metadata": {},
   "outputs": [],
   "source": [
    "x, y, z = 10, 20, 1000 / 3"
   ]
  },
  {
   "cell_type": "code",
   "execution_count": 46,
   "metadata": {},
   "outputs": [
    {
     "name": "stdout",
     "output_type": "stream",
     "text": [
      "{'a': 100, 'b': 200}\n"
     ]
    }
   ],
   "source": [
    "def main():\n",
    "    a, b = 100, 200\n",
    "    print(locals())\n",
    "\n",
    "main()"
   ]
  }
 ],
 "metadata": {
  "kernelspec": {
   "display_name": "Python 3",
   "language": "python",
   "name": "python3"
  },
  "language_info": {
   "codemirror_mode": {
    "name": "ipython",
    "version": 3
   },
   "file_extension": ".py",
   "mimetype": "text/x-python",
   "name": "python",
   "nbconvert_exporter": "python",
   "pygments_lexer": "ipython3",
   "version": "3.6.8"
  }
 },
 "nbformat": 4,
 "nbformat_minor": 4
}

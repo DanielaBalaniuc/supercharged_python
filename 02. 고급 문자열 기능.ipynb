{
 "cells": [
  {
   "cell_type": "markdown",
   "metadata": {},
   "source": [
    "# 2. 고급 문자열 기능"
   ]
  },
  {
   "cell_type": "markdown",
   "metadata": {},
   "source": [
    "- 시퀀스 자료형이란?\n",
    "  - 저장된 각 요소를 정수 Index를 이용하여 참조가 가능한 자료형\n",
    "  - 시퀀스(Sequence) 자료형: 문자열, 리스트, 튜플"
   ]
  },
  {
   "cell_type": "code",
   "execution_count": 1,
   "metadata": {},
   "outputs": [],
   "source": [
    "s = 'abcdef'\n",
    "L = [100, 200, 300]\n",
    "t = ('tuple', 'object', 1, 2)"
   ]
  },
  {
   "cell_type": "markdown",
   "metadata": {},
   "source": [
    "- 시퀀스 자료형이 가지는 공통적인 연산\n",
    "  - 인덱싱 (Indexing)\n",
    "  - 슬라이싱 (Slicing)\n",
    "  - 확장 슬라이싱 (Extended Slicing)\n",
    "  - 연결 (Concatenation)\n",
    "  - 반복 (Repitition)\n",
    "  - 멤버쉽 테스트 (Membership Test)\n",
    "  - 길이 정보 (Length)\n",
    "  - for ~ in 문"
   ]
  },
  {
   "cell_type": "markdown",
   "metadata": {},
   "source": [
    "#### 인덱싱"
   ]
  },
  {
   "cell_type": "code",
   "execution_count": 2,
   "metadata": {},
   "outputs": [
    {
     "name": "stdout",
     "output_type": "stream",
     "text": [
      "a\n",
      "b\n",
      "f\n",
      "\n",
      "200\n",
      "900\n"
     ]
    }
   ],
   "source": [
    "s = 'abcdef'\n",
    "l = [100, 200, 300]\n",
    "print(s[0])\n",
    "print(s[1])\n",
    "print(s[-1])\n",
    "print()\n",
    "print(l[1])\n",
    "l[1] = 900\n",
    "print(l[1])"
   ]
  },
  {
   "cell_type": "markdown",
   "metadata": {},
   "source": [
    "#### 슬라이싱"
   ]
  },
  {
   "cell_type": "code",
   "execution_count": 3,
   "metadata": {},
   "outputs": [
    {
     "name": "stdout",
     "output_type": "stream",
     "text": [
      "bc\n",
      "bcdef\n",
      "abcdef\n",
      "abcdef\n",
      "\n",
      "[100, 200]\n",
      "[100, 200]\n"
     ]
    }
   ],
   "source": [
    "s = 'abcdef'\n",
    "L = [100, 200, 300]\n",
    "\n",
    "print(s[1:3])\n",
    "print(s[1:])\n",
    "print(s[:])\n",
    "print(s[-100:100])\n",
    "print()\n",
    "print(L[:-1])     # L[:2] 와 동일\n",
    "print(L[:2])"
   ]
  },
  {
   "cell_type": "markdown",
   "metadata": {},
   "source": [
    "#### 확장 슬라이싱"
   ]
  },
  {
   "cell_type": "code",
   "execution_count": 4,
   "metadata": {},
   "outputs": [
    {
     "name": "stdout",
     "output_type": "stream",
     "text": [
      "ac\n",
      "dcba\n"
     ]
    }
   ],
   "source": [
    "s = 'abcd'\n",
    "print(s[::2])   #step:2 - 각 원소들 사이의 거리가 인덱스 기준으로 2가 됨\n",
    "print(s[::-1])  #step:-1 - 왼쪽 방향으로 1칸씩"
   ]
  },
  {
   "cell_type": "markdown",
   "metadata": {},
   "source": [
    "#### 연결하기"
   ]
  },
  {
   "cell_type": "code",
   "execution_count": 5,
   "metadata": {},
   "outputs": [
    {
     "name": "stdout",
     "output_type": "stream",
     "text": [
      "abcdef\n",
      "[1, 2, 3, 4, 5, 6]\n"
     ]
    }
   ],
   "source": [
    "s = 'abc' + 'def'\n",
    "print(s)\n",
    "\n",
    "L = [1,2,3] + [4,5,6]\n",
    "print(L)"
   ]
  },
  {
   "cell_type": "markdown",
   "metadata": {},
   "source": [
    "#### 반복하기"
   ]
  },
  {
   "cell_type": "code",
   "execution_count": 6,
   "metadata": {},
   "outputs": [
    {
     "name": "stdout",
     "output_type": "stream",
     "text": [
      "abcabcabcabc\n",
      "[1, 2, 3, 1, 2, 3]\n"
     ]
    }
   ],
   "source": [
    "s = 'abc'\n",
    "print(s * 4)\n",
    "\n",
    "L = [1, 2, 3]\n",
    "print(L * 2)"
   ]
  },
  {
   "cell_type": "markdown",
   "metadata": {},
   "source": [
    "#### 멤버쉽 테스트"
   ]
  },
  {
   "cell_type": "code",
   "execution_count": 7,
   "metadata": {},
   "outputs": [
    {
     "name": "stdout",
     "output_type": "stream",
     "text": [
      "True\n",
      "True\n",
      "False\n",
      "True\n"
     ]
    }
   ],
   "source": [
    "s = 'abcde'\n",
    "print('c' in s)\n",
    "\n",
    "t = (1, 2, 3, 4, 5)\n",
    "print(2 in t)\n",
    "print(10 in t)\n",
    "print(10 not in t)"
   ]
  },
  {
   "cell_type": "code",
   "execution_count": 8,
   "metadata": {},
   "outputs": [
    {
     "name": "stdout",
     "output_type": "stream",
     "text": [
      "True\n",
      "False\n",
      "False\n",
      "True\n"
     ]
    }
   ],
   "source": [
    "print('ab' in 'abcd')\n",
    "print('ad' in 'abcd')\n",
    "print(' ' in 'abcd')\n",
    "print(' ' in 'abcd ')"
   ]
  },
  {
   "cell_type": "markdown",
   "metadata": {},
   "source": [
    "#### 길이 정보"
   ]
  },
  {
   "cell_type": "code",
   "execution_count": 9,
   "metadata": {},
   "outputs": [
    {
     "name": "stdout",
     "output_type": "stream",
     "text": [
      "5\n",
      "3\n",
      "4\n"
     ]
    }
   ],
   "source": [
    "s = 'abcde'\n",
    "l = [1, 2, 3]\n",
    "t = (1, 2, 3, 4)\n",
    "print(len(s))\n",
    "print(len(l))\n",
    "print(len(t))"
   ]
  },
  {
   "cell_type": "markdown",
   "metadata": {},
   "source": [
    "#### for ~ in"
   ]
  },
  {
   "cell_type": "code",
   "execution_count": 10,
   "metadata": {},
   "outputs": [
    {
     "name": "stdout",
     "output_type": "stream",
     "text": [
      "a b c d "
     ]
    }
   ],
   "source": [
    "for c in 'abcd':\n",
    "    print(c, end=\" \")"
   ]
  },
  {
   "cell_type": "markdown",
   "metadata": {},
   "source": [
    "## 2.1 문자열은 불변이다"
   ]
  },
  {
   "cell_type": "code",
   "execution_count": 11,
   "metadata": {
    "scrolled": true
   },
   "outputs": [
    {
     "ename": "TypeError",
     "evalue": "'str' object does not support item assignment",
     "output_type": "error",
     "traceback": [
      "\u001b[0;31m---------------------------------------------------------------------------\u001b[0m",
      "\u001b[0;31mTypeError\u001b[0m                                 Traceback (most recent call last)",
      "\u001b[0;32m<ipython-input-11-706f92ca88b1>\u001b[0m in \u001b[0;36m<module>\u001b[0;34m\u001b[0m\n\u001b[1;32m      1\u001b[0m \u001b[0mmy_str\u001b[0m \u001b[0;34m=\u001b[0m \u001b[0;34m'예준아 안녕, 나는 수아야. '\u001b[0m\u001b[0;34m\u001b[0m\u001b[0;34m\u001b[0m\u001b[0m\n\u001b[0;32m----> 2\u001b[0;31m \u001b[0mmy_str\u001b[0m\u001b[0;34m[\u001b[0m\u001b[0;36m0\u001b[0m\u001b[0;34m]\u001b[0m \u001b[0;34m=\u001b[0m \u001b[0;34m'원'\u001b[0m                \u001b[0;31m# 에러!\u001b[0m\u001b[0;34m\u001b[0m\u001b[0;34m\u001b[0m\u001b[0m\n\u001b[0m",
      "\u001b[0;31mTypeError\u001b[0m: 'str' object does not support item assignment"
     ]
    }
   ],
   "source": [
    "my_str = '예준아 안녕, 나는 수아야. '\n",
    "my_str[0] = '원'                # 에러!"
   ]
  },
  {
   "cell_type": "code",
   "execution_count": 12,
   "metadata": {},
   "outputs": [],
   "source": [
    "my_str = '안녕'\n",
    "my_str = '안녕하세요'"
   ]
  },
  {
   "cell_type": "markdown",
   "metadata": {},
   "source": [
    "### 이스케이프 문자 (Escape Characters)"
   ]
  },
  {
   "cell_type": "markdown",
   "metadata": {},
   "source": [
    "<table>\n",
    "<thead>\n",
    "<tr>\n",
    "<th>이스케이프 문자</th>\n",
    "<th>의미</th>\n",
    "</tr>\n",
    "</thead>\n",
    "<tbody>\n",
    "<tr>\n",
    "<td>\\ \\</td>\n",
    "<td>\\</td>\n",
    "</tr>\n",
    "<tr>\n",
    "<td>\\'</td>\n",
    "<td>'</td>\n",
    "</tr>\n",
    "<tr>\n",
    "<td>\\\"</td>\n",
    "<td>\"</td>\n",
    "</tr>\n",
    "<tr>\n",
    "<td>\\b</td>\n",
    "<td>백스페이스</td>\n",
    "</tr>\n",
    "<tr>\n",
    "<td>\\n</td>\n",
    "<td>개행</td>\n",
    "</tr>\n",
    "<tr>\n",
    "<td>\\t</td>\n",
    "<td>탭</td>\n",
    "</tr>\n",
    "<tr>\n",
    "<td>\\0nn</td>\n",
    "<td>8진법 수 nn</td>\n",
    "</tr>\n",
    "<tr>\n",
    "<td>\\xnn</td>\n",
    "<td>16진법 수 nn</td>\n",
    "</tr>\n",
    "</tbody>\n",
    "</table>"
   ]
  },
  {
   "cell_type": "code",
   "execution_count": 13,
   "metadata": {},
   "outputs": [
    {
     "name": "stdout",
     "output_type": "stream",
     "text": [
      "\\abc\\\n",
      "\n",
      "abc\tdef\tghi\n",
      "\n",
      "a\n",
      "b\n",
      "c\n"
     ]
    }
   ],
   "source": [
    "print('\\\\abc\\\\')\n",
    "print()\n",
    "print('abc\\tdef\\tghi')\n",
    "print()\n",
    "print('a\\nb\\nc')"
   ]
  },
  {
   "cell_type": "markdown",
   "metadata": {},
   "source": [
    "## 2.2 바이너리를 포함한 숫자 변환"
   ]
  },
  {
   "cell_type": "code",
   "execution_count": 14,
   "metadata": {},
   "outputs": [
    {
     "name": "stdout",
     "output_type": "stream",
     "text": [
      "45\n",
      "45.0\n"
     ]
    }
   ],
   "source": [
    "s = '45'\n",
    "n = int(s)\n",
    "x = float(s)\n",
    "\n",
    "print(n)\n",
    "print(x)"
   ]
  },
  {
   "cell_type": "code",
   "execution_count": 17,
   "metadata": {},
   "outputs": [
    {
     "data": {
      "text/plain": [
       "17"
      ]
     },
     "execution_count": 17,
     "metadata": {},
     "output_type": "execute_result"
    }
   ],
   "source": [
    "n = int('10001', 2)      # 이진수로 변환\n",
    "#n = int('10001', base=2)      # 이진수로 변환\n",
    "n"
   ]
  },
  {
   "cell_type": "code",
   "execution_count": 18,
   "metadata": {},
   "outputs": [
    {
     "name": "stdout",
     "output_type": "stream",
     "text": [
      "8진수 775와 16진수 1E의 값: 509 30\n"
     ]
    }
   ],
   "source": [
    "n1 = int('775', 8)\n",
    "n2 = int('1E', 16)\n",
    "print('8진수 775와 16진수 1E의 값:', n1, n2)"
   ]
  },
  {
   "cell_type": "code",
   "execution_count": 6,
   "metadata": {},
   "outputs": [
    {
     "name": "stdout",
     "output_type": "stream",
     "text": [
      "1007 의 자릿수는 4 이다.\n"
     ]
    }
   ],
   "source": [
    "n = 1007\n",
    "s = str(n)          # '1007'로 변환\n",
    "print(n, '의 자릿수는', len(s), '이다.')"
   ]
  },
  {
   "cell_type": "markdown",
   "metadata": {},
   "source": [
    "## 2.3 문자열 연산자 (+, =, *, >, etc.)"
   ]
  },
  {
   "cell_type": "markdown",
   "metadata": {},
   "source": [
    "![](./tables_skill_up/t0201-1.PNG)"
   ]
  },
  {
   "cell_type": "markdown",
   "metadata": {},
   "source": [
    "![](./tables_skill_up/t0201-2.PNG)"
   ]
  },
  {
   "cell_type": "code",
   "execution_count": 7,
   "metadata": {},
   "outputs": [
    {
     "data": {
      "text/plain": [
       "True"
      ]
     },
     "execution_count": 7,
     "metadata": {},
     "output_type": "execute_result"
    }
   ],
   "source": [
    "dog1_str = '멍멍이'       # 값 대입\n",
    "dog2_str = dog1_str     # 별칭 생성\n",
    "\n",
    "dog1_str == dog2_str    # 참!"
   ]
  },
  {
   "cell_type": "code",
   "execution_count": 8,
   "metadata": {},
   "outputs": [
    {
     "data": {
      "text/plain": [
       "True"
      ]
     },
     "execution_count": 8,
     "metadata": {},
     "output_type": "execute_result"
    }
   ],
   "source": [
    "dog1_str == '멍멍이'      # 참!"
   ]
  },
  {
   "cell_type": "markdown",
   "metadata": {},
   "source": [
    "- casefold vs. lower\n",
    "  - https://www.tutorialsteacher.com/python/string-casefold"
   ]
  },
  {
   "cell_type": "code",
   "execution_count": 9,
   "metadata": {},
   "outputs": [
    {
     "name": "stdout",
     "output_type": "stream",
     "text": [
      "True\n"
     ]
    }
   ],
   "source": [
    "def compare_no_case(str1, str2):\n",
    "    return str1.casefold() == str2.casefold()\n",
    "\n",
    "print(compare_no_case('cat', 'CAT'))            # 참!"
   ]
  },
  {
   "cell_type": "code",
   "execution_count": 10,
   "metadata": {},
   "outputs": [
    {
     "name": "stdout",
     "output_type": "stream",
     "text": [
      "윌리엄 셰익스피어\n"
     ]
    }
   ],
   "source": [
    "first = '윌리엄'\n",
    "last = '셰익스피어'\n",
    "full_name = first + ' ' + last\n",
    "print(full_name)"
   ]
  },
  {
   "cell_type": "code",
   "execution_count": 11,
   "metadata": {},
   "outputs": [
    {
     "name": "stdout",
     "output_type": "stream",
     "text": [
      "______________________________\n"
     ]
    }
   ],
   "source": [
    "divider_str = '_' * 30\n",
    "print(divider_str)"
   ]
  },
  {
   "cell_type": "markdown",
   "metadata": {},
   "source": [
    "## 2.4 인덱싱과 슬라이싱"
   ]
  },
  {
   "cell_type": "markdown",
   "metadata": {},
   "source": [
    "![](./images_skill_up/2-1.PNG)"
   ]
  },
  {
   "cell_type": "markdown",
   "metadata": {},
   "source": [
    "![](./images_skill_up/2-2.PNG)"
   ]
  },
  {
   "cell_type": "markdown",
   "metadata": {},
   "source": [
    "![](./images_skill_up/2-3.PNG)"
   ]
  },
  {
   "cell_type": "markdown",
   "metadata": {},
   "source": [
    "![](./tables_skill_up/t0202.PNG)"
   ]
  },
  {
   "cell_type": "code",
   "execution_count": 12,
   "metadata": {},
   "outputs": [
    {
     "data": {
      "text/plain": [
       "'안'"
      ]
     },
     "execution_count": 12,
     "metadata": {},
     "output_type": "execute_result"
    }
   ],
   "source": [
    "a = '안녕하세요'\n",
    "a[0]"
   ]
  },
  {
   "cell_type": "code",
   "execution_count": 13,
   "metadata": {},
   "outputs": [
    {
     "name": "stdout",
     "output_type": "stream",
     "text": [
      "<class 'str'>\n"
     ]
    }
   ],
   "source": [
    "s = '안녕하세요'\n",
    "ch = s[0]\n",
    "print(type(ch))"
   ]
  },
  {
   "cell_type": "code",
   "execution_count": 14,
   "metadata": {},
   "outputs": [
    {
     "name": "stdout",
     "output_type": "stream",
     "text": [
      "\"헨리 8세\"\n"
     ]
    }
   ],
   "source": [
    "king_str = '\"헨리 8세\"'\n",
    "print(king_str)"
   ]
  },
  {
   "cell_type": "code",
   "execution_count": 15,
   "metadata": {},
   "outputs": [
    {
     "name": "stdout",
     "output_type": "stream",
     "text": [
      "헨리 8세\n"
     ]
    }
   ],
   "source": [
    "new_str = king_str[1:-1]\n",
    "print(new_str)"
   ]
  },
  {
   "cell_type": "code",
   "execution_count": 16,
   "metadata": {},
   "outputs": [
    {
     "name": "stdout",
     "output_type": "stream",
     "text": [
      "ooo\n"
     ]
    }
   ],
   "source": [
    "a_str = 'RoboCop'\n",
    "b_str = a_str[1::2] \t\t\t# 문자 간격이 2인 문자들을 반환한다.\n",
    "print(b_str)"
   ]
  },
  {
   "cell_type": "code",
   "execution_count": 17,
   "metadata": {},
   "outputs": [
    {
     "name": "stdout",
     "output_type": "stream",
     "text": [
      "ADGJN\n"
     ]
    }
   ],
   "source": [
    "a_str = 'AbcDefGhiJklNop'\n",
    "b_str = a_str[::3] \t\t\t# 문자 간경이 3인 문자들을 반환한다.\n",
    "print(b_str)"
   ]
  },
  {
   "cell_type": "code",
   "execution_count": 18,
   "metadata": {},
   "outputs": [
    {
     "name": "stdout",
     "output_type": "stream",
     "text": [
      "!wow boB woW\n",
      "racecaR\n"
     ]
    }
   ],
   "source": [
    "def reverse_str(s):\n",
    "    return s[::-1]\n",
    "\n",
    "print(reverse_str('Wow Bob wow!'))\n",
    "print(reverse_str('Racecar'))"
   ]
  },
  {
   "cell_type": "code",
   "execution_count": 19,
   "metadata": {},
   "outputs": [
    {
     "data": {
      "text/plain": [
       "''"
      ]
     },
     "execution_count": 19,
     "metadata": {},
     "output_type": "execute_result"
    }
   ],
   "source": [
    "a_str = 'cat'\n",
    "b_str = a_str[10:20] \t\t# b_str은 빈 문자열이 대입된다.\n",
    "b_str"
   ]
  },
  {
   "cell_type": "markdown",
   "metadata": {},
   "source": [
    "## 2.5 단일-문자 함수(문자 코드)"
   ]
  },
  {
   "cell_type": "code",
   "execution_count": 20,
   "metadata": {},
   "outputs": [
    {
     "name": "stdout",
     "output_type": "stream",
     "text": [
      "65\n"
     ]
    }
   ],
   "source": [
    "print(ord('A')) \t\t# 65 출력"
   ]
  },
  {
   "cell_type": "code",
   "execution_count": 21,
   "metadata": {},
   "outputs": [
    {
     "name": "stdout",
     "output_type": "stream",
     "text": [
      "A\n"
     ]
    }
   ],
   "source": [
    "print(chr(65)) \t\t# 'A' 출력"
   ]
  },
  {
   "cell_type": "code",
   "execution_count": 22,
   "metadata": {},
   "outputs": [
    {
     "name": "stdout",
     "output_type": "stream",
     "text": [
      "첫 문자가 모음이군요.\n"
     ]
    }
   ],
   "source": [
    "s = 'elephant'\n",
    "if s[0] in 'aeiou':\n",
    "    print('첫 문자가 모음이군요.')"
   ]
  },
  {
   "cell_type": "code",
   "execution_count": 23,
   "metadata": {},
   "outputs": [
    {
     "name": "stdout",
     "output_type": "stream",
     "text": [
      "첫 문자가 자음이군요.\n"
     ]
    }
   ],
   "source": [
    "s = 'Helephant'\n",
    "if s[0] not in 'aeiou':\n",
    "    print('첫 문자가 자음이군요.')"
   ]
  },
  {
   "cell_type": "code",
   "execution_count": 24,
   "metadata": {},
   "outputs": [],
   "source": [
    "if s[0] in 'aeiouAEIOU':\n",
    "    print('첫 문자가 모음이군요.')"
   ]
  },
  {
   "cell_type": "code",
   "execution_count": 25,
   "metadata": {},
   "outputs": [
    {
     "name": "stdout",
     "output_type": "stream",
     "text": [
      "첫 문자가 모음이군요.\n"
     ]
    }
   ],
   "source": [
    "s = 'elephant'\n",
    "if s[0].upper() in 'AEIOU':\n",
    "    print('첫 문자가 모음이군요.')"
   ]
  },
  {
   "cell_type": "code",
   "execution_count": 26,
   "metadata": {},
   "outputs": [
    {
     "data": {
      "text/plain": [
       "True"
      ]
     },
     "execution_count": 26,
     "metadata": {},
     "output_type": "execute_result"
    }
   ],
   "source": [
    "'bad' in 'a bad dog' \t\t# 참!"
   ]
  },
  {
   "cell_type": "code",
   "execution_count": 27,
   "metadata": {},
   "outputs": [
    {
     "name": "stdout",
     "output_type": "stream",
     "text": [
      "True\n",
      "False\n"
     ]
    }
   ],
   "source": [
    "print('' in 'cat') \t\t# True 출력\n",
    "print([] in [1, 2, 3]) \t\t# False 출력"
   ]
  },
  {
   "cell_type": "code",
   "execution_count": 28,
   "metadata": {},
   "outputs": [
    {
     "name": "stdout",
     "output_type": "stream",
     "text": [
      "C , type: <class 'str'>\n",
      "a , type: <class 'str'>\n",
      "t , type: <class 'str'>\n"
     ]
    }
   ],
   "source": [
    "s = 'Cat'\n",
    "for ch in s:\n",
    "    print(ch, ', type:', type(ch))"
   ]
  },
  {
   "cell_type": "code",
   "execution_count": 29,
   "metadata": {},
   "outputs": [
    {
     "name": "stdout",
     "output_type": "stream",
     "text": [
      "67 97 116 "
     ]
    }
   ],
   "source": [
    "s = 'Cat'\n",
    "for ch in s:\n",
    "    print(ord(ch), end=' ')"
   ]
  },
  {
   "cell_type": "markdown",
   "metadata": {},
   "source": [
    "## 2.6 “join”을 사용하여 만든 문자열"
   ]
  },
  {
   "cell_type": "code",
   "execution_count": 30,
   "metadata": {},
   "outputs": [
    {
     "data": {
      "text/plain": [
       "'Big Bad John'"
      ]
     },
     "execution_count": 30,
     "metadata": {},
     "output_type": "execute_result"
    }
   ],
   "source": [
    "a_str = 'Big '\n",
    "a_str = a_str + 'Bad '\n",
    "a_str = a_str + 'John'\n",
    "a_str"
   ]
  },
  {
   "cell_type": "code",
   "execution_count": 31,
   "metadata": {},
   "outputs": [
    {
     "data": {
      "text/plain": [
       "'Big Bad John'"
      ]
     },
     "execution_count": 31,
     "metadata": {},
     "output_type": "execute_result"
    }
   ],
   "source": [
    "a_str = 'Big '\n",
    "a_str += 'Bad '\n",
    "a_str += 'John'\n",
    "a_str"
   ]
  },
  {
   "cell_type": "code",
   "execution_count": 32,
   "metadata": {},
   "outputs": [
    {
     "data": {
      "text/plain": [
       "'ABCDEFGHIJKLMNOPQRSTUVWXYZ'"
      ]
     },
     "execution_count": 32,
     "metadata": {},
     "output_type": "execute_result"
    }
   ],
   "source": [
    "n = ord('A')\n",
    "s = ''\n",
    "for i in range(n, n + 26):\n",
    "    s += chr(i)\n",
    "s"
   ]
  },
  {
   "cell_type": "code",
   "execution_count": 19,
   "metadata": {},
   "outputs": [
    {
     "data": {
      "text/plain": [
       "'ABCDEFGHIJKLMNOPQRSTUVWXYZ'"
      ]
     },
     "execution_count": 19,
     "metadata": {},
     "output_type": "execute_result"
    }
   ],
   "source": [
    "n = ord('A')\n",
    "a_lst = [ ]\n",
    "for i in range(n, n + 26):\n",
    "    a_lst.append(chr(i))\n",
    "    \n",
    "s = ''.join(a_lst)\n",
    "s"
   ]
  },
  {
   "cell_type": "code",
   "execution_count": 34,
   "metadata": {},
   "outputs": [
    {
     "name": "stdout",
     "output_type": "stream",
     "text": [
      "John, Paul, George, Ringo\n"
     ]
    }
   ],
   "source": [
    "def print_nice(a_lst):\n",
    "    s = ''\n",
    "    for item in a_lst:\n",
    "        s += item + ', '\n",
    "        \n",
    "    if len(s) > 0: \t\t#  문자열 끝의 콤마+빈칸 제거\n",
    "        s = s[:-2]\n",
    "        \n",
    "    print(s)\n",
    "    \n",
    "\n",
    "print_nice(['John', 'Paul', 'George', 'Ringo'])"
   ]
  },
  {
   "cell_type": "code",
   "execution_count": 35,
   "metadata": {},
   "outputs": [
    {
     "name": "stdout",
     "output_type": "stream",
     "text": [
      "John, Paul, George, Ringo\n"
     ]
    }
   ],
   "source": [
    "def print_nice(a_lst):\n",
    "    print(', '.join(a_lst))\n",
    "    \n",
    "    \n",
    "print_nice(['John', 'Paul', 'George', 'Ringo'])"
   ]
  },
  {
   "cell_type": "code",
   "execution_count": 15,
   "metadata": {},
   "outputs": [
    {
     "name": "stdout",
     "output_type": "stream",
     "text": [
      "['spam', 'ham', 'egg', 'cheese']\n",
      "\n",
      "<class 'str'>\n",
      "spam:ham:egg:cheese\n",
      "\n",
      "spam,ham,egg,cheese\n",
      "\n",
      "spam\n",
      "ham\n",
      "egg\n",
      "cheese\n",
      "\n"
     ]
    }
   ],
   "source": [
    "u = 'spam ham\\tegg\\ncheese'\n",
    "t = u.split()     # 문자열 내의 단어 리스트    \n",
    "print(t)\n",
    "print()\n",
    "\n",
    "t2 = ':'.join(t)  # 리스트 t 내부의 각 원소들을 ':'로 연결한 문자열 반환\n",
    "print(type(t2))   # <type 'str'>\n",
    "print(t2)\n",
    "print()\n",
    "\n",
    "t3 = \",\".join(t)  # 리스트 t 내부의 각 원소들을 ','으로 연결한 문자열 반환\n",
    "print(t3)\n",
    "print()\n",
    "\n",
    "t4 = '\\n'.join(t) # 리스트 t 내부의 각 원소들을 '\\n'으로 연결한 문자열 반환\n",
    "print(t4)\n",
    "print()"
   ]
  },
  {
   "cell_type": "markdown",
   "metadata": {},
   "source": [
    "## 2.7 주요 문자열 함수"
   ]
  },
  {
   "cell_type": "code",
   "execution_count": 36,
   "metadata": {},
   "outputs": [
    {
     "name": "stdout",
     "output_type": "stream",
     "text": [
      "Jaxx has 4 letters.\n",
      "Cutie Pie has 9 letters.\n"
     ]
    }
   ],
   "source": [
    "dog1 = 'Jaxx'\n",
    "dog2 = 'Cutie Pie'\n",
    "print(dog1, 'has', len(dog1), 'letters.')\n",
    "print(dog2, 'has', len(dog2), 'letters.')"
   ]
  },
  {
   "cell_type": "code",
   "execution_count": 20,
   "metadata": {},
   "outputs": [
    {
     "data": {
      "text/plain": [
       "<reversed at 0x7face82af940>"
      ]
     },
     "execution_count": 20,
     "metadata": {},
     "output_type": "execute_result"
    }
   ],
   "source": [
    "reversed('Wow,Bob,wow!')"
   ]
  },
  {
   "cell_type": "code",
   "execution_count": 21,
   "metadata": {},
   "outputs": [
    {
     "data": {
      "text/plain": [
       "['!', 'w', 'o', 'w', ',', 'b', 'o', 'B', ',', 'w', 'o', 'W']"
      ]
     },
     "execution_count": 21,
     "metadata": {},
     "output_type": "execute_result"
    }
   ],
   "source": [
    "list(reversed('Wow,Bob,wow!'))"
   ]
  },
  {
   "cell_type": "code",
   "execution_count": 22,
   "metadata": {},
   "outputs": [
    {
     "data": {
      "text/plain": [
       "['!', ',', ',', 'B', 'W', 'b', 'o', 'o', 'o', 'w', 'w', 'w']"
      ]
     },
     "execution_count": 22,
     "metadata": {},
     "output_type": "execute_result"
    }
   ],
   "source": [
    "sorted('Wow,Bob,wow!')"
   ]
  },
  {
   "cell_type": "code",
   "execution_count": 23,
   "metadata": {},
   "outputs": [
    {
     "name": "stdout",
     "output_type": "stream",
     "text": [
      "!wow,boB,woW\n",
      "!,,BWbooowww\n"
     ]
    }
   ],
   "source": [
    "a_str = ''.join(reversed('Wow,Bob,wow!'))\n",
    "print(a_str)\n",
    "\n",
    "b_str = ''.join(sorted('Wow,Bob,wow!'))\n",
    "print(b_str)"
   ]
  },
  {
   "cell_type": "markdown",
   "metadata": {},
   "source": [
    "## 2.8 이진수, 십진수와 16진수 변환 함수"
   ]
  },
  {
   "cell_type": "code",
   "execution_count": 24,
   "metadata": {},
   "outputs": [
    {
     "data": {
      "text/plain": [
       "str"
      ]
     },
     "execution_count": 24,
     "metadata": {},
     "output_type": "execute_result"
    }
   ],
   "source": [
    "type(bin(10))"
   ]
  },
  {
   "cell_type": "code",
   "execution_count": 25,
   "metadata": {},
   "outputs": [
    {
     "data": {
      "text/plain": [
       "str"
      ]
     },
     "execution_count": 25,
     "metadata": {},
     "output_type": "execute_result"
    }
   ],
   "source": [
    "type(oct(10))"
   ]
  },
  {
   "cell_type": "code",
   "execution_count": 26,
   "metadata": {},
   "outputs": [
    {
     "data": {
      "text/plain": [
       "str"
      ]
     },
     "execution_count": 26,
     "metadata": {},
     "output_type": "execute_result"
    }
   ],
   "source": [
    "type(hex(10))"
   ]
  },
  {
   "cell_type": "code",
   "execution_count": 38,
   "metadata": {},
   "outputs": [
    {
     "name": "stdout",
     "output_type": "stream",
     "text": [
      "0b1010 0o12 0xa\n"
     ]
    }
   ],
   "source": [
    "print(bin(10), oct(10), hex(10))"
   ]
  },
  {
   "cell_type": "markdown",
   "metadata": {},
   "source": [
    "## 2.9 간단한 불리언 (‘is’) 메서드"
   ]
  },
  {
   "cell_type": "markdown",
   "metadata": {},
   "source": [
    "![](./tables_skill_up/t0203.PNG)"
   ]
  },
  {
   "cell_type": "code",
   "execution_count": 30,
   "metadata": {},
   "outputs": [
    {
     "name": "stdout",
     "output_type": "stream",
     "text": [
      "True\n",
      "True\n"
     ]
    }
   ],
   "source": [
    "print(\"01234\".isdecimal())\n",
    "print(\"01234\".isdigit())"
   ]
  },
  {
   "cell_type": "code",
   "execution_count": 31,
   "metadata": {},
   "outputs": [
    {
     "data": {
      "text/plain": [
       "'²'"
      ]
     },
     "execution_count": 31,
     "metadata": {},
     "output_type": "execute_result"
    }
   ],
   "source": [
    "'\\u00B2'"
   ]
  },
  {
   "cell_type": "code",
   "execution_count": 32,
   "metadata": {},
   "outputs": [
    {
     "name": "stdout",
     "output_type": "stream",
     "text": [
      "False\n",
      "True\n"
     ]
    }
   ],
   "source": [
    "print(\"\\u00B2\".isdecimal())\n",
    "print(\"\\u00B2\".isdigit())"
   ]
  },
  {
   "cell_type": "code",
   "execution_count": 33,
   "metadata": {},
   "outputs": [
    {
     "name": "stdout",
     "output_type": "stream",
     "text": [
      "First letter is uppercase.\n",
      "Not all chars are uppercase.\n"
     ]
    }
   ],
   "source": [
    "h_str = 'Hello'\n",
    "if h_str[0].isupper():\n",
    "    print('First letter is uppercase.')\n",
    "    \n",
    "if h_str.isupper():\n",
    "    print('All chars are uppercase.')\n",
    "else:\n",
    "    print('Not all chars are uppercase.')"
   ]
  },
  {
   "cell_type": "code",
   "execution_count": 34,
   "metadata": {},
   "outputs": [
    {
     "name": "stdout",
     "output_type": "stream",
     "text": [
      "True\n",
      "True\n",
      "True\n",
      "True\n",
      "True\n",
      "True\n",
      "True\n"
     ]
    }
   ],
   "source": [
    "print('1234'.isdigit()) # 문자열 내의 Character들이 모두 숫자인가?\n",
    "\n",
    "print('abcd'.isalpha()) # 문자열 내의 Character들이 모두 영문자인가?\n",
    "\n",
    "print('1abc234'.isalnum()) # 문자열 내의 Character들이 모두 영문자 또는 숫자인가? \n",
    "\n",
    "print('abc'.islower()) # 문자열 내의 Character들이 모두 소문자인가?\n",
    "\n",
    "print('ABC'.isupper()) # 문자열 내의 Character들이 모두 대문자인가?\n",
    "\n",
    "print('\\t\\r\\n'.isspace()) # 문자열 내의 Character들이 모두 공백 문자인가?\n",
    "\n",
    "print('This Is A Title'.istitle()) # 문자열이 Title 형식 (각 단어의 첫글자가 대문자)인가?"
   ]
  },
  {
   "cell_type": "markdown",
   "metadata": {},
   "source": [
    "## 2.10 대소문자 변환 메서드"
   ]
  },
  {
   "cell_type": "code",
   "execution_count": 35,
   "metadata": {},
   "outputs": [
    {
     "data": {
      "text/plain": [
       "\"I'M HENRY VIII, I AM!\""
      ]
     },
     "execution_count": 35,
     "metadata": {},
     "output_type": "execute_result"
    }
   ],
   "source": [
    "my_str = \"I'm Henry VIII, I am!\"\n",
    "new_str = my_str.upper()\n",
    "my_str = new_str\n",
    "my_str"
   ]
  },
  {
   "cell_type": "code",
   "execution_count": 36,
   "metadata": {},
   "outputs": [
    {
     "name": "stdout",
     "output_type": "stream",
     "text": [
      "i'M hENRY viii, i AM!\n"
     ]
    }
   ],
   "source": [
    "my_str = \"I'm Henry VIII, I am!\"\n",
    "my_str = my_str.swapcase()\n",
    "print(my_str)"
   ]
  },
  {
   "cell_type": "markdown",
   "metadata": {},
   "source": [
    "## 2.11 검색-교체 메서드"
   ]
  },
  {
   "cell_type": "code",
   "execution_count": 37,
   "metadata": {},
   "outputs": [
    {
     "name": "stdout",
     "output_type": "stream",
     "text": [
      "True\n",
      "False\n",
      "\n",
      "True\n",
      "True\n",
      "\n"
     ]
    }
   ],
   "source": [
    "s = 'i like programming, i like swimming.'\n",
    "print(s.startswith('i like')) # 'i like'로 시작하는 문자열인지 판단\n",
    "print(s.startswith('I like')) # 대소문자 구별\n",
    "print()\n",
    "\n",
    "print(s.endswith('swimming.')) # 'swimming.'로 끝나는 문자열인지 판단\n",
    "print(s.startswith('progr', 7)) # 7번째 문자열이 'progr'로 시작하는지 판단\n",
    "print()"
   ]
  },
  {
   "cell_type": "code",
   "execution_count": 39,
   "metadata": {},
   "outputs": [
    {
     "name": "stdout",
     "output_type": "stream",
     "text": [
      "2000\n"
     ]
    }
   ],
   "source": [
    "romstr = 'MMXV'\n",
    "amt = 0\n",
    "\n",
    "while romstr.startswith('M'):\n",
    "    amt += 1000             # 합계를 위해1,000을 더한다.\n",
    "    romstr = romstr[1:] \t# 첫 번째 문자를 제거한다.\n",
    "    \n",
    "print(amt)"
   ]
  },
  {
   "cell_type": "code",
   "execution_count": 40,
   "metadata": {},
   "outputs": [
    {
     "data": {
      "text/plain": [
       "True"
      ]
     },
     "execution_count": 40,
     "metadata": {},
     "output_type": "execute_result"
    }
   ],
   "source": [
    "me_str = 'John Bennett, PhD'\n",
    "is_doc = me_str.endswith('PhD')\n",
    "is_doc"
   ]
  },
  {
   "cell_type": "code",
   "execution_count": 42,
   "metadata": {},
   "outputs": [
    {
     "name": "stdout",
     "output_type": "stream",
     "text": [
      "3\n"
     ]
    }
   ],
   "source": [
    "frank_str = 'doo be doo be doo...'\n",
    "\n",
    "n = frank_str.count('doo')\n",
    "print(n) \t\t\t\t# 3 출력"
   ]
  },
  {
   "cell_type": "code",
   "execution_count": 62,
   "metadata": {},
   "outputs": [
    {
     "name": "stdout",
     "output_type": "stream",
     "text": [
      "Help on built-in function count:\n",
      "\n",
      "count(...) method of builtins.str instance\n",
      "    S.count(sub[, start[, end]]) -> int\n",
      "    \n",
      "    Return the number of non-overlapping occurrences of substring sub in\n",
      "    string S[start:end].  Optional arguments start and end are\n",
      "    interpreted as in slice notation.\n",
      "\n"
     ]
    }
   ],
   "source": [
    "help(frank_str.count)"
   ]
  },
  {
   "cell_type": "code",
   "execution_count": 57,
   "metadata": {},
   "outputs": [
    {
     "name": "stdout",
     "output_type": "stream",
     "text": [
      "2\n",
      "1\n"
     ]
    }
   ],
   "source": [
    "print(frank_str.count('doo', 1)) \t\t\t# 2 출력\n",
    "print(frank_str.count('doo', 1, 10)) \t\t# 1 출력"
   ]
  },
  {
   "cell_type": "code",
   "execution_count": 60,
   "metadata": {},
   "outputs": [
    {
     "name": "stdout",
     "output_type": "stream",
     "text": [
      "2\n",
      "\n",
      "2\n",
      "7\n",
      "7\n",
      "-1\n",
      "\n",
      "22\n",
      "-1\n"
     ]
    }
   ],
   "source": [
    "s = 'i like programming, i like swimming.'\n",
    "print(s.count('like'))       # 'like' 문자열이 출현한 횟수를 반환\n",
    "print()\n",
    "print(s.find('like'))        # 'like'의 첫글자의 인덱스인 위치(offset)를 반환\n",
    "print(s.find('programming')) # 'programming'의 첫글자 위치를 반환\n",
    "print(s.find('programmin'))  # 'programmin'의 첫글자 위치를 반환\n",
    "print(s.find('programmii'))  # 'programmii' 단어는 없기 때문에 -1 반환\n",
    "print()\n",
    "print(s.find('like', 3))     # offset=3 부터 'like'을 검색하여 'like'의 첫글자 위치 반환 \n",
    "print(s.find('my'))          # 'my' 단어는 없기 때문에 -1 반환"
   ]
  },
  {
   "cell_type": "code",
   "execution_count": 46,
   "metadata": {},
   "outputs": [
    {
     "name": "stdout",
     "output_type": "stream",
     "text": [
      "0\n",
      "-1\n"
     ]
    }
   ],
   "source": [
    "frank_str = 'doo be doo be doo...'\n",
    "print(frank_str.find('doo')) \t\t\t# 0 출력\n",
    "print(frank_str.find('doob')) \t\t\t# -1 출력"
   ]
  },
  {
   "cell_type": "code",
   "execution_count": 63,
   "metadata": {},
   "outputs": [
    {
     "name": "stdout",
     "output_type": "stream",
     "text": [
      "0 7 14 "
     ]
    }
   ],
   "source": [
    "frank_str = 'doo be doo be doo...'\n",
    "n = -1\n",
    "\n",
    "while True:\n",
    "    n = frank_str.find('doo', n + 1)\n",
    "\n",
    "    if n == -1:\n",
    "        break\n",
    "\n",
    "    print(n, end=' ')"
   ]
  },
  {
   "cell_type": "code",
   "execution_count": 64,
   "metadata": {},
   "outputs": [
    {
     "name": "stdout",
     "output_type": "stream",
     "text": [
      "14\n"
     ]
    }
   ],
   "source": [
    "frank_str = 'doo be doo be doo...'\n",
    "print(frank_str.rfind('doo')) \t\t\t# 14 출력"
   ]
  },
  {
   "cell_type": "code",
   "execution_count": 65,
   "metadata": {},
   "outputs": [
    {
     "data": {
      "text/plain": [
       "'25 Hues of Gray'"
      ]
     },
     "execution_count": 65,
     "metadata": {},
     "output_type": "execute_result"
    }
   ],
   "source": [
    "title = '25 Hues of Grey'\n",
    "new_title = title.replace('Grey', 'Gray')\n",
    "new_title"
   ]
  },
  {
   "cell_type": "code",
   "execution_count": 66,
   "metadata": {},
   "outputs": [
    {
     "data": {
      "text/plain": [
       "'Grayer Into Gray'"
      ]
     },
     "execution_count": 66,
     "metadata": {},
     "output_type": "execute_result"
    }
   ],
   "source": [
    "title = 'Greyer Into Grey'\n",
    "new_title = title.replace('Grey', 'Gray')\n",
    "new_title"
   ]
  },
  {
   "cell_type": "markdown",
   "metadata": {},
   "source": [
    "## 2.12 ‘split’을 활용한 입력 값 쪼개기"
   ]
  },
  {
   "cell_type": "code",
   "execution_count": 67,
   "metadata": {},
   "outputs": [
    {
     "data": {
      "text/plain": [
       "['Moe', 'Larry', 'Curly', 'Shemp']"
      ]
     },
     "execution_count": 67,
     "metadata": {},
     "output_type": "execute_result"
    }
   ],
   "source": [
    "stooge_list = 'Moe Larry Curly Shemp'.split()\n",
    "stooge_list"
   ]
  },
  {
   "cell_type": "code",
   "execution_count": 68,
   "metadata": {},
   "outputs": [
    {
     "data": {
      "text/plain": [
       "['Moe', 'Larry', 'Curly', 'Shemp']"
      ]
     },
     "execution_count": 68,
     "metadata": {},
     "output_type": "execute_result"
    }
   ],
   "source": [
    "stooge_list = 'Moe    Larry Curly  Shemp'.split()\n",
    "stooge_list"
   ]
  },
  {
   "cell_type": "code",
   "execution_count": 69,
   "metadata": {},
   "outputs": [
    {
     "data": {
      "text/plain": [
       "['Moe', '', '', '', 'Larry', 'Curly', '', 'Shemp']"
      ]
     },
     "execution_count": 69,
     "metadata": {},
     "output_type": "execute_result"
    }
   ],
   "source": [
    "stooge_list = 'Moe    Larry Curly  Shemp'.split(' ')\n",
    "stooge_list"
   ]
  },
  {
   "cell_type": "code",
   "execution_count": 70,
   "metadata": {},
   "outputs": [
    {
     "data": {
      "text/plain": [
       "['Moe', 'Larry', 'Curly', 'Shemp']"
      ]
     },
     "execution_count": 70,
     "metadata": {},
     "output_type": "execute_result"
    }
   ],
   "source": [
    "stooge_list = 'Moe, Larry, Curly, Shemp'.split(', ')\n",
    "stooge_list"
   ]
  },
  {
   "cell_type": "code",
   "execution_count": 71,
   "metadata": {},
   "outputs": [
    {
     "data": {
      "text/plain": [
       "['Moe', ' Larry', ' Curly', ' Shemp']"
      ]
     },
     "execution_count": 71,
     "metadata": {},
     "output_type": "execute_result"
    }
   ],
   "source": [
    "stooge_list = 'Moe, Larry, Curly, Shemp'.split(',')\n",
    "stooge_list"
   ]
  },
  {
   "cell_type": "markdown",
   "metadata": {},
   "source": [
    "## 2.13 앞/뒤 문자 제거하기(stripping)"
   ]
  },
  {
   "cell_type": "markdown",
   "metadata": {},
   "source": [
    "![](./images_skill_up/2-4.PNG)"
   ]
  },
  {
   "cell_type": "code",
   "execution_count": 72,
   "metadata": {},
   "outputs": [
    {
     "data": {
      "text/plain": [
       "'Will Shakes'"
      ]
     },
     "execution_count": 72,
     "metadata": {},
     "output_type": "execute_result"
    }
   ],
   "source": [
    "name_str = ' Will Shakes '\n",
    "new_str = name_str.strip()\n",
    "new_str"
   ]
  },
  {
   "cell_type": "markdown",
   "metadata": {},
   "source": [
    "## 2.14 자리맞춤 메서드(justification)"
   ]
  },
  {
   "cell_type": "code",
   "execution_count": 73,
   "metadata": {},
   "outputs": [
    {
     "name": "stdout",
     "output_type": "stream",
     "text": [
      "##Help!###\n"
     ]
    }
   ],
   "source": [
    "new_str = 'Help!'.center(10, '#')\n",
    "print(new_str)"
   ]
  },
  {
   "cell_type": "code",
   "execution_count": 74,
   "metadata": {},
   "outputs": [
    {
     "name": "stdout",
     "output_type": "stream",
     "text": [
      "000750\n"
     ]
    }
   ],
   "source": [
    "new_str = '750'.rjust(6, '0')\n",
    "print(new_str)"
   ]
  },
  {
   "cell_type": "code",
   "execution_count": 81,
   "metadata": {},
   "outputs": [
    {
     "name": "stdout",
     "output_type": "stream",
     "text": [
      "750000\n"
     ]
    }
   ],
   "source": [
    "new_str = '750'.ljust(6, '0')\n",
    "print(new_str)"
   ]
  },
  {
   "cell_type": "code",
   "execution_count": 75,
   "metadata": {},
   "outputs": [
    {
     "name": "stdout",
     "output_type": "stream",
     "text": [
      "0000012\n"
     ]
    }
   ],
   "source": [
    "s = '12'\n",
    "print(s.zfill(7))"
   ]
  },
  {
   "cell_type": "markdown",
   "metadata": {},
   "source": [
    "- How zfill() works with Sign Prefix?"
   ]
  },
  {
   "cell_type": "code",
   "execution_count": 78,
   "metadata": {},
   "outputs": [
    {
     "data": {
      "text/plain": [
       "'-0003'"
      ]
     },
     "execution_count": 78,
     "metadata": {},
     "output_type": "execute_result"
    }
   ],
   "source": [
    "'-3'.zfill(5)"
   ]
  },
  {
   "cell_type": "code",
   "execution_count": 79,
   "metadata": {},
   "outputs": [
    {
     "data": {
      "text/plain": [
       "'000-3'"
      ]
     },
     "execution_count": 79,
     "metadata": {},
     "output_type": "execute_result"
    }
   ],
   "source": [
    "'-3'.rjust(5, '0')"
   ]
  },
  {
   "cell_type": "code",
   "execution_count": 80,
   "metadata": {},
   "outputs": [
    {
     "name": "stdout",
     "output_type": "stream",
     "text": [
      "-0000290\n",
      "+0000290\n",
      "-0000000-random+text\n"
     ]
    }
   ],
   "source": [
    "number = \"-290\"\n",
    "print(number.zfill(8))\n",
    "\n",
    "number = \"+290\"\n",
    "print(number.zfill(8))\n",
    "\n",
    "text = \"--random+text\"\n",
    "print(text.zfill(20))"
   ]
  }
 ],
 "metadata": {
  "kernelspec": {
   "display_name": "Python 3",
   "language": "python",
   "name": "python3"
  },
  "language_info": {
   "codemirror_mode": {
    "name": "ipython",
    "version": 3
   },
   "file_extension": ".py",
   "mimetype": "text/x-python",
   "name": "python",
   "nbconvert_exporter": "python",
   "pygments_lexer": "ipython3",
   "version": "3.6.8"
  }
 },
 "nbformat": 4,
 "nbformat_minor": 2
}

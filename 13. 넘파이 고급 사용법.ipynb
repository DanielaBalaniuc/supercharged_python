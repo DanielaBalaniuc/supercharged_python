{
 "cells": [
  {
   "cell_type": "markdown",
   "metadata": {},
   "source": [
    "# 13. 넘파이 고급 사용법"
   ]
  },
  {
   "cell_type": "markdown",
   "metadata": {},
   "source": [
    "## 13.1\t numpy의 고급 수학 연산"
   ]
  },
  {
   "cell_type": "markdown",
   "metadata": {},
   "source": [
    "<img src=\"tables_skill_up/t1301-1.PNG\">"
   ]
  },
  {
   "cell_type": "markdown",
   "metadata": {},
   "source": [
    "<img src=\"tables_skill_up/t1301-2.PNG\">"
   ]
  },
  {
   "cell_type": "code",
   "execution_count": 1,
   "metadata": {},
   "outputs": [
    {
     "data": {
      "text/plain": [
       "array([0.00000000e+00, 3.42020143e-01, 6.42787610e-01, 8.66025404e-01,\n",
       "       9.84807753e-01, 9.84807753e-01, 8.66025404e-01, 6.42787610e-01,\n",
       "       3.42020143e-01, 1.22464680e-16])"
      ]
     },
     "execution_count": 1,
     "metadata": {},
     "output_type": "execute_result"
    }
   ],
   "source": [
    "import numpy as np\n",
    "A = np.linspace(0, np.pi, 10)\n",
    "B = np.empty(10)\n",
    "np.sin(A, out=B)"
   ]
  },
  {
   "cell_type": "code",
   "execution_count": 2,
   "metadata": {},
   "outputs": [
    {
     "data": {
      "text/plain": [
       "array([0.00000000e+00, 3.42020143e-01, 6.42787610e-01, 8.66025404e-01,\n",
       "       9.84807753e-01, 9.84807753e-01, 8.66025404e-01, 6.42787610e-01,\n",
       "       3.42020143e-01, 1.22464680e-16])"
      ]
     },
     "execution_count": 2,
     "metadata": {},
     "output_type": "execute_result"
    }
   ],
   "source": [
    "B"
   ]
  },
  {
   "cell_type": "code",
   "execution_count": 3,
   "metadata": {},
   "outputs": [
    {
     "data": {
      "text/plain": [
       "array([0.00000000e+00, 3.42020143e-01, 6.42787610e-01, 8.66025404e-01,\n",
       "       9.84807753e-01, 9.84807753e-01, 8.66025404e-01, 6.42787610e-01,\n",
       "       3.42020143e-01, 1.22464680e-16])"
      ]
     },
     "execution_count": 3,
     "metadata": {},
     "output_type": "execute_result"
    }
   ],
   "source": [
    "import numpy as np\n",
    "A = np.linspace(0, np.pi, 10)\n",
    "B = np.sin(A)\n",
    "B"
   ]
  },
  {
   "cell_type": "code",
   "execution_count": 4,
   "metadata": {},
   "outputs": [
    {
     "name": "stdout",
     "output_type": "stream",
     "text": [
      "sin(x, /, out=None, *, where=True, casting='same_kind', order='K', dtype=None, subok=True[, signature, extobj])\n",
      "\n",
      "Trigonometric sine, element-wise.\n",
      "\n",
      "Parameters\n",
      "----------\n",
      "x : array_like\n",
      "    Angle, in radians (:math:`2 \\pi` rad equals 360 degrees).\n",
      "out : ndarray, None, or tuple of ndarray and None, optional\n",
      "    A location into which the result is stored. If provided, it must have\n",
      "    a shape that the inputs broadcast to. If not provided or `None`,\n",
      "    a freshly-allocated array is returned. A tuple (possible only as a\n",
      "    keyword argument) must have length equal to the number of outputs.\n",
      "where : array_like, optional\n",
      "    Values of True indicate to calculate the ufunc at that position, values\n",
      "    of False indicate to leave the value in the output alone.\n",
      "**kwargs\n",
      "    For other keyword-only arguments, see the\n",
      "    :ref:`ufunc docs <ufuncs.kwargs>`.\n",
      "\n",
      "Returns\n",
      "-------\n",
      "y : array_like\n",
      "    The sine of each element of x.\n",
      "    This is a scalar if `x` is a scalar.\n",
      "\n",
      "See Also\n",
      "--------\n",
      "arcsin, sinh, cos\n",
      "\n",
      "Notes\n",
      "-----\n",
      "The sine is one of the fundamental functions of trigonometry (the\n",
      "mathematical study of triangles).  Consider a circle of radius 1\n",
      "centered on the origin.  A ray comes in from the :math:`+x` axis, makes\n",
      "an angle at the origin (measured counter-clockwise from that axis), and\n",
      "departs from the origin.  The :math:`y` coordinate of the outgoing\n",
      "ray's intersection with the unit circle is the sine of that angle.  It\n",
      "ranges from -1 for :math:`x=3\\pi / 2` to +1 for :math:`\\pi / 2.`  The\n",
      "function has zeroes where the angle is a multiple of :math:`\\pi`.\n",
      "Sines of angles between :math:`\\pi` and :math:`2\\pi` are negative.\n",
      "The numerous properties of the sine and related functions are included\n",
      "in any standard trigonometry text.\n",
      "\n",
      "Examples\n",
      "--------\n",
      "Print sine of one angle:\n",
      "\n",
      ">>> np.sin(np.pi/2.)\n",
      "1.0\n",
      "\n",
      "Print sines of an array of angles given in degrees:\n",
      "\n",
      ">>> np.sin(np.array((0., 30., 45., 60., 90.)) * np.pi / 180. )\n",
      "array([ 0.        ,  0.5       ,  0.70710678,  0.8660254 ,  1.        ])\n",
      "\n",
      "Plot the sine function:\n",
      "\n",
      ">>> import matplotlib.pylab as plt\n",
      ">>> x = np.linspace(-np.pi, np.pi, 201)\n",
      ">>> plt.plot(x, np.sin(x))\n",
      ">>> plt.xlabel('Angle [rad]')\n",
      ">>> plt.ylabel('sin(x)')\n",
      ">>> plt.axis('tight')\n",
      ">>> plt.show()\n"
     ]
    }
   ],
   "source": [
    "import numpy as np\n",
    "np.info(np.sin)"
   ]
  },
  {
   "cell_type": "code",
   "execution_count": 5,
   "metadata": {},
   "outputs": [
    {
     "name": "stdout",
     "output_type": "stream",
     "text": [
      "[0 1 2 3 4 5]\n",
      "[ 0  1  4  9 16 25]\n"
     ]
    }
   ],
   "source": [
    "import numpy as np\n",
    "A = np.arange(6)\n",
    "print(A)\n",
    "print(np.power(A, 2))"
   ]
  },
  {
   "cell_type": "code",
   "execution_count": 11,
   "metadata": {},
   "outputs": [
    {
     "name": "stdout",
     "output_type": "stream",
     "text": [
      "[ 0.000  0.342  0.643  0.866  0.985  0.985  0.866  0.643  0.342  0.001]\n"
     ]
    }
   ],
   "source": [
    "A = np.linspace(0, np.pi, 10)\n",
    "B = np.sin(A, dtype='float16')\n",
    "print(B)"
   ]
  },
  {
   "cell_type": "code",
   "execution_count": 12,
   "metadata": {},
   "outputs": [
    {
     "name": "stdout",
     "output_type": "stream",
     "text": [
      "0.000 0.342 0.643 0.866 0.985 0.985 0.866 0.643 0.342 0.000\n"
     ]
    }
   ],
   "source": [
    "B = np.sin(A)\n",
    "print(' '.join(format(x, '5.3f') for x in B))"
   ]
  },
  {
   "cell_type": "code",
   "execution_count": 13,
   "metadata": {},
   "outputs": [
    {
     "name": "stdout",
     "output_type": "stream",
     "text": [
      "['0.000', '0.342', '0.643', '0.866', '0.985', '0.985', '0.866', '0.643', '0.342', '0.000']\n"
     ]
    }
   ],
   "source": [
    "B = np.sin(A)\n",
    "C = (format(x, '5.3f') for x in B)\n",
    "print(list(C))"
   ]
  },
  {
   "cell_type": "code",
   "execution_count": 14,
   "metadata": {},
   "outputs": [],
   "source": [
    "np.set_printoptions(formatter={'float': '{: 0.3f}'.format})"
   ]
  },
  {
   "cell_type": "code",
   "execution_count": 15,
   "metadata": {},
   "outputs": [
    {
     "name": "stdout",
     "output_type": "stream",
     "text": [
      "[ 0.000  0.342  0.643  0.866  0.985  0.985  0.866  0.643  0.342  0.001]\n"
     ]
    }
   ],
   "source": [
    "A = np.linspace(0, np.pi, 10)\n",
    "B = np.sin(A, dtype='float16')\n",
    "print(B)"
   ]
  },
  {
   "cell_type": "markdown",
   "metadata": {},
   "source": [
    "## 13.2 matplotlib 내려받기"
   ]
  },
  {
   "cell_type": "markdown",
   "metadata": {},
   "source": [
    "`pip install matplotlib`"
   ]
  },
  {
   "cell_type": "markdown",
   "metadata": {},
   "source": [
    "## 13.3 numpy와 matplotlib으로 그래프 선 그리기"
   ]
  },
  {
   "cell_type": "code",
   "execution_count": 16,
   "metadata": {},
   "outputs": [],
   "source": [
    "import numpy as np\n",
    "import matplotlib.pyplot as plt"
   ]
  },
  {
   "cell_type": "code",
   "execution_count": 17,
   "metadata": {},
   "outputs": [
    {
     "name": "stdout",
     "output_type": "stream",
     "text": [
      "50\n"
     ]
    }
   ],
   "source": [
    "A = np.linspace(0, 2 * np.pi)\n",
    "print(len(A))"
   ]
  },
  {
   "cell_type": "code",
   "execution_count": 18,
   "metadata": {},
   "outputs": [
    {
     "data": {
      "image/png": "[encoded data removed]",
      "text/plain": [
       "<Figure size 432x288 with 1 Axes>"
      ]
     },
     "metadata": {
      "needs_background": "light"
     },
     "output_type": "display_data"
    }
   ],
   "source": [
    "A = np.linspace(0, 2 * np.pi)\n",
    "plt.plot(A, np.sin(A))\n",
    "plt.show()"
   ]
  },
  {
   "cell_type": "code",
   "execution_count": 19,
   "metadata": {},
   "outputs": [
    {
     "data": {
      "image/png": "[encoded data removed]",
      "text/plain": [
       "<Figure size 432x288 with 1 Axes>"
      ]
     },
     "metadata": {
      "needs_background": "light"
     },
     "output_type": "display_data"
    }
   ],
   "source": [
    "A = np.linspace(0, 2 * np.pi)\n",
    "plt.plot(A, np.cos(A))\n",
    "plt.show()"
   ]
  },
  {
   "cell_type": "code",
   "execution_count": 20,
   "metadata": {},
   "outputs": [
    {
     "name": "stdout",
     "output_type": "stream",
     "text": [
      "50\n"
     ]
    },
    {
     "data": {
      "text/plain": [
       "array([ 0.100,  0.302,  0.504,  0.706,  0.908,  1.110,  1.312,  1.514,\n",
       "        1.716,  1.918,  2.120,  2.322,  2.524,  2.727,  2.929,  3.131,\n",
       "        3.333,  3.535,  3.737,  3.939,  4.141,  4.343,  4.545,  4.747,\n",
       "        4.949,  5.151,  5.353,  5.555,  5.757,  5.959,  6.161,  6.363,\n",
       "        6.565,  6.767,  6.969,  7.171,  7.373,  7.576,  7.778,  7.980,\n",
       "        8.182,  8.384,  8.586,  8.788,  8.990,  9.192,  9.394,  9.596,\n",
       "        9.798,  10.000])"
      ]
     },
     "execution_count": 20,
     "metadata": {},
     "output_type": "execute_result"
    }
   ],
   "source": [
    "A = np.linspace(0.1, 10)\n",
    "print(len(A))\n",
    "A"
   ]
  },
  {
   "cell_type": "code",
   "execution_count": 21,
   "metadata": {},
   "outputs": [
    {
     "data": {
      "image/png": "[encoded data removed]",
      "text/plain": [
       "<Figure size 432x288 with 1 Axes>"
      ]
     },
     "metadata": {
      "needs_background": "light"
     },
     "output_type": "display_data"
    }
   ],
   "source": [
    "plt.plot(A, 1/A)\n",
    "plt.show()"
   ]
  },
  {
   "cell_type": "code",
   "execution_count": 22,
   "metadata": {},
   "outputs": [
    {
     "data": {
      "text/plain": [
       "[<matplotlib.lines.Line2D at 0x7fe1107c77f0>]"
      ]
     },
     "execution_count": 22,
     "metadata": {},
     "output_type": "execute_result"
    },
    {
     "data": {
      "image/png": "[encoded data removed]",
      "text/plain": [
       "<Figure size 432x288 with 1 Axes>"
      ]
     },
     "metadata": {
      "needs_background": "light"
     },
     "output_type": "display_data"
    }
   ],
   "source": [
    "plt.plot([0, 1, 2, 3, 4], [1, 2, 4, 5, 3])"
   ]
  },
  {
   "cell_type": "code",
   "execution_count": 24,
   "metadata": {},
   "outputs": [
    {
     "data": {
      "text/plain": [
       "[<matplotlib.lines.Line2D at 0x7fe0e03e3e80>]"
      ]
     },
     "execution_count": 24,
     "metadata": {},
     "output_type": "execute_result"
    },
    {
     "data": {
      "image/png": "[encoded data removed]",
      "text/plain": [
       "<Figure size 432x288 with 1 Axes>"
      ]
     },
     "metadata": {
      "needs_background": "light"
     },
     "output_type": "display_data"
    }
   ],
   "source": [
    "plt.plot([1, 2, 4, 5, 3])"
   ]
  },
  {
   "cell_type": "code",
   "execution_count": 25,
   "metadata": {},
   "outputs": [
    {
     "data": {
      "text/plain": [
       "[<matplotlib.lines.Line2D at 0x7fe0f081cac8>]"
      ]
     },
     "execution_count": 25,
     "metadata": {},
     "output_type": "execute_result"
    },
    {
     "data": {
      "image/png": "[encoded data removed]",
      "text/plain": [
       "<Figure size 432x288 with 1 Axes>"
      ]
     },
     "metadata": {
      "needs_background": "light"
     },
     "output_type": "display_data"
    }
   ],
   "source": [
    "plt.plot([3, 4, 1, 5, 2, 3], [4, 1, 3, 3, 1, 4])"
   ]
  },
  {
   "cell_type": "code",
   "execution_count": 26,
   "metadata": {},
   "outputs": [
    {
     "data": {
      "image/png": "[encoded data removed]",
      "text/plain": [
       "<Figure size 432x288 with 1 Axes>"
      ]
     },
     "metadata": {
      "needs_background": "light"
     },
     "output_type": "display_data"
    }
   ],
   "source": [
    "A = np.linspace(-15, 20)\n",
    "plt.plot(A, A ** 3 - (15 * A ** 2) + 25)\n",
    "plt.show()"
   ]
  },
  {
   "cell_type": "markdown",
   "metadata": {},
   "source": [
    "## 13.4 여러 선 그래프 그리기"
   ]
  },
  {
   "cell_type": "code",
   "execution_count": 29,
   "metadata": {},
   "outputs": [
    {
     "data": {
      "image/png": "[encoded data removed]",
      "text/plain": [
       "<Figure size 432x288 with 1 Axes>"
      ]
     },
     "metadata": {
      "needs_background": "light"
     },
     "output_type": "display_data"
    }
   ],
   "source": [
    "import numpy as np\n",
    "import matplotlib.pyplot as plt\n",
    "\n",
    "A = np.linspace(0, 2 * np.pi)\n",
    "plt.plot(A, np.sin(A))\n",
    "plt.plot(A, np.cos(A))\n",
    "plt.show()"
   ]
  },
  {
   "cell_type": "code",
   "execution_count": 30,
   "metadata": {},
   "outputs": [
    {
     "data": {
      "text/plain": [
       "[<matplotlib.lines.Line2D at 0x7fe0d0756b38>,\n",
       " <matplotlib.lines.Line2D at 0x7fe0d0756ef0>]"
      ]
     },
     "execution_count": 30,
     "metadata": {},
     "output_type": "execute_result"
    },
    {
     "data": {
      "image/png": "[encoded data removed]",
      "text/plain": [
       "<Figure size 432x288 with 1 Axes>"
      ]
     },
     "metadata": {
      "needs_background": "light"
     },
     "output_type": "display_data"
    }
   ],
   "source": [
    "plt.plot(A, np.sin(A), A, np.cos(A))"
   ]
  },
  {
   "cell_type": "markdown",
   "metadata": {},
   "source": [
    "<img src=\"tables_skill_up/t1302.PNG\">"
   ]
  },
  {
   "cell_type": "markdown",
   "metadata": {},
   "source": [
    "<img src=\"tables_skill_up/t1303.PNG\">"
   ]
  },
  {
   "cell_type": "code",
   "execution_count": 31,
   "metadata": {},
   "outputs": [
    {
     "data": {
      "image/png": "[encoded data removed]",
      "text/plain": [
       "<Figure size 432x288 with 1 Axes>"
      ]
     },
     "metadata": {
      "needs_background": "light"
     },
     "output_type": "display_data"
    }
   ],
   "source": [
    "plt.plot(A, np.sin(A), A, np.cos(A), 'o')\n",
    "plt.show()"
   ]
  },
  {
   "cell_type": "code",
   "execution_count": 32,
   "metadata": {},
   "outputs": [
    {
     "data": {
      "image/png": "[encoded data removed]",
      "text/plain": [
       "<Figure size 432x288 with 1 Axes>"
      ]
     },
     "metadata": {
      "needs_background": "light"
     },
     "output_type": "display_data"
    }
   ],
   "source": [
    "plt.plot(A, np.sin(A), '^', A, np.cos(A), 'o')\n",
    "plt.title('Sine and Cosine')\n",
    "plt.xlabel('X Axis')\n",
    "plt.ylabel('Y Axis')\n",
    "plt.show()"
   ]
  },
  {
   "cell_type": "code",
   "execution_count": 33,
   "metadata": {},
   "outputs": [
    {
     "data": {
      "image/png": "[encoded data removed]",
      "text/plain": [
       "<Figure size 432x288 with 1 Axes>"
      ]
     },
     "metadata": {
      "needs_background": "light"
     },
     "output_type": "display_data"
    }
   ],
   "source": [
    "plt.plot(A, np.sin(A), 'r^', A, np.cos(A), 'ko')\n",
    "plt.title('Sine and Cosine')\n",
    "plt.xlabel('X Axis')\n",
    "plt.ylabel('Y Axis')\n",
    "plt.show()"
   ]
  },
  {
   "cell_type": "markdown",
   "metadata": {},
   "source": [
    "## 13.5 복리 그래프 그리기"
   ]
  },
  {
   "cell_type": "code",
   "execution_count": 35,
   "metadata": {},
   "outputs": [
    {
     "data": {
      "text/plain": [
       "array([ 1.000,  2.000,  3.000,  4.000,  5.000,  6.000,  7.000,  8.000,\n",
       "        9.000,  10.000,  11.000,  12.000,  13.000,  14.000,  15.000,\n",
       "        16.000,  17.000,  18.000,  19.000,  20.000,  21.000,  22.000,\n",
       "        23.000,  24.000,  25.000,  26.000,  27.000,  28.000,  29.000,\n",
       "        30.000,  31.000,  32.000,  33.000,  34.000,  35.000,  36.000,\n",
       "        37.000,  38.000,  39.000,  40.000,  41.000,  42.000,  43.000,\n",
       "        44.000,  45.000,  46.000,  47.000,  48.000,  49.000,  50.000,\n",
       "        51.000,  52.000,  53.000,  54.000,  55.000,  56.000,  57.000,\n",
       "        58.000,  59.000,  60.000])"
      ]
     },
     "execution_count": 35,
     "metadata": {},
     "output_type": "execute_result"
    }
   ],
   "source": [
    "A = np.linspace(1, 60, 60) \n",
    "A  # 년단위 기간으로 가정"
   ]
  },
  {
   "cell_type": "code",
   "execution_count": 36,
   "metadata": {},
   "outputs": [
    {
     "data": {
      "text/plain": [
       "array([ 2.000,  4.000,  6.000,  8.000,  10.000,  12.000,  14.000,  16.000,\n",
       "        18.000,  20.000,  22.000,  24.000,  26.000,  28.000,  30.000,\n",
       "        32.000,  34.000,  36.000,  38.000,  40.000,  42.000,  44.000,\n",
       "        46.000,  48.000,  50.000,  52.000,  54.000,  56.000,  58.000,\n",
       "        60.000,  62.000,  64.000,  66.000,  68.000,  70.000,  72.000,\n",
       "        74.000,  76.000,  78.000,  80.000,  82.000,  84.000,  86.000,\n",
       "        88.000,  90.000,  92.000,  94.000,  96.000,  98.000,  100.000,\n",
       "        102.000,  104.000,  106.000,  108.000,  110.000,  112.000,\n",
       "        114.000,  116.000,  118.000,  120.000])"
      ]
     },
     "execution_count": 36,
     "metadata": {},
     "output_type": "execute_result"
    }
   ],
   "source": [
    "2 * A \t\t\t# 매년 2달러 증가 공식 ==> 신규 배열 생성"
   ]
  },
  {
   "cell_type": "markdown",
   "metadata": {},
   "source": [
    "<img src=\"images/interest.png\" width=\"70%\" />"
   ]
  },
  {
   "cell_type": "code",
   "execution_count": 37,
   "metadata": {},
   "outputs": [
    {
     "data": {
      "text/plain": [
       "array([ 1.100,  1.210,  1.331,  1.464,  1.611,  1.772,  1.949,  2.144,\n",
       "        2.358,  2.594,  2.853,  3.138,  3.452,  3.797,  4.177,  4.595,\n",
       "        5.054,  5.560,  6.116,  6.727,  7.400,  8.140,  8.954,  9.850,\n",
       "        10.835,  11.918,  13.110,  14.421,  15.863,  17.449,  19.194,\n",
       "        21.114,  23.225,  25.548,  28.102,  30.913,  34.004,  37.404,\n",
       "        41.145,  45.259,  49.785,  54.764,  60.240,  66.264,  72.890,\n",
       "        80.180,  88.197,  97.017,  106.719,  117.391,  129.130,  142.043,\n",
       "        156.247,  171.872,  189.059,  207.965,  228.762,  251.638,\n",
       "        276.801,  304.482])"
      ]
     },
     "execution_count": 37,
     "metadata": {},
     "output_type": "execute_result"
    }
   ],
   "source": [
    "1.1 ** A \t\t# 매년 10% 증가 공식 ==> 신규 배열 생성"
   ]
  },
  {
   "cell_type": "code",
   "execution_count": 41,
   "metadata": {},
   "outputs": [
    {
     "data": {
      "text/plain": [
       "[<matplotlib.lines.Line2D at 0x7fe0f08f24e0>,\n",
       " <matplotlib.lines.Line2D at 0x7fe0f08f2630>]"
      ]
     },
     "execution_count": 41,
     "metadata": {},
     "output_type": "execute_result"
    },
    {
     "data": {
      "image/png": "[encoded data removed]",
      "text/plain": [
       "<Figure size 432x288 with 1 Axes>"
      ]
     },
     "metadata": {
      "needs_background": "light"
     },
     "output_type": "display_data"
    }
   ],
   "source": [
    "plt.plot(A, 2 * A, 'o', A, 1.1 ** A)"
   ]
  },
  {
   "cell_type": "code",
   "execution_count": 42,
   "metadata": {},
   "outputs": [
    {
     "data": {
      "text/plain": [
       "[<matplotlib.lines.Line2D at 0x7fe110818898>]"
      ]
     },
     "execution_count": 42,
     "metadata": {},
     "output_type": "execute_result"
    },
    {
     "data": {
      "image/png": "[encoded data removed]",
      "text/plain": [
       "<Figure size 432x288 with 1 Axes>"
      ]
     },
     "metadata": {
      "needs_background": "light"
     },
     "output_type": "display_data"
    }
   ],
   "source": [
    "plt.plot(A, 2 * A, 'o') \t\t# 매년 2 달러씩 증가 (원으로 그림)\n",
    "plt.plot(A, 1.1 ** A) \t\t    # 매년 복리 10%"
   ]
  },
  {
   "cell_type": "code",
   "execution_count": 43,
   "metadata": {},
   "outputs": [
    {
     "data": {
      "image/png": "[encoded data removed]",
      "text/plain": [
       "<Figure size 432x288 with 1 Axes>"
      ]
     },
     "metadata": {
      "needs_background": "light"
     },
     "output_type": "display_data"
    }
   ],
   "source": [
    "plt.plot(A, 2 * A, 'o') \t\t# 매년 2 달러씩 증가 (원으로 그림)\n",
    "plt.plot(A, 1.1 ** A) \t\t    # 매년 복리 10%\n",
    "plt.title('Compounded Interest v. Linear')\n",
    "plt.xlabel('Years')\n",
    "plt.ylabel('Value of Funds')\n",
    "plt.show()"
   ]
  },
  {
   "cell_type": "markdown",
   "metadata": {},
   "source": [
    "## 13.6\tmatplotlib으로 히스토그램 만들기"
   ]
  },
  {
   "cell_type": "markdown",
   "metadata": {},
   "source": [
    "<img src=\"images_skill_up/13-11.PNG\">"
   ]
  },
  {
   "cell_type": "markdown",
   "metadata": {},
   "source": [
    "<img src=\"images_skill_up/13-12.PNG\">"
   ]
  },
  {
   "cell_type": "markdown",
   "metadata": {},
   "source": [
    "<img src=\"images_skill_up/13-13.PNG\">"
   ]
  },
  {
   "cell_type": "markdown",
   "metadata": {},
   "source": [
    "<img src=\"images_skill_up/13-14.PNG\">"
   ]
  },
  {
   "cell_type": "code",
   "execution_count": 68,
   "metadata": {},
   "outputs": [],
   "source": [
    "IQ_list = [\n",
    "     91, 110, 105, 107, 135, 127,  92, 111, 105,\n",
    "    106, 130, 145, 145, 128, 109, 108,  98, 129, 100,\n",
    "    108, 114, 119,  99, 137, 142, 145, 112, 113\n",
    "]"
   ]
  },
  {
   "cell_type": "code",
   "execution_count": 69,
   "metadata": {},
   "outputs": [],
   "source": [
    "import numpy as np\n",
    "import matplotlib.pyplot as plt\n",
    "\n",
    "IQ_A = np.array(IQ_list)"
   ]
  },
  {
   "cell_type": "markdown",
   "metadata": {},
   "source": [
    "- 버킷의 기본 개수: 10개"
   ]
  },
  {
   "cell_type": "code",
   "execution_count": 70,
   "metadata": {},
   "outputs": [
    {
     "data": {
      "image/png": "[encoded data removed]",
      "text/plain": [
       "<Figure size 432x288 with 1 Axes>"
      ]
     },
     "metadata": {
      "needs_background": "light"
     },
     "output_type": "display_data"
    }
   ],
   "source": [
    "plt.hist(IQ_A)\n",
    "plt.show()"
   ]
  },
  {
   "cell_type": "code",
   "execution_count": 73,
   "metadata": {},
   "outputs": [
    {
     "data": {
      "image/png": "[encoded data removed]",
      "text/plain": [
       "<Figure size 432x288 with 1 Axes>"
      ]
     },
     "metadata": {
      "needs_background": "light"
     },
     "output_type": "display_data"
    }
   ],
   "source": [
    "plt.hist(IQ_A, bins=10)\n",
    "plt.show()"
   ]
  },
  {
   "cell_type": "code",
   "execution_count": 74,
   "metadata": {},
   "outputs": [
    {
     "data": {
      "image/png": "[encoded data removed]",
      "text/plain": [
       "<Figure size 432x288 with 1 Axes>"
      ]
     },
     "metadata": {
      "needs_background": "light"
     },
     "output_type": "display_data"
    }
   ],
   "source": [
    "plt.hist(IQ_A)\n",
    "plt.title('IQ Distribution of Development Team.')\n",
    "plt.show()"
   ]
  },
  {
   "cell_type": "code",
   "execution_count": 89,
   "metadata": {},
   "outputs": [
    {
     "data": {
      "image/png": "[encoded data removed]",
      "text/plain": [
       "<Figure size 432x288 with 1 Axes>"
      ]
     },
     "metadata": {
      "needs_background": "light"
     },
     "output_type": "display_data"
    }
   ],
   "source": [
    "k = plt.hist(A, bins=50) \t# 결과를 50개의 통에 넣어라.\n",
    "plt.show()"
   ]
  },
  {
   "cell_type": "code",
   "execution_count": 88,
   "metadata": {},
   "outputs": [
    {
     "name": "stdout",
     "output_type": "stream",
     "text": [
      "3 50 51\n"
     ]
    }
   ],
   "source": [
    "print(len(k), len(k[0]), len(k[1]))"
   ]
  },
  {
   "cell_type": "code",
   "execution_count": 31,
   "metadata": {},
   "outputs": [
    {
     "name": "stdout",
     "output_type": "stream",
     "text": [
      "Help on function hist in module matplotlib.pyplot:\n",
      "\n",
      "hist(x, bins=None, range=None, density=False, weights=None, cumulative=False, bottom=None, histtype='bar', align='mid', orientation='vertical', rwidth=None, log=False, color=None, label=None, stacked=False, *, data=None, **kwargs)\n",
      "    Plot a histogram.\n",
      "    \n",
      "    Compute and draw the histogram of *x*.  The return value is a tuple\n",
      "    (*n*, *bins*, *patches*) or ([*n0*, *n1*, ...], *bins*, [*patches0*,\n",
      "    *patches1*,...]) if the input contains multiple data.  See the\n",
      "    documentation of the *weights* parameter to draw a histogram of\n",
      "    already-binned data.\n",
      "    \n",
      "    Multiple data can be provided via *x* as a list of datasets\n",
      "    of potentially different length ([*x0*, *x1*, ...]), or as\n",
      "    a 2-D ndarray in which each column is a dataset.  Note that\n",
      "    the ndarray form is transposed relative to the list form.\n",
      "    \n",
      "    Masked arrays are not supported.\n",
      "    \n",
      "    The *bins*, *range*, *weights*, and *density* parameters behave as in\n",
      "    `numpy.histogram`.\n",
      "    \n",
      "    Parameters\n",
      "    ----------\n",
      "    x : (n,) array or sequence of (n,) arrays\n",
      "        Input values, this takes either a single array or a sequence of\n",
      "        arrays which are not required to be of the same length.\n",
      "    \n",
      "    bins : int or sequence or str, optional\n",
      "        If *bins* is an integer, it defines the number of equal-width bins\n",
      "        in the range.\n",
      "    \n",
      "        If *bins* is a sequence, it defines the bin edges, including the\n",
      "        left edge of the first bin and the right edge of the last bin;\n",
      "        in this case, bins may be unequally spaced.  All but the last\n",
      "        (righthand-most) bin is half-open.  In other words, if *bins* is::\n",
      "    \n",
      "            [1, 2, 3, 4]\n",
      "    \n",
      "        then the first bin is ``[1, 2)`` (including 1, but excluding 2) and\n",
      "        the second ``[2, 3)``.  The last bin, however, is ``[3, 4]``, which\n",
      "        *includes* 4.\n",
      "    \n",
      "        If *bins* is a string, it is one of the binning strategies\n",
      "        supported by `numpy.histogram_bin_edges`: 'auto', 'fd', 'doane',\n",
      "        'scott', 'stone', 'rice', 'sturges', or 'sqrt'.\n",
      "    \n",
      "        The default is :rc:`hist.bins`.\n",
      "    \n",
      "    range : tuple or None, optional\n",
      "        The lower and upper range of the bins. Lower and upper outliers\n",
      "        are ignored. If not provided, *range* is ``(x.min(), x.max())``.\n",
      "        Range has no effect if *bins* is a sequence.\n",
      "    \n",
      "        If *bins* is a sequence or *range* is specified, autoscaling\n",
      "        is based on the specified bin range instead of the\n",
      "        range of x.\n",
      "    \n",
      "        Default is ``None``\n",
      "    \n",
      "    density : bool, optional\n",
      "        If ``True``, the first element of the return tuple will\n",
      "        be the counts normalized to form a probability density, i.e.,\n",
      "        the area (or integral) under the histogram will sum to 1.\n",
      "        This is achieved by dividing the count by the number of\n",
      "        observations times the bin width and not dividing by the total\n",
      "        number of observations. If *stacked* is also ``True``, the sum of\n",
      "        the histograms is normalized to 1.\n",
      "    \n",
      "        Default is ``False``.\n",
      "    \n",
      "    weights : (n, ) array-like or None, optional\n",
      "        An array of weights, of the same shape as *x*.  Each value in *x*\n",
      "        only contributes its associated weight towards the bin count\n",
      "        (instead of 1).  If *normed* or *density* is ``True``,\n",
      "        the weights are normalized, so that the integral of the density\n",
      "        over the range remains 1.\n",
      "    \n",
      "        Default is ``None``.\n",
      "    \n",
      "        This parameter can be used to draw a histogram of data that has\n",
      "        already been binned, e.g. using `np.histogram` (by treating each\n",
      "        bin as a single point with a weight equal to its count) ::\n",
      "    \n",
      "            counts, bins = np.histogram(data)\n",
      "            plt.hist(bins[:-1], bins, weights=counts)\n",
      "    \n",
      "        (or you may alternatively use `~.bar()`).\n",
      "    \n",
      "    cumulative : bool or -1, optional\n",
      "        If ``True``, then a histogram is computed where each bin gives the\n",
      "        counts in that bin plus all bins for smaller values. The last bin\n",
      "        gives the total number of datapoints.\n",
      "    \n",
      "        If *density* is also ``True`` then the histogram is normalized such\n",
      "        that the last bin equals 1.\n",
      "    \n",
      "        If *cumulative* is a number less than 0 (e.g., -1), the direction\n",
      "        of accumulation is reversed.  In this case, if *density* is also\n",
      "        ``True``, then the histogram is normalized such that the first bin\n",
      "        equals 1.\n",
      "    \n",
      "    bottom : array-like, scalar, or None, default: None\n",
      "        Location of the bottom of each bin, ie. bins are drawn from\n",
      "        ``bottom`` to ``bottom + hist(x, bins)`` If a scalar, the bottom\n",
      "        of each bin is shifted by the same amount. If an array, each bin\n",
      "        is shifted independently and the length of bottom must match the\n",
      "        number of bins. If None, defaults to 0.\n",
      "    \n",
      "    histtype : {'bar', 'barstacked', 'step',  'stepfilled'}, optional\n",
      "        The type of histogram to draw.\n",
      "    \n",
      "        - 'bar' is a traditional bar-type histogram.  If multiple data\n",
      "          are given the bars are arranged side by side.\n",
      "        - 'barstacked' is a bar-type histogram where multiple\n",
      "          data are stacked on top of each other.\n",
      "        - 'step' generates a lineplot that is by default unfilled.\n",
      "        - 'stepfilled' generates a lineplot that is by default filled.\n",
      "    \n",
      "        Default is 'bar'\n",
      "    \n",
      "    align : {'left', 'mid', 'right'}, optional\n",
      "        Controls how the histogram is plotted.\n",
      "    \n",
      "        - 'left': bars are centered on the left bin edges.\n",
      "        - 'mid': bars are centered between the bin edges.\n",
      "        - 'right': bars are centered on the right bin edges.\n",
      "    \n",
      "        Default is 'mid'\n",
      "    \n",
      "    orientation : {'horizontal', 'vertical'}, optional\n",
      "        If 'horizontal', `~matplotlib.pyplot.barh` will be used for\n",
      "        bar-type histograms and the *bottom* kwarg will be the left edges.\n",
      "    \n",
      "    rwidth : scalar or None, optional\n",
      "        The relative width of the bars as a fraction of the bin width.  If\n",
      "        ``None``, automatically compute the width.\n",
      "    \n",
      "        Ignored if *histtype* is 'step' or 'stepfilled'.\n",
      "    \n",
      "        Default is ``None``\n",
      "    \n",
      "    log : bool, optional\n",
      "        If ``True``, the histogram axis will be set to a log scale. If\n",
      "        *log* is ``True`` and *x* is a 1D array, empty bins will be\n",
      "        filtered out and only the non-empty ``(n, bins, patches)``\n",
      "        will be returned.\n",
      "    \n",
      "        Default is ``False``\n",
      "    \n",
      "    color : color or array-like of colors or None, optional\n",
      "        Color or sequence of colors, one per dataset.  Default (``None``)\n",
      "        uses the standard line color sequence.\n",
      "    \n",
      "        Default is ``None``\n",
      "    \n",
      "    label : str or None, optional\n",
      "        String, or sequence of strings to match multiple datasets.  Bar\n",
      "        charts yield multiple patches per dataset, but only the first gets\n",
      "        the label, so that the legend command will work as expected.\n",
      "    \n",
      "        default is ``None``\n",
      "    \n",
      "    stacked : bool, optional\n",
      "        If ``True``, multiple data are stacked on top of each other If\n",
      "        ``False`` multiple data are arranged side by side if histtype is\n",
      "        'bar' or on top of each other if histtype is 'step'\n",
      "    \n",
      "        Default is ``False``\n",
      "    \n",
      "    Returns\n",
      "    -------\n",
      "    n : array or list of arrays\n",
      "        The values of the histogram bins. See *density* and *weights* for a\n",
      "        description of the possible semantics.  If input *x* is an array,\n",
      "        then this is an array of length *nbins*. If input is a sequence of\n",
      "        arrays ``[data1, data2, ...]``, then this is a list of arrays with\n",
      "        the values of the histograms for each of the arrays in the same\n",
      "        order.  The dtype of the array *n* (or of its element arrays) will\n",
      "        always be float even if no weighting or normalization is used.\n",
      "    \n",
      "    bins : array\n",
      "        The edges of the bins. Length nbins + 1 (nbins left edges and right\n",
      "        edge of last bin).  Always a single array even when multiple data\n",
      "        sets are passed in.\n",
      "    \n",
      "    patches : list or list of lists\n",
      "        Silent list of individual patches used to create the histogram\n",
      "        or list of such list if multiple input datasets.\n",
      "    \n",
      "    Other Parameters\n",
      "    ----------------\n",
      "    **kwargs : `~matplotlib.patches.Patch` properties\n",
      "    \n",
      "    See also\n",
      "    --------\n",
      "    hist2d : 2D histograms\n",
      "    \n",
      "    Notes\n",
      "    -----\n",
      "    \n",
      "    \n",
      "    .. note::\n",
      "        In addition to the above described arguments, this function can take a\n",
      "        **data** keyword argument. If such a **data** argument is given, the\n",
      "        following arguments are replaced by **data[<arg>]**:\n",
      "    \n",
      "        * All arguments with the following names: 'weights', 'x'.\n",
      "    \n",
      "        Objects passed as **data** must support item access (``data[<arg>]``) and\n",
      "        membership test (``<arg> in data``).\n",
      "\n"
     ]
    }
   ],
   "source": [
    "help(plt.hist)"
   ]
  },
  {
   "cell_type": "markdown",
   "metadata": {},
   "source": [
    "- 평균이 100이고, 표준편차가 10인 배열"
   ]
  },
  {
   "cell_type": "code",
   "execution_count": 77,
   "metadata": {},
   "outputs": [],
   "source": [
    "A = np.random.standard_normal(200_000)\n",
    "A = A * 10 + 100"
   ]
  },
  {
   "cell_type": "code",
   "execution_count": 78,
   "metadata": {},
   "outputs": [
    {
     "data": {
      "image/png": "[encoded data removed]",
      "text/plain": [
       "<Figure size 432x288 with 1 Axes>"
      ]
     },
     "metadata": {
      "needs_background": "light"
     },
     "output_type": "display_data"
    }
   ],
   "source": [
    "plt.hist(A, bins=80, color='g')\n",
    "plt.title('Normal Distribution in 80 Bins')\n",
    "plt.show()"
   ]
  },
  {
   "cell_type": "markdown",
   "metadata": {},
   "source": [
    "- B[0]: 그래프에 표현하고자 하는 빈도수 숫자 (총 50개)\n",
    "- B[1]: 각 버킷의 정확한 경계 (총 51개)"
   ]
  },
  {
   "cell_type": "code",
   "execution_count": 84,
   "metadata": {},
   "outputs": [
    {
     "name": "stdout",
     "output_type": "stream",
     "text": [
      "2 50 51\n"
     ]
    },
    {
     "data": {
      "image/png": "[encoded data removed]",
      "text/plain": [
       "<Figure size 432x288 with 1 Axes>"
      ]
     },
     "metadata": {
      "needs_background": "light"
     },
     "output_type": "display_data"
    }
   ],
   "source": [
    "import numpy as np\n",
    "import matplotlib.pyplot as plt\n",
    "\n",
    "A = np.random.standard_normal(2_000_000)\n",
    "A = A * 10 + 100\n",
    "\n",
    "B = np.histogram(A, 50)\n",
    "print(len(B), len(B[0]), len(B[1]))\n",
    "\n",
    "plt.plot(B[0])\n",
    "plt.show()"
   ]
  },
  {
   "cell_type": "code",
   "execution_count": 90,
   "metadata": {},
   "outputs": [
    {
     "data": {
      "image/png": "[encoded data removed]",
      "text/plain": [
       "<Figure size 432x288 with 1 Axes>"
      ]
     },
     "metadata": {
      "needs_background": "light"
     },
     "output_type": "display_data"
    }
   ],
   "source": [
    "import numpy as np\n",
    "import matplotlib.pyplot as plt\n",
    "\n",
    "A = np.random.standard_normal(2_000_000)\n",
    "A = A * 10 + 100\n",
    "B, X = np.histogram(A, 50)\n",
    "\n",
    "X = (X[1:] + X[:-1])/2 \t# 경계 대신 통의 중간 값을 사용한다.\n",
    "plt.plot(X, B) \t\t    # 통 숫자 대신 값으로\n",
    "plt.show() \t\t        # 그래프를 표현한다.\n"
   ]
  },
  {
   "cell_type": "code",
   "execution_count": 36,
   "metadata": {},
   "outputs": [
    {
     "name": "stdout",
     "output_type": "stream",
     "text": [
      " histogram(*args, **kwargs)\n",
      "\n",
      "Compute the histogram of a set of data.\n",
      "\n",
      "Parameters\n",
      "----------\n",
      "a : array_like\n",
      "    Input data. The histogram is computed over the flattened array.\n",
      "bins : int or sequence of scalars or str, optional\n",
      "    If `bins` is an int, it defines the number of equal-width\n",
      "    bins in the given range (10, by default). If `bins` is a\n",
      "    sequence, it defines a monotonically increasing array of bin edges,\n",
      "    including the rightmost edge, allowing for non-uniform bin widths.\n",
      "\n",
      "    .. versionadded:: 1.11.0\n",
      "\n",
      "    If `bins` is a string, it defines the method used to calculate the\n",
      "    optimal bin width, as defined by `histogram_bin_edges`.\n",
      "\n",
      "range : (float, float), optional\n",
      "    The lower and upper range of the bins.  If not provided, range\n",
      "    is simply ``(a.min(), a.max())``.  Values outside the range are\n",
      "    ignored. The first element of the range must be less than or\n",
      "    equal to the second. `range` affects the automatic bin\n",
      "    computation as well. While bin width is computed to be optimal\n",
      "    based on the actual data within `range`, the bin count will fill\n",
      "    the entire range including portions containing no data.\n",
      "normed : bool, optional\n",
      "\n",
      "    .. deprecated:: 1.6.0\n",
      "\n",
      "    This is equivalent to the `density` argument, but produces incorrect\n",
      "    results for unequal bin widths. It should not be used.\n",
      "\n",
      "    .. versionchanged:: 1.15.0\n",
      "        DeprecationWarnings are actually emitted.\n",
      "\n",
      "weights : array_like, optional\n",
      "    An array of weights, of the same shape as `a`.  Each value in\n",
      "    `a` only contributes its associated weight towards the bin count\n",
      "    (instead of 1). If `density` is True, the weights are\n",
      "    normalized, so that the integral of the density over the range\n",
      "    remains 1.\n",
      "density : bool, optional\n",
      "    If ``False``, the result will contain the number of samples in\n",
      "    each bin. If ``True``, the result is the value of the\n",
      "    probability *density* function at the bin, normalized such that\n",
      "    the *integral* over the range is 1. Note that the sum of the\n",
      "    histogram values will not be equal to 1 unless bins of unity\n",
      "    width are chosen; it is not a probability *mass* function.\n",
      "\n",
      "    Overrides the ``normed`` keyword if given.\n",
      "\n",
      "Returns\n",
      "-------\n",
      "hist : array\n",
      "    The values of the histogram. See `density` and `weights` for a\n",
      "    description of the possible semantics.\n",
      "bin_edges : array of dtype float\n",
      "    Return the bin edges ``(length(hist)+1)``.\n",
      "\n",
      "\n",
      "See Also\n",
      "--------\n",
      "histogramdd, bincount, searchsorted, digitize, histogram_bin_edges\n",
      "\n",
      "Notes\n",
      "-----\n",
      "All but the last (righthand-most) bin is half-open.  In other words,\n",
      "if `bins` is::\n",
      "\n",
      "  [1, 2, 3, 4]\n",
      "\n",
      "then the first bin is ``[1, 2)`` (including 1, but excluding 2) and\n",
      "the second ``[2, 3)``.  The last bin, however, is ``[3, 4]``, which\n",
      "*includes* 4.\n",
      "\n",
      "\n",
      "Examples\n",
      "--------\n",
      ">>> np.histogram([1, 2, 1], bins=[0, 1, 2, 3])\n",
      "(array([0, 2, 1]), array([0, 1, 2, 3]))\n",
      ">>> np.histogram(np.arange(4), bins=np.arange(5), density=True)\n",
      "(array([0.25, 0.25, 0.25, 0.25]), array([0, 1, 2, 3, 4]))\n",
      ">>> np.histogram([[1, 2, 1], [1, 0, 1]], bins=[0,1,2,3])\n",
      "(array([1, 4, 1]), array([0, 1, 2, 3]))\n",
      "\n",
      ">>> a = np.arange(5)\n",
      ">>> hist, bin_edges = np.histogram(a, density=True)\n",
      ">>> hist\n",
      "array([0.5, 0. , 0.5, 0. , 0. , 0.5, 0. , 0.5, 0. , 0.5])\n",
      ">>> hist.sum()\n",
      "2.4999999999999996\n",
      ">>> np.sum(hist * np.diff(bin_edges))\n",
      "1.0\n",
      "\n",
      ".. versionadded:: 1.11.0\n",
      "\n",
      "Automated Bin Selection Methods example, using 2 peak random data\n",
      "with 2000 points:\n",
      "\n",
      ">>> import matplotlib.pyplot as plt\n",
      ">>> rng = np.random.RandomState(10)  # deterministic random data\n",
      ">>> a = np.hstack((rng.normal(size=1000),\n",
      "...                rng.normal(loc=5, scale=2, size=1000)))\n",
      ">>> _ = plt.hist(a, bins='auto')  # arguments are passed to np.histogram\n",
      ">>> plt.title(\"Histogram with 'auto' bins\")\n",
      "Text(0.5, 1.0, \"Histogram with 'auto' bins\")\n",
      ">>> plt.show()\n"
     ]
    }
   ],
   "source": [
    "np.info(np.histogram)"
   ]
  },
  {
   "cell_type": "markdown",
   "metadata": {},
   "source": [
    "<img src=\"https://img1.daumcdn.net/thumb/R1280x0/?scode=mtistory2&fname=https%3A%2F%2Fblog.kakaocdn.net%2Fdn%2FvUfZw%2Fbtqxjz5tQh1%2FrhdTOlmON4ALxRI0MkP5YK%2Fimg.jpg\" style=\"width:50%\"/>"
   ]
  },
  {
   "cell_type": "markdown",
   "metadata": {},
   "source": [
    "## 13.7 원과 가로 세로 비율(Aspect Ratio)"
   ]
  },
  {
   "cell_type": "markdown",
   "metadata": {},
   "source": [
    "<img src=\"images_skill_up/13-15.PNG\">"
   ]
  },
  {
   "cell_type": "markdown",
   "metadata": {},
   "source": [
    "<img src=\"images_skill_up/13-16.PNG\">"
   ]
  },
  {
   "cell_type": "code",
   "execution_count": 91,
   "metadata": {},
   "outputs": [
    {
     "data": {
      "image/png": "[encoded data removed]",
      "text/plain": [
       "<Figure size 432x288 with 1 Axes>"
      ]
     },
     "metadata": {
      "needs_background": "light"
     },
     "output_type": "display_data"
    }
   ],
   "source": [
    "import numpy as np\n",
    "import matplotlib.pyplot as plt\n",
    "\n",
    "theta = np.linspace(0, 2 * np.pi, 1000)\n",
    "plt.plot(np.cos(theta), np.sin(theta))\n",
    "plt.show()"
   ]
  },
  {
   "cell_type": "code",
   "execution_count": 92,
   "metadata": {},
   "outputs": [
    {
     "data": {
      "image/png": "[encoded data removed]",
      "text/plain": [
       "<Figure size 432x288 with 1 Axes>"
      ]
     },
     "metadata": {
      "needs_background": "light"
     },
     "output_type": "display_data"
    }
   ],
   "source": [
    "import numpy as np\n",
    "import matplotlib.pyplot as plt\n",
    "\n",
    "theta = np.linspace(0, 2 * np.pi, 1000)\n",
    "plt.plot(np.cos(theta), np.sin(theta))\n",
    "plt.axis('equal')\n",
    "plt.show()"
   ]
  },
  {
   "cell_type": "markdown",
   "metadata": {},
   "source": [
    "## 13.8\t파이 차트 만들기"
   ]
  },
  {
   "cell_type": "markdown",
   "metadata": {},
   "source": [
    "<img src=\"tables_skill_up/t1304.PNG\">"
   ]
  },
  {
   "cell_type": "markdown",
   "metadata": {},
   "source": [
    "<img src=\"images_skill_up/13-17.PNG\">"
   ]
  },
  {
   "cell_type": "code",
   "execution_count": 93,
   "metadata": {},
   "outputs": [],
   "source": [
    "A_data = [3.7, 2.5, 1.9, 0.5]\n",
    "A_labels = ['Poker', 'Chess', 'Comic Books', 'Exercise']\n",
    "A_colors = ['k', 'g', 'r', 'c']"
   ]
  },
  {
   "cell_type": "code",
   "execution_count": 94,
   "metadata": {},
   "outputs": [
    {
     "data": {
      "image/png": "[encoded data removed]",
      "text/plain": [
       "<Figure size 432x288 with 1 Axes>"
      ]
     },
     "metadata": {},
     "output_type": "display_data"
    }
   ],
   "source": [
    "import numpy as np\n",
    "import matplotlib.pyplot as plt\n",
    "\n",
    "plt.pie(A_data, labels=A_labels, colors=A_colors)\n",
    "plt.title('Relative Hobbies of Dev. Team')\n",
    "plt.axis('equal')\n",
    "plt.show()"
   ]
  },
  {
   "cell_type": "markdown",
   "metadata": {},
   "source": [
    "## 13.9 numpy로 선형대수학 구현하기\n",
    "### 13.9.1\t점곱(dot product)"
   ]
  },
  {
   "cell_type": "markdown",
   "metadata": {},
   "source": [
    "<img src=\"tables_skill_up/t1305.PNG\">"
   ]
  },
  {
   "cell_type": "markdown",
   "metadata": {},
   "source": [
    "<img src=\"tables_skill_up/t1306.PNG\">"
   ]
  },
  {
   "cell_type": "markdown",
   "metadata": {},
   "source": [
    "<img src=\"images_skill_up/13-18.PNG\">"
   ]
  },
  {
   "cell_type": "markdown",
   "metadata": {},
   "source": [
    "<img src=\"images_skill_up/13-19.PNG\">"
   ]
  },
  {
   "cell_type": "code",
   "execution_count": 95,
   "metadata": {},
   "outputs": [
    {
     "name": "stdout",
     "output_type": "stream",
     "text": [
      "[1. 1. 1. 1. 1.] [0. 1. 2. 3. 4.]\n"
     ]
    }
   ],
   "source": [
    "import numpy as np\n",
    "A = np.ones(5)\n",
    "B = np.arange(5, dtype=\"float32\")\n",
    "print(A, B)"
   ]
  },
  {
   "cell_type": "code",
   "execution_count": 96,
   "metadata": {},
   "outputs": [
    {
     "data": {
      "text/plain": [
       "5.0"
      ]
     },
     "execution_count": 96,
     "metadata": {},
     "output_type": "execute_result"
    }
   ],
   "source": [
    "np.dot(A, A)"
   ]
  },
  {
   "cell_type": "code",
   "execution_count": 97,
   "metadata": {},
   "outputs": [
    {
     "data": {
      "text/plain": [
       "10.0"
      ]
     },
     "execution_count": 97,
     "metadata": {},
     "output_type": "execute_result"
    }
   ],
   "source": [
    "np.dot(A, B)"
   ]
  },
  {
   "cell_type": "code",
   "execution_count": 98,
   "metadata": {},
   "outputs": [
    {
     "data": {
      "text/plain": [
       "30.0"
      ]
     },
     "execution_count": 98,
     "metadata": {},
     "output_type": "execute_result"
    }
   ],
   "source": [
    "np.dot(B, B)"
   ]
  },
  {
   "cell_type": "code",
   "execution_count": 99,
   "metadata": {},
   "outputs": [
    {
     "name": "stdout",
     "output_type": "stream",
     "text": [
      "[[0 1 2]\n",
      " [3 4 5]]\n",
      "\n",
      "[[0 1]\n",
      " [2 3]\n",
      " [4 5]]\n",
      "\n",
      "Dot product:\n",
      " [[10 13]\n",
      " [28 40]]\n"
     ]
    }
   ],
   "source": [
    "A = np.arange(6).reshape(2,3)\n",
    "B = np.arange(6).reshape(3,2)\n",
    "C = np.dot(A, B)\n",
    "print(A, B, sep='\\n\\n')\n",
    "print('\\nDot product:\\n', C)"
   ]
  },
  {
   "cell_type": "code",
   "execution_count": 100,
   "metadata": {},
   "outputs": [
    {
     "name": "stdout",
     "output_type": "stream",
     "text": [
      "[150 205]\n"
     ]
    }
   ],
   "source": [
    "print(np.dot([10, 15, 30], B))"
   ]
  },
  {
   "cell_type": "markdown",
   "metadata": {},
   "source": [
    "### 13.9.2 외적 함수(outer product)"
   ]
  },
  {
   "cell_type": "markdown",
   "metadata": {},
   "source": [
    "<img src=\"data:image/png;base64,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\" style=\"width:75%\"/>"
   ]
  },
  {
   "cell_type": "code",
   "execution_count": 101,
   "metadata": {},
   "outputs": [
    {
     "name": "stdout",
     "output_type": "stream",
     "text": [
      "[[  0   0   0   0]\n",
      " [100 200 300 400]\n",
      " [200 400 600 800]]\n"
     ]
    }
   ],
   "source": [
    "import numpy as np\n",
    "A = np.array([0, 1, 2])\n",
    "B = np.array([100, 200, 300, 400])\n",
    "print(np.outer(A, B))"
   ]
  },
  {
   "cell_type": "code",
   "execution_count": 102,
   "metadata": {},
   "outputs": [
    {
     "name": "stdout",
     "output_type": "stream",
     "text": [
      "[[ 1  2  3  4  5  6  7  8  9]\n",
      " [ 2  4  6  8 10 12 14 16 18]\n",
      " [ 3  6  9 12 15 18 21 24 27]\n",
      " [ 4  8 12 16 20 24 28 32 36]\n",
      " [ 5 10 15 20 25 30 35 40 45]\n",
      " [ 6 12 18 24 30 36 42 48 54]\n",
      " [ 7 14 21 28 35 42 49 56 63]\n",
      " [ 8 16 24 32 40 48 56 64 72]\n",
      " [ 9 18 27 36 45 54 63 72 81]]\n"
     ]
    }
   ],
   "source": [
    "A = np.arange(1, 10)\n",
    "print(np.outer(A, A))"
   ]
  },
  {
   "cell_type": "code",
   "execution_count": 103,
   "metadata": {},
   "outputs": [
    {
     "name": "stdout",
     "output_type": "stream",
     "text": [
      "  1  2  3  4  5  6  7  8  9\n",
      "  2  4  6  8 10 12 14 16 18\n",
      "  3  6  9 12 15 18 21 24 27\n",
      "  4  8 12 16 20 24 28 32 36\n",
      "  5 10 15 20 25 30 35 40 45\n",
      "  6 12 18 24 30 36 42 48 54\n",
      "  7 14 21 28 35 42 49 56 63\n",
      "  8 16 24 32 40 48 56 64 72\n",
      "  9 18 27 36 45 54 63 72 81\n"
     ]
    }
   ],
   "source": [
    "s = str(np.outer(A, A))\n",
    "s = s.replace('[', '')\n",
    "s = s.replace(']', '')\n",
    "print(' ' + s)"
   ]
  },
  {
   "cell_type": "code",
   "execution_count": 50,
   "metadata": {},
   "outputs": [
    {
     "name": "stdout",
     "output_type": "stream",
     "text": [
      "  1  2  3  4  5  6  7  8  9\n",
      "  2  4  6  8 10 12 14 16 18\n",
      "  3  6  9 12 15 18 21 24 27\n",
      "  4  8 12 16 20 24 28 32 36\n",
      "  5 10 15 20 25 30 35 40 45\n",
      "  6 12 18 24 30 36 42 48 54\n",
      "  7 14 21 28 35 42 49 56 63\n",
      "  8 16 24 32 40 48 56 64 72\n",
      "  9 18 27 36 45 54 63 72 81\n"
     ]
    }
   ],
   "source": [
    "s = str(np.outer(A, A))\n",
    "print(' ' + s.replace('[', '').replace(']', ''))"
   ]
  },
  {
   "cell_type": "markdown",
   "metadata": {},
   "source": [
    "### 13.9.3 기타 선형대수학 함수"
   ]
  },
  {
   "cell_type": "markdown",
   "metadata": {},
   "source": [
    "<img src=\"tables_skill_up/t1307.PNG\">"
   ]
  },
  {
   "cell_type": "markdown",
   "metadata": {},
   "source": [
    "## 13.10 3차원 플로팅"
   ]
  },
  {
   "cell_type": "markdown",
   "metadata": {},
   "source": [
    "<img src=\"images_skill_up/13-20.PNG\">"
   ]
  },
  {
   "cell_type": "code",
   "execution_count": 51,
   "metadata": {},
   "outputs": [
    {
     "data": {
      "image/png": "[encoded data removed]",
      "text/plain": [
       "<Figure size 432x288 with 1 Axes>"
      ]
     },
     "metadata": {
      "needs_background": "light"
     },
     "output_type": "display_data"
    }
   ],
   "source": [
    "from mpl_toolkits.mplot3d import Axes3D\n",
    "import matplotlib.pyplot as plt\n",
    "import numpy as np\n",
    "\n",
    "fig = plt.figure()\n",
    "ax = fig.add_subplot(111, projection='3d')\n",
    "\n",
    "# 데이터 생성\n",
    "ua = np.linspace(0, 2 * np.pi, 100)\n",
    "va = np.linspace(0, np.pi, 100)\n",
    "X = 10 * np.outer(np.cos(ua), np.sin(va))\n",
    "Y = 10 * np.outer(np.sin(ua), np.sin(va))\n",
    "Z = 10 * np.outer(np.ones(np.size(ua)), np.cos(va))\n",
    "\n",
    "# 표면 그리기\n",
    "ax.plot_surface(X, Y, Z, color='w')\n",
    "plt.show()"
   ]
  },
  {
   "cell_type": "markdown",
   "metadata": {},
   "source": [
    "## 13.11 numpy 금융 애플리케이션"
   ]
  },
  {
   "cell_type": "markdown",
   "metadata": {},
   "source": [
    "<img src=\"images_skill_up/13-21.PNG\">"
   ]
  },
  {
   "cell_type": "markdown",
   "metadata": {},
   "source": [
    "- pmt: payment --> Compute the payment against loan principal plus interest.\n",
    "  - https://numpy.org/doc/1.19/reference/generated/numpy.pmt.html\n",
    "- numpy.pmt(rate, nper, pv, fv=0, when='end')\n",
    "  - rate: 년이율 또는 월이율\n",
    "  - nper: 년기간 또는 월기간\n",
    "  - pv: 대출 금액"
   ]
  },
  {
   "cell_type": "code",
   "execution_count": 5,
   "metadata": {},
   "outputs": [
    {
     "data": {
      "text/plain": [
       "-1863.93283878775"
      ]
     },
     "execution_count": 5,
     "metadata": {},
     "output_type": "execute_result"
    }
   ],
   "source": [
    "import numpy as np\n",
    "np.pmt(0.065 / 12, 20 * 12, 250000)"
   ]
  },
  {
   "cell_type": "code",
   "execution_count": 6,
   "metadata": {},
   "outputs": [
    {
     "data": {
      "text/plain": [
       "447343.87200000003"
      ]
     },
     "execution_count": 6,
     "metadata": {},
     "output_type": "execute_result"
    }
   ],
   "source": [
    "1863.9328 * 20 * 12"
   ]
  },
  {
   "cell_type": "code",
   "execution_count": 11,
   "metadata": {},
   "outputs": [],
   "source": [
    "import numpy as np\n",
    "\n",
    "def monthly_payment():\n",
    "    '''데이터를 입력받고, np.pmt를 호출하여 \n",
    "    월납입금 계산한다.'''\n",
    "    # 월 이율 계산\n",
    "    s = 'Enter rate as a yearly percentage: '\n",
    "    rate = (float(input(s)) / 100) / 12\n",
    "\n",
    "    # 납입 월 회수 계산\n",
    "    nyears = int(input('Enter number of years: '))\n",
    "    nper = nyears * 12\n",
    "\n",
    "    # 대출금 금액 입력\n",
    "    pv = float(input('Enter amount of loan: '))\n",
    "\n",
    "    # 결과 출력\n",
    "    payment= -1 * np.pmt(rate, nper, pv)\n",
    "    print('The monthly payment is: ₩%.2f' % payment)"
   ]
  },
  {
   "cell_type": "code",
   "execution_count": 13,
   "metadata": {},
   "outputs": [
    {
     "name": "stdout",
     "output_type": "stream",
     "text": [
      "Enter rate as a yearly percentage: 2\n",
      "Enter number of years: 2\n",
      "Enter amount of loan: 10000000\n",
      "The monthly payment is: ₩425402.63\n"
     ]
    }
   ],
   "source": [
    "monthly_payment()"
   ]
  },
  {
   "cell_type": "code",
   "execution_count": 21,
   "metadata": {},
   "outputs": [],
   "source": [
    "import numpy as np\n",
    "import matplotlib.pyplot as plt\n",
    "\n",
    "# 기본 매개변수 설정\n",
    "rate = 0.05 / 12 # Assume 5% a year.\n",
    "nper = 30 * 12 # Assume 30 years on loan.\n",
    "pv = 155000 # $155,000 is amount of loan.\n",
    "\n",
    "# 지급 합계 생성\n",
    "Total = -1 * np.pmt(rate, nper, pv)"
   ]
  },
  {
   "cell_type": "code",
   "execution_count": 22,
   "metadata": {},
   "outputs": [
    {
     "data": {
      "image/png": "[encoded data removed]",
      "text/plain": [
       "<Figure size 432x288 with 1 Axes>"
      ]
     },
     "metadata": {
      "needs_background": "light"
     },
     "output_type": "display_data"
    }
   ],
   "source": [
    "# 합계 대비 월간 지급 비율(A) 그래프 그리기\n",
    "A = np.linspace(0, nper)\n",
    "B = -1 * np.ppmt(rate, A, nper, pv) / Total\n",
    "plt.plot(A, B)\n",
    "\n",
    "# 축 라벨 설정 및 출력\n",
    "plt.ylabel('Percentage Applied to Principal')\n",
    "plt.xlabel('Months')\n",
    "\n",
    "plt.show()"
   ]
  },
  {
   "cell_type": "markdown",
   "metadata": {},
   "source": [
    "## 13.12 xticks과 yticks로 축 조정하기"
   ]
  },
  {
   "cell_type": "markdown",
   "metadata": {},
   "source": [
    "<img src=\"images_skill_up/13-22.PNG\">"
   ]
  },
  {
   "cell_type": "code",
   "execution_count": 25,
   "metadata": {},
   "outputs": [
    {
     "name": "stdout",
     "output_type": "stream",
     "text": [
      "6\n",
      "7\n"
     ]
    },
    {
     "data": {
      "image/png": "[encoded data removed]",
      "text/plain": [
       "<Figure size 432x288 with 1 Axes>"
      ]
     },
     "metadata": {
      "needs_background": "light"
     },
     "output_type": "display_data"
    }
   ],
   "source": [
    "import numpy as np\n",
    "import matplotlib.pyplot as plt\n",
    "\n",
    "# 기본 매개변수 설정\n",
    "rate = 0.05 / 12 # Assume 5% a year.\n",
    "nper = 30 * 12 # Assume 30 years on loan.\n",
    "pv = 155000 # $155,000 is amount of loan.\n",
    "\n",
    "# 지급 합계 생성\n",
    "Total = -1 * np.pmt(rate, nper, pv)\n",
    "\n",
    "# 합계 대비 월간 지급 비율(A) 그래프 그리기\n",
    "A = np.linspace(0, nper)\n",
    "B = -1 * np.ppmt(rate, A, nper, pv) / Total\n",
    "plt.plot(A, B)\n",
    "\n",
    "# 축 라벨 설정 및 출력\n",
    "plt.ylabel('Percentage Applied to Principal')\n",
    "\n",
    "print(len(np.arange(0.0, 1.1, 0.2)))\n",
    "print(len(np.arange(0, 361, 60)))\n",
    "\n",
    "plt.yticks(np.arange(0.0, 1.1, 0.2), ('0', '20%', '40%','60%', '80%', '100%'))\n",
    "plt.xticks(np.arange(0, 361, 60), ('2020', '2025', '2030', '2035', '2040', '2045', '2050') )\n",
    "plt.xlabel('Years')\n",
    "\n",
    "plt.show()"
   ]
  },
  {
   "cell_type": "markdown",
   "metadata": {},
   "source": [
    "## 13.13 numpy 혼합-데이터 레코드"
   ]
  },
  {
   "cell_type": "code",
   "execution_count": 57,
   "metadata": {},
   "outputs": [
    {
     "data": {
      "text/plain": [
       "array(['To', 'be', 'orNotToBe'], dtype='<U9')"
      ]
     },
     "execution_count": 57,
     "metadata": {},
     "output_type": "execute_result"
    }
   ],
   "source": [
    "Words = np.array(('To', 'be', 'orNotToBe'))\n",
    "Words"
   ]
  },
  {
   "cell_type": "code",
   "execution_count": 58,
   "metadata": {},
   "outputs": [
    {
     "data": {
      "text/plain": [
       "'My uncle '"
      ]
     },
     "execution_count": 58,
     "metadata": {},
     "output_type": "execute_result"
    }
   ],
   "source": [
    "Words[0] = 'My uncle is Caesar.'\n",
    "Words[0]"
   ]
  },
  {
   "cell_type": "code",
   "execution_count": 59,
   "metadata": {},
   "outputs": [],
   "source": [
    "Words = np.array(('To', 'be', 'orNotToBe'), dtype = 'U20')"
   ]
  },
  {
   "cell_type": "code",
   "execution_count": 60,
   "metadata": {},
   "outputs": [
    {
     "data": {
      "text/plain": [
       "'My uncle is Caesar.'"
      ]
     },
     "execution_count": 60,
     "metadata": {},
     "output_type": "execute_result"
    }
   ],
   "source": [
    "Words[0] = 'My uncle is Caesar.'\n",
    "Words[0]"
   ]
  },
  {
   "cell_type": "markdown",
   "metadata": {},
   "source": [
    "- 각 컬럼별로 컬럼 이름과 데이터 타입 별도 지정"
   ]
  },
  {
   "cell_type": "code",
   "execution_count": 26,
   "metadata": {},
   "outputs": [
    {
     "name": "stdout",
     "output_type": "stream",
     "text": [
      "[(12,  33, 'Red') ( 0,   1, 'Blue') (27, 103, 'Yellow') (-1,  -2, 'Blue')]\n"
     ]
    }
   ],
   "source": [
    "X = np.array(\n",
    "    [\n",
    "        (12, 33, 'Red'),\n",
    "        (0, 1, 'Blue'),\n",
    "        (27, 103, 'Yellow'),\n",
    "        (-1, -2, 'Blue')\n",
    "    ],\n",
    "    dtype = [('a', 'i4'), ('b', 'i4'), ('color', 'U10')])\n",
    "print(X)"
   ]
  },
  {
   "cell_type": "code",
   "execution_count": 27,
   "metadata": {},
   "outputs": [
    {
     "name": "stdout",
     "output_type": "stream",
     "text": [
      "[12  0 27 -1]\n"
     ]
    }
   ],
   "source": [
    "print(X['a'])"
   ]
  },
  {
   "cell_type": "code",
   "execution_count": 63,
   "metadata": {},
   "outputs": [
    {
     "data": {
      "text/plain": [
       "38"
      ]
     },
     "execution_count": 63,
     "metadata": {},
     "output_type": "execute_result"
    }
   ],
   "source": [
    "A = X['a']\n",
    "np.sum(A)"
   ]
  },
  {
   "cell_type": "code",
   "execution_count": 64,
   "metadata": {},
   "outputs": [
    {
     "data": {
      "text/plain": [
       "4"
      ]
     },
     "execution_count": 64,
     "metadata": {},
     "output_type": "execute_result"
    }
   ],
   "source": [
    "len(A)"
   ]
  },
  {
   "cell_type": "code",
   "execution_count": 65,
   "metadata": {},
   "outputs": [
    {
     "data": {
      "text/plain": [
       "9.5"
      ]
     },
     "execution_count": 65,
     "metadata": {},
     "output_type": "execute_result"
    }
   ],
   "source": [
    "np.mean(A)"
   ]
  },
  {
   "cell_type": "code",
   "execution_count": 66,
   "metadata": {},
   "outputs": [
    {
     "data": {
      "text/plain": [
       "11.324751652906125"
      ]
     },
     "execution_count": 66,
     "metadata": {},
     "output_type": "execute_result"
    }
   ],
   "source": [
    "np.std(A)"
   ]
  },
  {
   "cell_type": "code",
   "execution_count": 67,
   "metadata": {},
   "outputs": [
    {
     "name": "stdout",
     "output_type": "stream",
     "text": [
      "[ 33   1 103  -2]\n"
     ]
    }
   ],
   "source": [
    "B = X['b']\n",
    "print(B)"
   ]
  },
  {
   "cell_type": "code",
   "execution_count": 68,
   "metadata": {},
   "outputs": [
    {
     "name": "stdout",
     "output_type": "stream",
     "text": [
      "['Red' 'Blue' 'Yellow' 'Blue']\n"
     ]
    }
   ],
   "source": [
    "C = X['color']\n",
    "print(C)"
   ]
  },
  {
   "cell_type": "code",
   "execution_count": 69,
   "metadata": {},
   "outputs": [
    {
     "name": "stdout",
     "output_type": "stream",
     "text": [
      "[ 33   1 103  -2]\n",
      "[0 0 0 0]\n"
     ]
    }
   ],
   "source": [
    "print(X['b'])\n",
    "X['b'] = 0\n",
    "print(X['b'])"
   ]
  },
  {
   "cell_type": "markdown",
   "metadata": {},
   "source": [
    "## 13.14 파일에서 numpy 데이터 읽고 쓰기"
   ]
  },
  {
   "cell_type": "code",
   "execution_count": 31,
   "metadata": {},
   "outputs": [],
   "source": [
    "n = np.array([(101, 70.5, 21, 4.6, ' Harvard'), (110, 69.5, 22, 6.2, ' MIT'),\n",
    "       (130, 76. , 21, 7. , ' Cal Tech'), (120, 72.5, 29, 7.4, ' Yale'),\n",
    "       (120, 73.2, 33, 5.8, ' Harvard'),\n",
    "       (105, 68. , 35, 6. , ' U. of Wash.'),\n",
    "       (107, 74. , 44, 5.4, ' Tacoma Comm. College'),\n",
    "       (140, 67. , 30, 6.2, ' Oregon State'),\n",
    "       (100, 72.5, 31, 4. , ' UCLA'), (100, 70. , 18, 5.5, ' C.C.C.')],\n",
    "      dtype=[('IQ', '<i2'), ('Height', '<f4'), ('Age', '<i2'), ('Rating', '<f4'), ('College', '<U30')]\n",
    ")\n",
    "fmt_str = '%i, %.1f, %i, %.1f, %s'\n",
    "np.savetxt('team_data.txt', n, fmt=fmt_str)"
   ]
  },
  {
   "cell_type": "code",
   "execution_count": 32,
   "metadata": {},
   "outputs": [],
   "source": [
    "dt=[('IQ', 'i2'), ('Height', 'f4'), ('Age', 'i2'), ('Rating', 'f4'), ('College', 'U30')]"
   ]
  },
  {
   "cell_type": "code",
   "execution_count": 33,
   "metadata": {},
   "outputs": [
    {
     "data": {
      "text/plain": [
       "array([(101, 70.5, 21, 4.6, '  Harvard'), (110, 69.5, 22, 6.2, '  MIT'),\n",
       "       (130, 76. , 21, 7. , '  Cal Tech'), (120, 72.5, 29, 7.4, '  Yale'),\n",
       "       (120, 73.2, 33, 5.8, '  Harvard'),\n",
       "       (105, 68. , 35, 6. , '  U. of Wash.'),\n",
       "       (107, 74. , 44, 5.4, '  Tacoma Comm. College'),\n",
       "       (140, 67. , 30, 6.2, '  Oregon State'),\n",
       "       (100, 72.5, 31, 4. , '  UCLA'), (100, 70. , 18, 5.5, '  C.C.C.')],\n",
       "      dtype=[('IQ', '<i2'), ('Height', '<f4'), ('Age', '<i2'), ('Rating', '<f4'), ('College', '<U30')])"
      ]
     },
     "execution_count": 33,
     "metadata": {},
     "output_type": "execute_result"
    }
   ],
   "source": [
    "team_a = np.loadtxt('team_data.txt', dt, delimiter=',')\n",
    "team_a"
   ]
  },
  {
   "cell_type": "code",
   "execution_count": 34,
   "metadata": {},
   "outputs": [
    {
     "data": {
      "text/plain": [
       "array([(101, 70.5, 21, 4.6, ' Harvard'), (110, 69.5, 22, 6.2, ' MIT'),\n",
       "       (130, 76. , 21, 7. , ' Cal Tech'), (120, 72.5, 29, 7.4, ' Yale'),\n",
       "       (120, 73.2, 33, 5.8, ' Harvard'),\n",
       "       (105, 68. , 35, 6. , ' U. of Wash.'),\n",
       "       (107, 74. , 44, 5.4, ' Tacoma Comm. College'),\n",
       "       (140, 67. , 30, 6.2, ' Oregon State'),\n",
       "       (100, 72.5, 31, 4. , ' UCLA'), (100, 70. , 18, 5.5, ' C.C.C.')],\n",
       "      dtype=[('IQ', '<i2'), ('Height', '<f4'), ('Age', '<i2'), ('Rating', '<f4'), ('College', '<U30')])"
      ]
     },
     "execution_count": 34,
     "metadata": {},
     "output_type": "execute_result"
    }
   ],
   "source": [
    "team_a = np.loadtxt('team_data.txt', dt, delimiter=', ')\n",
    "team_a"
   ]
  },
  {
   "cell_type": "code",
   "execution_count": 35,
   "metadata": {},
   "outputs": [],
   "source": [
    "iq_a = team_a['IQ']\n",
    "ht_a = team_a['Height']\n",
    "age_a = team_a['Age']\n",
    "rat_a = team_a['Rating']"
   ]
  },
  {
   "cell_type": "code",
   "execution_count": 36,
   "metadata": {},
   "outputs": [
    {
     "data": {
      "text/plain": [
       "array([101, 110, 130, 120, 120, 105, 107, 140, 100, 100], dtype=int16)"
      ]
     },
     "execution_count": 36,
     "metadata": {},
     "output_type": "execute_result"
    }
   ],
   "source": [
    "iq_a"
   ]
  },
  {
   "cell_type": "code",
   "execution_count": 37,
   "metadata": {},
   "outputs": [
    {
     "name": "stdout",
     "output_type": "stream",
     "text": [
      "Mean IQ of the dev. team is 113.30.\n",
      "Std. dev. of team's IQ is 13.06.\n"
     ]
    }
   ],
   "source": [
    "print('Mean IQ of the dev. team is %.2f.' % np.mean(iq_a))\n",
    "print('Std. dev. of team\\'s IQ is %.2f.' % np.std(iq_a))"
   ]
  },
  {
   "cell_type": "code",
   "execution_count": 39,
   "metadata": {},
   "outputs": [
    {
     "data": {
      "text/plain": [
       "array([[1.        , 0.03435071],\n",
       "       [0.03435071, 1.        ]])"
      ]
     },
     "execution_count": 39,
     "metadata": {},
     "output_type": "execute_result"
    }
   ],
   "source": [
    "np.corrcoef(iq_a, ht_a)"
   ]
  },
  {
   "cell_type": "code",
   "execution_count": 40,
   "metadata": {},
   "outputs": [
    {
     "data": {
      "text/plain": [
       "0.03435070704736269"
      ]
     },
     "execution_count": 40,
     "metadata": {},
     "output_type": "execute_result"
    }
   ],
   "source": [
    "np.corrcoef(iq_a, ht_a)[0, 1]"
   ]
  },
  {
   "cell_type": "code",
   "execution_count": 41,
   "metadata": {},
   "outputs": [
    {
     "data": {
      "text/plain": [
       "array([ 9.2, 12.4, 14. , 14.8, 11.6, 12. , 10.8, 12.4,  8. , 11. ],\n",
       "      dtype=float32)"
      ]
     },
     "execution_count": 41,
     "metadata": {},
     "output_type": "execute_result"
    }
   ],
   "source": [
    "team_a['Rating'] *= 2\n",
    "team_a['Rating']"
   ]
  },
  {
   "cell_type": "code",
   "execution_count": 42,
   "metadata": {},
   "outputs": [
    {
     "data": {
      "text/plain": [
       "array([(101, 70.5, 21,  9.2, ' Harvard'), (110, 69.5, 22, 12.4, ' MIT'),\n",
       "       (130, 76. , 21, 14. , ' Cal Tech'), (120, 72.5, 29, 14.8, ' Yale'),\n",
       "       (120, 73.2, 33, 11.6, ' Harvard'),\n",
       "       (105, 68. , 35, 12. , ' U. of Wash.'),\n",
       "       (107, 74. , 44, 10.8, ' Tacoma Comm. College'),\n",
       "       (140, 67. , 30, 12.4, ' Oregon State'),\n",
       "       (100, 72.5, 31,  8. , ' UCLA'), (100, 70. , 18, 11. , ' C.C.C.'),\n",
       "       (100, 70. , 18,  5.5, 'C.C.C.')],\n",
       "      dtype=[('IQ', '<i2'), ('Height', '<f4'), ('Age', '<i2'), ('Rating', '<f4'), ('College', '<U30')])"
      ]
     },
     "execution_count": 42,
     "metadata": {},
     "output_type": "execute_result"
    }
   ],
   "source": [
    "new_a = np.array((100, 70, 18, 5.5, 'C.C.C.'), dtype=dt)\n",
    "team_a = np.append(team_a, new_a)\n",
    "team_a"
   ]
  },
  {
   "cell_type": "code",
   "execution_count": 43,
   "metadata": {},
   "outputs": [],
   "source": [
    "fmt_str = '%i, %.1f, %i, %.1f, %s'\n",
    "np.savetxt('team_data.txt', team_a, fmt=fmt_str)"
   ]
  },
  {
   "cell_type": "markdown",
   "metadata": {},
   "source": [
    "## 13.15 정리해 보자"
   ]
  },
  {
   "cell_type": "markdown",
   "metadata": {
    "tags": []
   },
   "source": [
    "## 13.16 복습 문제"
   ]
  },
  {
   "cell_type": "markdown",
   "metadata": {
    "tags": []
   },
   "source": [
    "## 13.17 실습 문제"
   ]
  }
 ],
 "metadata": {
  "kernelspec": {
   "display_name": "Python 3",
   "language": "python",
   "name": "python3"
  },
  "language_info": {
   "codemirror_mode": {
    "name": "ipython",
    "version": 3
   },
   "file_extension": ".py",
   "mimetype": "text/x-python",
   "name": "python",
   "nbconvert_exporter": "python",
   "pygments_lexer": "ipython3",
   "version": "3.6.8"
  }
 },
 "nbformat": 4,
 "nbformat_minor": 4
}

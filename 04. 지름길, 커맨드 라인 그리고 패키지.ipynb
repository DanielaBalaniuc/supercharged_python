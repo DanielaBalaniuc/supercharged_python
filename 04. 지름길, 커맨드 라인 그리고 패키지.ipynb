{
 "cells": [
  {
   "cell_type": "markdown",
   "metadata": {},
   "source": [
    "## 4.1 개요"
   ]
  },
  {
   "cell_type": "markdown",
   "metadata": {},
   "source": [
    "## 4.2 22가지 프로그래밍 지름길"
   ]
  },
  {
   "cell_type": "markdown",
   "metadata": {},
   "source": [
    "### 4.2.1 필요하다면 코드를 여러 줄에 걸쳐서 작성한다"
   ]
  },
  {
   "cell_type": "code",
   "execution_count": null,
   "metadata": {},
   "outputs": [],
   "source": [
    "my_str = 'I am Hen-er-y the Eighth,' ' I am!'\n",
    "print(my_str)"
   ]
  },
  {
   "cell_type": "code",
   "execution_count": null,
   "metadata": {},
   "outputs": [],
   "source": [
    "my_str = 'I am Hen-er-y the Eighth,' \\\n",
    "' I am!'\n",
    "my_str"
   ]
  },
  {
   "cell_type": "code",
   "execution_count": null,
   "metadata": {},
   "outputs": [],
   "source": [
    "my_str = ('I am Hen-er-y the Eighth, '\n",
    "'I am! I am not just any Henry VIII, '\n",
    "'I really am!')\n",
    "my_str"
   ]
  },
  {
   "cell_type": "code",
   "execution_count": null,
   "metadata": {},
   "outputs": [],
   "source": [
    "side1, side2 = 10, 5\n",
    "length_of_hypotenuse = ( (side1 * side1 + side2 * side2)\n",
    "                        ** 0.5 )\n",
    "length_of_hypotenuse"
   ]
  },
  {
   "cell_type": "markdown",
   "metadata": {},
   "source": [
    "### 4.2.2\t for 루프는 현명하게 사용한다."
   ]
  },
  {
   "cell_type": "code",
   "execution_count": null,
   "metadata": {},
   "outputs": [],
   "source": [
    "beat_list = ['John', 'Paul', 'George', 'Ringo']\n",
    "for i in range(len(beat_list)):\n",
    "    print(beat_list[i])"
   ]
  },
  {
   "cell_type": "code",
   "execution_count": null,
   "metadata": {},
   "outputs": [],
   "source": [
    "beat_list = ['John', 'Paul', 'George', 'Ringo']\n",
    "for guy in beat_list:\n",
    "    print(guy)"
   ]
  },
  {
   "cell_type": "code",
   "execution_count": null,
   "metadata": {},
   "outputs": [],
   "source": [
    "beat_list = ['John', 'Paul', 'George', 'Ringo']\n",
    "for i, name in enumerate(beat_list, 1):\n",
    "    print(i, '. ', name, sep='')"
   ]
  },
  {
   "cell_type": "markdown",
   "metadata": {},
   "source": [
    "### 4.2.3 조합 대입 연산자를 이해한다. (예: +=)"
   ]
  },
  {
   "cell_type": "markdown",
   "metadata": {},
   "source": [
    "<img src=\"./images_skill_up/4-1.PNG\" style=\"width: 50%\" />"
   ]
  },
  {
   "cell_type": "code",
   "execution_count": null,
   "metadata": {},
   "outputs": [],
   "source": [
    "s1 = s2 = 'A string.'\n",
    "s1 += '...with more stuff!'\n",
    "print('s1:', s1)\n",
    "print('s2:', s2)"
   ]
  },
  {
   "cell_type": "code",
   "execution_count": null,
   "metadata": {},
   "outputs": [],
   "source": [
    "a_list = b_list = [10, 20]\n",
    "a_list += [30, 40]\n",
    "print('a_list:', a_list)\n",
    "print('b_list:', b_list)"
   ]
  },
  {
   "cell_type": "code",
   "execution_count": null,
   "metadata": {},
   "outputs": [],
   "source": [
    "str_list = []\n",
    "n = ord('a')\n",
    "for i in range(n, n + 26):\n",
    "    str_list += chr(i)\n",
    "alphabet_str = ''.join(str_list)\n",
    "alphabet_str"
   ]
  },
  {
   "cell_type": "markdown",
   "metadata": {},
   "source": [
    "### 4.2.4 다중 대입을 사용한다"
   ]
  },
  {
   "cell_type": "code",
   "execution_count": null,
   "metadata": {},
   "outputs": [],
   "source": [
    "a = b = c = d = e = 0"
   ]
  },
  {
   "cell_type": "code",
   "execution_count": null,
   "metadata": {},
   "outputs": [],
   "source": [
    "a is b"
   ]
  },
  {
   "cell_type": "markdown",
   "metadata": {},
   "source": [
    "### 4.2.5 튜플 대입을 사용한다"
   ]
  },
  {
   "cell_type": "code",
   "execution_count": null,
   "metadata": {},
   "outputs": [],
   "source": [
    "a = 1\n",
    "b = 0"
   ]
  },
  {
   "cell_type": "code",
   "execution_count": null,
   "metadata": {},
   "outputs": [],
   "source": [
    "a, b = 1, 0"
   ]
  },
  {
   "cell_type": "code",
   "execution_count": null,
   "metadata": {},
   "outputs": [],
   "source": [
    "a = 4, 8, 12 \t\t# a는 이제 3개 값을 지닌 튜플이다.\n",
    "a"
   ]
  },
  {
   "cell_type": "code",
   "execution_count": null,
   "metadata": {},
   "outputs": [],
   "source": [
    "def fibo(n):\n",
    "    a, b = 1, 0\n",
    "\n",
    "    while a <= n:\n",
    "        print(a, end=' ')\n",
    "        a, b = a + b, a\n",
    "        \n",
    "fibo(10)"
   ]
  },
  {
   "cell_type": "code",
   "execution_count": null,
   "metadata": {},
   "outputs": [],
   "source": [
    "a, b = 10, 20\n",
    "temp = a \t# a 기존 값 보존\n",
    "a = a + b \t# a에 신규 값 설정\n",
    "b = temp \t# b에 a 기존 값 저장 \n",
    "print(a, b)"
   ]
  },
  {
   "cell_type": "code",
   "execution_count": null,
   "metadata": {},
   "outputs": [],
   "source": [
    "a, b = 10, 20\n",
    "a, b = a + b, a\n",
    "print(a, b)"
   ]
  },
  {
   "cell_type": "code",
   "execution_count": null,
   "metadata": {},
   "outputs": [],
   "source": [
    "x, y = 1, 25\n",
    "print(x, y) \t# 1 25 출력\n",
    "x, y = y, x\n",
    "print(x, y) \t# 25 1 출력"
   ]
  },
  {
   "cell_type": "markdown",
   "metadata": {},
   "source": [
    "### 4.2.6 고급 튜플 대입을 사용한다"
   ]
  },
  {
   "cell_type": "code",
   "execution_count": null,
   "metadata": {},
   "outputs": [],
   "source": [
    "tup = 10, 20, 30\n",
    "a, b, c = tup\n",
    "print(a, b, c) \t\t# 10, 20, 30 출력"
   ]
  },
  {
   "cell_type": "code",
   "execution_count": null,
   "metadata": {},
   "outputs": [],
   "source": [
    "tup = 10, 20, 30\n",
    "a, b = tup \t\t# 에러: 언팩 대상 값이 너무 많음"
   ]
  },
  {
   "cell_type": "code",
   "execution_count": null,
   "metadata": {},
   "outputs": [],
   "source": [
    "my_list = [3]"
   ]
  },
  {
   "cell_type": "code",
   "execution_count": null,
   "metadata": {},
   "outputs": [],
   "source": [
    "my_tup = (3)\n",
    "print(type(my_tup))"
   ]
  },
  {
   "cell_type": "code",
   "execution_count": null,
   "metadata": {},
   "outputs": [],
   "source": [
    "my_tup = (3,) \t# 한 항목 3을 가진 튜플 만들기\n",
    "print(type(my_tup))"
   ]
  },
  {
   "cell_type": "code",
   "execution_count": null,
   "metadata": {},
   "outputs": [],
   "source": [
    "a, *b = 2, 4, 6, 8\n",
    "print(a, b)"
   ]
  },
  {
   "cell_type": "code",
   "execution_count": null,
   "metadata": {},
   "outputs": [],
   "source": [
    "a, *b, c = 10, 20, 30, 40, 50\n",
    "print(a, b, c)"
   ]
  },
  {
   "cell_type": "code",
   "execution_count": null,
   "metadata": {},
   "outputs": [],
   "source": [
    "big, bigger, *many = 100, 200, 300, 400, 500, 600"
   ]
  },
  {
   "cell_type": "code",
   "execution_count": null,
   "metadata": {},
   "outputs": [],
   "source": [
    "print(big, bigger, many, sep='\\n')"
   ]
  },
  {
   "cell_type": "markdown",
   "metadata": {},
   "source": [
    "### 4.2.7 리스트와 문자열 '곱하기'를 사용한다"
   ]
  },
  {
   "cell_type": "code",
   "execution_count": null,
   "metadata": {},
   "outputs": [],
   "source": [
    "my_list = [0] * 10000\n",
    "len(my_list)"
   ]
  },
  {
   "cell_type": "code",
   "execution_count": null,
   "metadata": {},
   "outputs": [],
   "source": [
    "my_list = 1999 * [12]\n",
    "len(my_list)"
   ]
  },
  {
   "cell_type": "code",
   "execution_count": null,
   "metadata": {},
   "outputs": [],
   "source": [
    "trip_list = [1, 2, 3] * 100\n",
    "len(trip_list)"
   ]
  },
  {
   "cell_type": "code",
   "execution_count": null,
   "metadata": {},
   "outputs": [],
   "source": [
    "divider_str = '_' * 40\n",
    "divider_str"
   ]
  },
  {
   "cell_type": "markdown",
   "metadata": {},
   "source": [
    "### 4.2.8 다중 값을 반환한다"
   ]
  },
  {
   "cell_type": "code",
   "execution_count": null,
   "metadata": {},
   "outputs": [],
   "source": [
    "def double_me(n):\n",
    "  n *= 2\n",
    "\n",
    "a = 10\n",
    "double_me(a)\n",
    "print(a) \t# a 값이 두배가 되지 않는다!!"
   ]
  },
  {
   "cell_type": "code",
   "execution_count": null,
   "metadata": {},
   "outputs": [],
   "source": [
    "def double_me(n):\n",
    "    return n * 2\n",
    "\n",
    "a = 10\n",
    "a = double_me(a)\n",
    "print(a)"
   ]
  },
  {
   "cell_type": "code",
   "execution_count": null,
   "metadata": {},
   "outputs": [],
   "source": [
    "def quad(a, b, c):\n",
    "    determin = (b * b - 4 * a * c) ** .5\n",
    "    x1 = (-b + determin) / (2 * a)\n",
    "    x2 = (-b - determin) / (2 * a)\n",
    "    return x1, x2"
   ]
  },
  {
   "cell_type": "code",
   "execution_count": null,
   "metadata": {},
   "outputs": [],
   "source": [
    "x1, x2 = quad(1, -1, -1)"
   ]
  },
  {
   "cell_type": "code",
   "execution_count": null,
   "metadata": {},
   "outputs": [],
   "source": [
    "x = quad(1, -1, -1)\n",
    "x"
   ]
  },
  {
   "cell_type": "markdown",
   "metadata": {},
   "source": [
    "### 4.2.9 루프와 else 키워드를 사용한다"
   ]
  },
  {
   "cell_type": "code",
   "execution_count": null,
   "metadata": {},
   "outputs": [],
   "source": [
    "def find_divisor(n, max):\n",
    "    for i in range(2, max + 1):\n",
    "        if n % i == 0:\n",
    "            print(i, 'divides evenly into', n)\n",
    "            break\n",
    "    else:\n",
    "        print('No divisor found')"
   ]
  },
  {
   "cell_type": "code",
   "execution_count": null,
   "metadata": {},
   "outputs": [],
   "source": [
    "find_divisor(49, 6)"
   ]
  },
  {
   "cell_type": "code",
   "execution_count": null,
   "metadata": {},
   "outputs": [],
   "source": [
    "find_divisor(49, 7)"
   ]
  },
  {
   "cell_type": "markdown",
   "metadata": {},
   "source": [
    "### 4.2.10\t 불리언과 'not'의 이점을 활용한다"
   ]
  },
  {
   "cell_type": "code",
   "execution_count": null,
   "metadata": {},
   "outputs": [],
   "source": [
    "my_str = ''\n",
    "while True:\n",
    "    if len(my_str) == 0:\n",
    "        break"
   ]
  },
  {
   "cell_type": "code",
   "execution_count": null,
   "metadata": {},
   "outputs": [],
   "source": [
    "while True:\n",
    "    if not my_str:\n",
    "        break"
   ]
  },
  {
   "cell_type": "markdown",
   "metadata": {},
   "source": [
    "### 4.2.11\t 문자열은 문자의 나열로 다룬다"
   ]
  },
  {
   "cell_type": "code",
   "execution_count": null,
   "metadata": {},
   "outputs": [],
   "source": [
    "test_str = input('Enter test string: ')\n",
    "a_list = [c.upper() for c in test_str if c.isalnum()]\n",
    "print(a_list == a_list[::-1])"
   ]
  },
  {
   "cell_type": "markdown",
   "metadata": {},
   "source": [
    "### 4.2.12\t replace를 사용하여 문자를 제거한다"
   ]
  },
  {
   "cell_type": "code",
   "execution_count": null,
   "metadata": {},
   "outputs": [],
   "source": [
    "s = '1 / 2'\n",
    "s = s.replace(' ', '')\n",
    "s"
   ]
  },
  {
   "cell_type": "code",
   "execution_count": null,
   "metadata": {},
   "outputs": [],
   "source": [
    "s = 'same day'\n",
    "a_list = [c for c in s if c not in 'aeiou']\n",
    "s = ''.join(a_list)\n",
    "s"
   ]
  },
  {
   "cell_type": "markdown",
   "metadata": {},
   "source": [
    "### 4.2.13\t 필요 없는 루프는 사용하지 않는다"
   ]
  },
  {
   "cell_type": "code",
   "execution_count": null,
   "metadata": {},
   "outputs": [],
   "source": [
    "def calc_triangle_num(n):\n",
    "    return sum(range(n+1))\n",
    "calc_triangle_num(10)"
   ]
  },
  {
   "cell_type": "code",
   "execution_count": null,
   "metadata": {},
   "outputs": [],
   "source": [
    "def get_avg(a_list):\n",
    "    return sum(a_list) / len(a_list)\n",
    "get_avg([10, 20, 30, 40])"
   ]
  },
  {
   "cell_type": "markdown",
   "metadata": {},
   "source": [
    "### 4.2.14\t 연결된(chained) 비교 연산자를 사용한다"
   ]
  },
  {
   "cell_type": "code",
   "execution_count": null,
   "metadata": {},
   "outputs": [],
   "source": [
    "x = 55\n",
    "if 0 < x and x < 100:\n",
    "    print('x is in range.')"
   ]
  },
  {
   "cell_type": "code",
   "execution_count": null,
   "metadata": {},
   "outputs": [],
   "source": [
    "if 0 < x < 100: \t\t\t# 연결된(chained) 비교 연산자 사용\n",
    "    print('x is in range.')"
   ]
  },
  {
   "cell_type": "code",
   "execution_count": null,
   "metadata": {},
   "outputs": [],
   "source": [
    "a, b, c = 5, 10, 15\n",
    "if 0 < a <= c > b > 1:\n",
    "    print('All these comparisons are true!')\n",
    "    print('c is equal or greater than all the rest!')"
   ]
  },
  {
   "cell_type": "code",
   "execution_count": null,
   "metadata": {},
   "outputs": [],
   "source": [
    "a = b = c = d = e = 100\n",
    "if a == b == c == d == e:\n",
    "    print('All the variables are equal to each other.')"
   ]
  },
  {
   "cell_type": "code",
   "execution_count": null,
   "metadata": {},
   "outputs": [],
   "source": [
    "a_list = [1, 1, 1, 1, 1, 1, 1, 1, 1, 1, 1, 1, 1, 1 ,1 ,1]\n",
    "if min(a_list) == max(a_list):\n",
    "    print('All the elements are equal to each other.')"
   ]
  },
  {
   "cell_type": "markdown",
   "metadata": {},
   "source": [
    "### 4.2.15\t 함수 테이블(리스트, 딕셔너리)로 'switch'를 모방한다"
   ]
  },
  {
   "cell_type": "code",
   "execution_count": null,
   "metadata": {},
   "outputs": [],
   "source": [
    "n = 1\n",
    "\n",
    "def test(name='init'):\n",
    "    print('hello,', name)\n",
    "\n",
    "do_plot = do_highlow_plot = do_volume_subplot = do_movingavg_plot = test\n",
    "stockdf = 'insuk'\n",
    "\n",
    "if n == 1:\n",
    "    do_plot(stockdf)\n",
    "elif n == 2:\n",
    "    do_highlow_plot(stockdf)\n",
    "elif n == 3:\n",
    "    do_volume_subplot(stockdf)\n",
    "elif n == 4:\n",
    "    do_movingavg_plot(stockdf)"
   ]
  },
  {
   "cell_type": "code",
   "execution_count": null,
   "metadata": {},
   "outputs": [],
   "source": [
    "fn = [do_plot, do_highlow_plot, do_volume_subplot, do_movingavg_plot][n-1]\n",
    "fn(stockdf) \t\t# 함수 호출"
   ]
  },
  {
   "cell_type": "code",
   "execution_count": null,
   "metadata": {},
   "outputs": [],
   "source": [
    "load_fn = save_fn = exit_fn = update_fn = test\n",
    "selector = 'exit'\n",
    "\n",
    "menu_dict = {'load':load_fn, 'save':save_fn, 'exit':exit_fn, 'update':update_fn}\n",
    "(menu_dict[selector])() \t\t\t# 함수 호출"
   ]
  },
  {
   "cell_type": "markdown",
   "metadata": {},
   "source": [
    "### 4.2.16\t is 연산자는 정확하게 사용한다"
   ]
  },
  {
   "cell_type": "code",
   "execution_count": null,
   "metadata": {},
   "outputs": [],
   "source": [
    "a = 'cat'\n",
    "b = 'cat'\n",
    "a == b \t\t# 반드시 True 반환"
   ]
  },
  {
   "cell_type": "code",
   "execution_count": null,
   "metadata": {},
   "outputs": [],
   "source": [
    "s1 = 'I am what I am and that is all that I am.'\n",
    "s2 = 'I am what I am' + ' and that is all that I am.'\n",
    "s1 == s2"
   ]
  },
  {
   "cell_type": "code",
   "execution_count": null,
   "metadata": {},
   "outputs": [],
   "source": [
    "s1 is s2"
   ]
  },
  {
   "cell_type": "code",
   "execution_count": null,
   "metadata": {},
   "outputs": [],
   "source": [
    "def my_function():\n",
    "    return None\n",
    "\n",
    "a_value = my_function()\n",
    "if a_value is None:\n",
    "    # None이 반환되면 특별한 행동을 취해라.\n",
    "    print('a_value 함수의 반환값은 None이다.')"
   ]
  },
  {
   "cell_type": "markdown",
   "metadata": {},
   "source": [
    "### 4.2.17\t 단일 행 for 루프를 사용한다"
   ]
  },
  {
   "cell_type": "code",
   "execution_count": null,
   "metadata": {},
   "outputs": [],
   "source": [
    "for i in range(10): print(i, end=' ')"
   ]
  },
  {
   "cell_type": "markdown",
   "metadata": {},
   "source": [
    "### 4.2.18\t 여러 문장을 하나의 행으로 줄인다"
   ]
  },
  {
   "cell_type": "code",
   "execution_count": null,
   "metadata": {},
   "outputs": [],
   "source": [
    "for i in range(5): n=i*2; m = 5; print(n+m, end=' ')"
   ]
  },
  {
   "cell_type": "code",
   "execution_count": null,
   "metadata": {},
   "outputs": [],
   "source": [
    "a = 1; b = 2; c = a + b; print(c)"
   ]
  },
  {
   "cell_type": "markdown",
   "metadata": {},
   "source": [
    "### 4.2.19\t 단일 행 if/then/else 문을 작성한다"
   ]
  },
  {
   "cell_type": "code",
   "execution_count": null,
   "metadata": {},
   "outputs": [],
   "source": [
    "turn = 0\n",
    "\n",
    "if turn % 2:\n",
    "    cell = 'X'\n",
    "else:\n",
    "    cell = 'O'\n",
    "\n",
    "cell"
   ]
  },
  {
   "cell_type": "code",
   "execution_count": null,
   "metadata": {},
   "outputs": [],
   "source": [
    "cell = 'X' if turn % 2 else 'O'\n",
    "cell"
   ]
  },
  {
   "cell_type": "markdown",
   "metadata": {},
   "source": [
    "### 4.2.20\t range와 함께 Enum을 생성한다"
   ]
  },
  {
   "cell_type": "code",
   "execution_count": null,
   "metadata": {},
   "outputs": [],
   "source": [
    "red = 0\n",
    "blue = 1\n",
    "green = 2\n",
    "black = 3\n",
    "white = 4\n",
    "\n",
    "print(red, blue, green, black, white)"
   ]
  },
  {
   "cell_type": "code",
   "execution_count": null,
   "metadata": {},
   "outputs": [],
   "source": [
    "red, blue, green, black, white = range(5)\n",
    "print(red, blue, green, black, white)"
   ]
  },
  {
   "cell_type": "code",
   "execution_count": null,
   "metadata": {},
   "outputs": [],
   "source": [
    "red, blue, green, black, white = range(1, 6)\n",
    "print(red, blue, green, black, white)"
   ]
  },
  {
   "cell_type": "code",
   "execution_count": null,
   "metadata": {},
   "outputs": [],
   "source": [
    "import enum\n",
    "help(enum)"
   ]
  },
  {
   "cell_type": "markdown",
   "metadata": {},
   "source": [
    "### 4.2.21\t IDLE안에서 비효율적인 print 함수 사용을 줄인다"
   ]
  },
  {
   "cell_type": "code",
   "execution_count": null,
   "metadata": {},
   "outputs": [],
   "source": [
    "for i in range(20):\n",
    "    for j in range(40):\n",
    "        print('*', end='')\n",
    "    print()"
   ]
  },
  {
   "cell_type": "code",
   "execution_count": null,
   "metadata": {},
   "outputs": [],
   "source": [
    "row_of_asterisks = '*' * 40\n",
    "for i in range(20):\n",
    "    print(row_of_asterisks)"
   ]
  },
  {
   "cell_type": "code",
   "execution_count": null,
   "metadata": {},
   "outputs": [],
   "source": [
    "row_of_asterisks = '*' * 40\n",
    "s = ''\n",
    "for i in range(20):\n",
    "    s += row_of_asterisks + '\\n'\n",
    "print(s)"
   ]
  },
  {
   "cell_type": "code",
   "execution_count": null,
   "metadata": {},
   "outputs": [],
   "source": [
    "row_of_asterisks = '*' * 40\n",
    "list_of_str = []\n",
    "for i in range(20):\n",
    "    list_of_str.append(row_of_asterisks)\n",
    "print('\\n'.join(list_of_str))"
   ]
  },
  {
   "cell_type": "code",
   "execution_count": null,
   "metadata": {},
   "outputs": [],
   "source": [
    "print('\\n'.join(['*' * 40] * 20))"
   ]
  },
  {
   "cell_type": "markdown",
   "metadata": {},
   "source": [
    "### 4.2.22\t 큰 번호 안에 언드스코어(_)를 넣는다"
   ]
  },
  {
   "cell_type": "code",
   "execution_count": null,
   "metadata": {},
   "outputs": [],
   "source": [
    "CEO_salary = 1500000"
   ]
  },
  {
   "cell_type": "code",
   "execution_count": null,
   "metadata": {},
   "outputs": [],
   "source": [
    "CEO_salary = 1_500_000\n",
    "CEO_salary"
   ]
  },
  {
   "cell_type": "markdown",
   "metadata": {},
   "source": [
    "## 4.3\t커맨드 라인에서 파이썬 실행하기"
   ]
  },
  {
   "cell_type": "markdown",
   "metadata": {},
   "source": [
    "## 4.4\tDoc Strings 작성하고 사용하기 "
   ]
  },
  {
   "cell_type": "code",
   "execution_count": null,
   "metadata": {},
   "outputs": [],
   "source": [
    "def quad(a, b, c):\n",
    "    '''Quadratic Formula function.\n",
    "    This function applies the Quadratic Formula\n",
    "    to determine the roots of x in a quadratic\n",
    "    equation of the form ax^2 + bx + c = 0.\n",
    "    '''\n",
    "    determin = (b * b - 4 * a * c) ** .5\n",
    "    x1 = (-b + determin) / (2 * a)\n",
    "    x2 = (-b - determin) / (2 * a)\n",
    "    return x1, x2"
   ]
  },
  {
   "cell_type": "code",
   "execution_count": null,
   "metadata": {},
   "outputs": [],
   "source": [
    "help(quad)"
   ]
  },
  {
   "cell_type": "code",
   "execution_count": null,
   "metadata": {},
   "outputs": [],
   "source": [
    "def quad(a, b, c):\n",
    "    '''Quadratic Formula function.\n",
    "\n",
    "This function applies the Quadratic Formula\n",
    "to determine the roots of x in a quadratic\n",
    "equation of the form ax^2 + bx + c = 0.\n",
    "'''\n",
    "\n",
    "    determin = (b * b - 4 * a * c) ** .5\n",
    "    x1 = (-b + determin) / (2 * a)\n",
    "    x2 = (-b - determin) / (2 * a)\n",
    "    return x1, x2"
   ]
  },
  {
   "cell_type": "code",
   "execution_count": null,
   "metadata": {},
   "outputs": [],
   "source": [
    "help(quad)"
   ]
  },
  {
   "cell_type": "markdown",
   "metadata": {},
   "source": [
    "## 4.5 패키지 탑재하기"
   ]
  },
  {
   "cell_type": "code",
   "execution_count": null,
   "metadata": {},
   "outputs": [],
   "source": [
    "import math\n",
    "help(math)"
   ]
  },
  {
   "cell_type": "code",
   "execution_count": null,
   "metadata": {},
   "outputs": [],
   "source": [
    "math.sqrt(2)"
   ]
  },
  {
   "cell_type": "code",
   "execution_count": null,
   "metadata": {},
   "outputs": [],
   "source": [
    "math.atan(1) * 4"
   ]
  },
  {
   "cell_type": "code",
   "execution_count": null,
   "metadata": {},
   "outputs": [],
   "source": [
    "math.pi"
   ]
  },
  {
   "cell_type": "code",
   "execution_count": null,
   "metadata": {},
   "outputs": [],
   "source": [
    "import matplotlib.pyplot as plt"
   ]
  },
  {
   "cell_type": "code",
   "execution_count": null,
   "metadata": {},
   "outputs": [],
   "source": [
    "from math import pi\n",
    "print(pi)"
   ]
  },
  {
   "cell_type": "code",
   "execution_count": null,
   "metadata": {},
   "outputs": [],
   "source": [
    "from math import *\n",
    "print(pi)\n",
    "print(sqrt(2))"
   ]
  },
  {
   "cell_type": "markdown",
   "metadata": {},
   "source": [
    "## 4.6 파이썬 패키지의 가이드 투어?"
   ]
  },
  {
   "cell_type": "markdown",
   "metadata": {},
   "source": [
    "## 4.7 일급 객체인 함수"
   ]
  },
  {
   "cell_type": "code",
   "execution_count": null,
   "metadata": {},
   "outputs": [],
   "source": [
    "def avg(a_list):\n",
    "    '''리스트 항목들의 평균값을 반환한다'''\n",
    "    x = (sum(a_list) / len(a_list))\n",
    "    print('The average is:', x)\n",
    "    return x"
   ]
  },
  {
   "cell_type": "code",
   "execution_count": null,
   "metadata": {},
   "outputs": [],
   "source": [
    "type(avg)"
   ]
  },
  {
   "cell_type": "code",
   "execution_count": null,
   "metadata": {},
   "outputs": [],
   "source": [
    "def new_func(a_list):\n",
    "    return (sum(a_list) / len(a_list))\n",
    "\n",
    "old_avg = avg\n",
    "avg = new_func"
   ]
  },
  {
   "cell_type": "code",
   "execution_count": null,
   "metadata": {},
   "outputs": [],
   "source": [
    "old_avg([4, 6])"
   ]
  },
  {
   "cell_type": "code",
   "execution_count": null,
   "metadata": {},
   "outputs": [],
   "source": [
    "def func_info(func):\n",
    "    print('Function name:', func.__name__)\n",
    "    print('Function documentation:')\n",
    "    help(func)"
   ]
  },
  {
   "cell_type": "code",
   "execution_count": null,
   "metadata": {},
   "outputs": [],
   "source": [
    "func_info(old_avg)"
   ]
  },
  {
   "cell_type": "markdown",
   "metadata": {},
   "source": [
    "## 4.8\t 가변길이 매개변수\n",
    "\n",
    "### 4.8.1\t *args 리스트"
   ]
  },
  {
   "cell_type": "code",
   "execution_count": null,
   "metadata": {},
   "outputs": [],
   "source": [
    "def my_var_func(*args):\n",
    "    print('The number of args is', len(args))\n",
    "    for item in args:\n",
    "        print(item)\n",
    "\n",
    "my_var_func(10, 20, 30, 40)"
   ]
  },
  {
   "cell_type": "code",
   "execution_count": null,
   "metadata": {},
   "outputs": [],
   "source": [
    "def avg(*args):\n",
    "    return sum(args)/len(args)\n",
    "\n",
    "avg(11, 22, 33)"
   ]
  },
  {
   "cell_type": "code",
   "execution_count": null,
   "metadata": {},
   "outputs": [],
   "source": [
    "avg(1, 2)"
   ]
  },
  {
   "cell_type": "code",
   "execution_count": null,
   "metadata": {},
   "outputs": [],
   "source": [
    "def avg(units, *args):\n",
    "    print (sum(args)/len(args), units)\n",
    "\n",
    "avg('inches', 11, 22, 33)"
   ]
  },
  {
   "cell_type": "code",
   "execution_count": null,
   "metadata": {},
   "outputs": [],
   "source": [
    "ls = [1, 2, 3]     # 언팩된 리스트\n",
    "print(*ls)         # 언팩 버전 출력하기"
   ]
  },
  {
   "cell_type": "code",
   "execution_count": null,
   "metadata": {},
   "outputs": [],
   "source": [
    "print(ls)          # 패킹된 버전 출력하기 (일반 리스트)"
   ]
  },
  {
   "cell_type": "markdown",
   "metadata": {},
   "source": [
    "### 4.8.2\t **kwargs 리스트"
   ]
  },
  {
   "cell_type": "code",
   "execution_count": null,
   "metadata": {},
   "outputs": [],
   "source": [
    "print(10, 20, 30, end='.', sep=',')"
   ]
  },
  {
   "cell_type": "code",
   "execution_count": null,
   "metadata": {},
   "outputs": [],
   "source": [
    "def pr_named_vals(**kwargs):\n",
    "    for k in kwargs:\n",
    "        print(k, ':', kwargs[k])"
   ]
  },
  {
   "cell_type": "code",
   "execution_count": null,
   "metadata": {},
   "outputs": [],
   "source": [
    "pr_named_vals(a=10, b=20, c=30)"
   ]
  },
  {
   "cell_type": "code",
   "execution_count": null,
   "metadata": {},
   "outputs": [],
   "source": [
    "def pr_vals_2(*args, **kwargs):\n",
    "    for i in args:\n",
    "        print(i)\n",
    "    for k in kwargs:\n",
    "        print(k, ':', kwargs[k])\n",
    "\n",
    "pr_vals_2(1, 2, 3, -4, a=100, b=200)"
   ]
  },
  {
   "cell_type": "markdown",
   "metadata": {},
   "source": [
    "## 4.9\t 데코레이터(Decorator)와 함수 프로파일러(Profiler)"
   ]
  },
  {
   "cell_type": "code",
   "execution_count": 1,
   "metadata": {},
   "outputs": [],
   "source": [
    "import time\n",
    "\n",
    "def make_timer(func):\n",
    "    def wrapper():\n",
    "        t1 = time.time()\n",
    "        ret_val = func()\n",
    "        t2 = time.time()\n",
    "        print('소요 시간 :', t2 - t1)\n",
    "        return ret_val\n",
    "    return wrapper"
   ]
  },
  {
   "cell_type": "code",
   "execution_count": 2,
   "metadata": {},
   "outputs": [],
   "source": [
    "import time\n",
    "\n",
    "def make_timer(func):\n",
    "    def wrapper(*args, **kwargs):\n",
    "        t1 = time.time()\n",
    "        ret_val = func(*args, **kwargs)\n",
    "        t2 = time.time()\n",
    "        print('소요 시간 :', t2 - t1)\n",
    "        return ret_val\n",
    "    return wrapper"
   ]
  },
  {
   "cell_type": "code",
   "execution_count": 3,
   "metadata": {},
   "outputs": [],
   "source": [
    "def count_nums(n):\n",
    "    for i in range(n):\n",
    "        for j in range(1000):\n",
    "            pass\n",
    "\n",
    "count_nums = make_timer(count_nums)"
   ]
  },
  {
   "cell_type": "code",
   "execution_count": 4,
   "metadata": {},
   "outputs": [],
   "source": [
    "def wrapper(*args, **kwargs):\n",
    "    t1 = time.time()\n",
    "    ret_val = func(*args, **kwargs)\n",
    "    t2 = time.time()\n",
    "    print('소요 시간 :', t2 - t1)\n",
    "    return ret_val"
   ]
  },
  {
   "cell_type": "code",
   "execution_count": 5,
   "metadata": {},
   "outputs": [
    {
     "name": "stdout",
     "output_type": "stream",
     "text": [
      "소요 시간 : 1.1030499935150146\n"
     ]
    }
   ],
   "source": [
    "count_nums(33000)"
   ]
  },
  {
   "cell_type": "code",
   "execution_count": 6,
   "metadata": {},
   "outputs": [],
   "source": [
    "@make_timer\n",
    "def count_nums(n):\n",
    "    for i in range(n):\n",
    "        for j in range(1000):\n",
    "            pass"
   ]
  },
  {
   "cell_type": "markdown",
   "metadata": {},
   "source": [
    "## 4.10\t 제너레이터\n",
    "\n",
    "### 4.10.1\t 이터레이터란 무엇인가?"
   ]
  },
  {
   "cell_type": "markdown",
   "metadata": {},
   "source": [
    "- 이터레이터 객체 정의\n",
    "  - 가상의 Sequence 자료를 지니고 있으면서 내부적으로 \\_\\_next\\_\\_(self) 메직 메소드를 지니고 있는 객체\n",
    "  - 내부적으로 지닌 Sequence 자료를 차례로 반환  \n",
    "  - next() 내장 함수에 대응됨  \n",
    "    - next() 내장 함수를 통해 각 원소들을 반환할 수 있는 객체\n",
    "    - next() 내장 함수를 통해 더 이상 자료를 념겨줄 수 없을 때 StopIteration 예외 발생\n",
    "  - 이터레이터 객체의 효율성\n",
    "    - 반복자가 원 객체의 원소들을 복사하여 지니고 있지 않다.\n",
    "      \n",
    "- 임의의 객체에 대해 반복자 객체를 얻어오는 방법\n",
    "  - iter(o) 내장 함수\n",
    "    - 객체 o의 반복자 객체를 반환한다.\n",
    "\n",
    "- 집합적 객체 A --> iter(A) --> 반복자 객체 B 반환 --> next(B) --> 집합적 자료형 안의 내부 원소를 하나씩 반환\n",
    "\n",
    "- 반복자 객체의 메모리 효율성\n",
    "  - 반복자가 원 객체의 원소들을 복사하여 지니고 있지 않다.    \n",
    "    \n",
    "    \n"
   ]
  },
  {
   "cell_type": "code",
   "execution_count": 8,
   "metadata": {},
   "outputs": [
    {
     "name": "stdout",
     "output_type": "stream",
     "text": [
      "<list_iterator object at 0x7fb4003b82b0>\n",
      "1\n",
      "2\n",
      "3\n"
     ]
    },
    {
     "ename": "StopIteration",
     "evalue": "",
     "output_type": "error",
     "traceback": [
      "\u001b[0;31m---------------------------------------------------------------------------\u001b[0m",
      "\u001b[0;31mStopIteration\u001b[0m                             Traceback (most recent call last)",
      "\u001b[0;32m<ipython-input-8-3cf7a518ca85>\u001b[0m in \u001b[0;36m<module>\u001b[0;34m\u001b[0m\n\u001b[1;32m      5\u001b[0m \u001b[0mprint\u001b[0m\u001b[0;34m(\u001b[0m\u001b[0mnext\u001b[0m\u001b[0;34m(\u001b[0m\u001b[0mI\u001b[0m\u001b[0;34m)\u001b[0m\u001b[0;34m)\u001b[0m\u001b[0;34m\u001b[0m\u001b[0;34m\u001b[0m\u001b[0m\n\u001b[1;32m      6\u001b[0m \u001b[0mprint\u001b[0m\u001b[0;34m(\u001b[0m\u001b[0mnext\u001b[0m\u001b[0;34m(\u001b[0m\u001b[0mI\u001b[0m\u001b[0;34m)\u001b[0m\u001b[0;34m)\u001b[0m\u001b[0;34m\u001b[0m\u001b[0;34m\u001b[0m\u001b[0m\n\u001b[0;32m----> 7\u001b[0;31m \u001b[0mprint\u001b[0m\u001b[0;34m(\u001b[0m\u001b[0mnext\u001b[0m\u001b[0;34m(\u001b[0m\u001b[0mI\u001b[0m\u001b[0;34m)\u001b[0m\u001b[0;34m)\u001b[0m\u001b[0;34m\u001b[0m\u001b[0;34m\u001b[0m\u001b[0m\n\u001b[0m",
      "\u001b[0;31mStopIteration\u001b[0m: "
     ]
    }
   ],
   "source": [
    "I = iter([1,2,3])\n",
    "print(I)\n",
    "\n",
    "print(next(I))\n",
    "print(next(I))\n",
    "print(next(I))\n",
    "print(next(I))"
   ]
  },
  {
   "cell_type": "markdown",
   "metadata": {},
   "source": [
    "- 리스트 객체에 반복자와 StopIteration 예외를 동시에 활용한 예"
   ]
  },
  {
   "cell_type": "code",
   "execution_count": 11,
   "metadata": {},
   "outputs": [
    {
     "name": "stdout",
     "output_type": "stream",
     "text": [
      "2\n",
      "3\n",
      "4\n"
     ]
    }
   ],
   "source": [
    "def f(x):\n",
    "    print(x + 1)\n",
    "\n",
    "t = iter([1,2,3])\n",
    "while 1:\n",
    "    try:\n",
    "        x = next(t)\n",
    "    except StopIteration:\n",
    "        break\n",
    "    f(x)"
   ]
  },
  {
   "cell_type": "markdown",
   "metadata": {},
   "source": [
    "- 리스트 객체에 대해 일반적인 for ~ in 반복 문 사용예\n",
    "  - for 문이 반복할 때 마다 이터레이터 객체에 next() 내장 함수가 자동으로 호출되어 순차적으로 각 객체에 접근\n",
    "  - StopIteration이 발생하면 for ~ in 구문 자동 정지"
   ]
  },
  {
   "cell_type": "code",
   "execution_count": 12,
   "metadata": {},
   "outputs": [
    {
     "name": "stdout",
     "output_type": "stream",
     "text": [
      "2\n",
      "3\n",
      "4\n"
     ]
    }
   ],
   "source": [
    "def f(x):\n",
    "    print(x + 1)\n",
    "\n",
    "for x in [1,2,3]:\n",
    "    f(x)"
   ]
  },
  {
   "cell_type": "code",
   "execution_count": 13,
   "metadata": {},
   "outputs": [
    {
     "name": "stdout",
     "output_type": "stream",
     "text": [
      "<list_reverseiterator object at 0x7fb3f02b6eb8>\n"
     ]
    }
   ],
   "source": [
    "iter1 = reversed([1, 2, 3, 4])\n",
    "print(iter1)"
   ]
  },
  {
   "cell_type": "code",
   "execution_count": 14,
   "metadata": {},
   "outputs": [
    {
     "name": "stdout",
     "output_type": "stream",
     "text": [
      "[4, 3, 2, 1]\n"
     ]
    }
   ],
   "source": [
    "print(list(iter1))"
   ]
  },
  {
   "cell_type": "code",
   "execution_count": 15,
   "metadata": {},
   "outputs": [
    {
     "name": "stdout",
     "output_type": "stream",
     "text": [
      "4 3 2 1 "
     ]
    }
   ],
   "source": [
    "iter1 = reversed([1, 2, 3, 4])\n",
    "for i in iter1:\n",
    "    print(i, end=' ')"
   ]
  },
  {
   "cell_type": "code",
   "execution_count": 16,
   "metadata": {},
   "outputs": [
    {
     "name": "stdout",
     "output_type": "stream",
     "text": [
      "2\n",
      "3\n",
      "4\n"
     ]
    }
   ],
   "source": [
    "def f(x):\n",
    "    print(x + 1)\n",
    "\n",
    "t = iter([1, 2, 3])\n",
    "for x in t:\n",
    "    f(x)"
   ]
  },
  {
   "cell_type": "code",
   "execution_count": 17,
   "metadata": {},
   "outputs": [
    {
     "name": "stdout",
     "output_type": "stream",
     "text": [
      "2\n",
      "3\n",
      "4\n"
     ]
    }
   ],
   "source": [
    "def f(x):\n",
    "    print(x + 1)\n",
    "\n",
    "for x in iter([1, 2, 3]):\n",
    "    f(x)"
   ]
  },
  {
   "cell_type": "code",
   "execution_count": 18,
   "metadata": {},
   "outputs": [
    {
     "name": "stdout",
     "output_type": "stream",
     "text": [
      "2\n",
      "3\n",
      "4\n"
     ]
    }
   ],
   "source": [
    "def f(x):\n",
    "    print(x + 1)\n",
    "\n",
    "for x in iter((1, 2, 3)):\n",
    "    f(x)"
   ]
  },
  {
   "cell_type": "markdown",
   "metadata": {},
   "source": [
    "- 사전의 반복자\n",
    "  - 사전에 대해 for ~ in 구문은 키에 대해 반복한다.\n",
    "  - iter(d) 또는 iter(d.keys()) 사용"
   ]
  },
  {
   "cell_type": "code",
   "execution_count": 19,
   "metadata": {},
   "outputs": [
    {
     "name": "stdout",
     "output_type": "stream",
     "text": [
      "one 1\n",
      "two 2\n",
      "three 3\n",
      "four 4\n",
      "five 5\n"
     ]
    }
   ],
   "source": [
    "d = {'one':1, 'two':2, 'three':3, 'four':4, 'five':5}\n",
    "\n",
    "for key in d:\n",
    "    print(key, d[key])"
   ]
  },
  {
   "cell_type": "code",
   "execution_count": 20,
   "metadata": {},
   "outputs": [
    {
     "name": "stdout",
     "output_type": "stream",
     "text": [
      "one 1\n",
      "two 2\n",
      "three 3\n",
      "four 4\n",
      "five 5\n"
     ]
    }
   ],
   "source": [
    "d = {'one':1, 'two':2, 'three':3, 'four':4, 'five':5}\n",
    "\n",
    "for key in iter(d):\n",
    "    print(key, d[key])"
   ]
  },
  {
   "cell_type": "code",
   "execution_count": 21,
   "metadata": {},
   "outputs": [
    {
     "name": "stdout",
     "output_type": "stream",
     "text": [
      "<class 'dict_keys'>\n",
      "<class 'dict_keyiterator'>\n"
     ]
    }
   ],
   "source": [
    "print(type(d.keys()))\n",
    "print(type(iter(d.keys())))"
   ]
  },
  {
   "cell_type": "code",
   "execution_count": 22,
   "metadata": {},
   "outputs": [
    {
     "ename": "TypeError",
     "evalue": "'dict_keys' object is not an iterator",
     "output_type": "error",
     "traceback": [
      "\u001b[0;31m---------------------------------------------------------------------------\u001b[0m",
      "\u001b[0;31mTypeError\u001b[0m                                 Traceback (most recent call last)",
      "\u001b[0;32m<ipython-input-22-c8d50e7b8c9b>\u001b[0m in \u001b[0;36m<module>\u001b[0;34m\u001b[0m\n\u001b[0;32m----> 1\u001b[0;31m \u001b[0mnext\u001b[0m\u001b[0;34m(\u001b[0m\u001b[0md\u001b[0m\u001b[0;34m.\u001b[0m\u001b[0mkeys\u001b[0m\u001b[0;34m(\u001b[0m\u001b[0;34m)\u001b[0m\u001b[0;34m)\u001b[0m\u001b[0;34m\u001b[0m\u001b[0;34m\u001b[0m\u001b[0m\n\u001b[0m",
      "\u001b[0;31mTypeError\u001b[0m: 'dict_keys' object is not an iterator"
     ]
    }
   ],
   "source": [
    "next(d.keys())"
   ]
  },
  {
   "cell_type": "code",
   "execution_count": 23,
   "metadata": {},
   "outputs": [
    {
     "data": {
      "text/plain": [
       "'one'"
      ]
     },
     "execution_count": 23,
     "metadata": {},
     "output_type": "execute_result"
    }
   ],
   "source": [
    "next(iter(d.keys()))"
   ]
  },
  {
   "cell_type": "code",
   "execution_count": 27,
   "metadata": {},
   "outputs": [
    {
     "name": "stdout",
     "output_type": "stream",
     "text": [
      "one two three four five \n",
      "one two three four five "
     ]
    }
   ],
   "source": [
    "#python3.x\n",
    "for key in d.keys():   # 키에 대한 반복자, iter(d.keys()) 가 반환한 반복자에 대해 __next__(self) 함수가 순차적으로 불리워짐\n",
    "    print(key, end=\" \")\n",
    "\n",
    "print()\n",
    "\n",
    "for key in iter(d.keys()):   # 키에 대한 반복자, iter(d.keys()) 가 반환한 반복자에 대해 __next__(self) 함수가 순차적으로 불리워짐\n",
    "    print(key, end=\" \")"
   ]
  },
  {
   "cell_type": "code",
   "execution_count": 25,
   "metadata": {},
   "outputs": [
    {
     "name": "stdout",
     "output_type": "stream",
     "text": [
      "one\n",
      "two three four five "
     ]
    }
   ],
   "source": [
    "keyset = iter(d)\n",
    "\n",
    "print(next(keyset))     # 반복자 객체는 항상 next() 내장 함수에 값을 반환할 수 있음 (내부적으로 __next__(self) 호출)\n",
    "\n",
    "for key in keyset:      # keyset 반복자에 대해 next() 메소드가 순차적으로 호출됨\n",
    "    print(key, end=\" \")"
   ]
  },
  {
   "cell_type": "code",
   "execution_count": 26,
   "metadata": {},
   "outputs": [
    {
     "name": "stdout",
     "output_type": "stream",
     "text": [
      "<class 'dict_values'>\n",
      "<class 'dict_valueiterator'>\n"
     ]
    }
   ],
   "source": [
    "print(type(d.values()))\n",
    "print(type(iter(d.values())))"
   ]
  },
  {
   "cell_type": "code",
   "execution_count": 28,
   "metadata": {},
   "outputs": [
    {
     "name": "stdout",
     "output_type": "stream",
     "text": [
      "1 2 3 4 5 \n",
      "1 2 3 4 5 "
     ]
    }
   ],
   "source": [
    "#python3.x\n",
    "for key in d.values():   # 키에 대한 반복자, iter(d.keys()) 가 반환한 반복자에 대해 __next__(self) 함수가 순차적으로 불리워짐\n",
    "    print(key, end=\" \")\n",
    "\n",
    "print()\n",
    "\n",
    "for key in iter(d.values()):   # 키에 대한 반복자, iter(d.keys()) 가 반환한 반복자에 대해 __next__(self) 함수가 순차적으로 불리워짐\n",
    "    print(key, end=\" \")"
   ]
  },
  {
   "cell_type": "code",
   "execution_count": 29,
   "metadata": {},
   "outputs": [
    {
     "name": "stdout",
     "output_type": "stream",
     "text": [
      "<class 'dict_items'>\n",
      "<class 'dict_itemiterator'>\n"
     ]
    }
   ],
   "source": [
    "print(type(d.items()))\n",
    "print(type(iter(d.items())))"
   ]
  },
  {
   "cell_type": "code",
   "execution_count": 30,
   "metadata": {},
   "outputs": [
    {
     "name": "stdout",
     "output_type": "stream",
     "text": [
      "one 1\n",
      "two 2\n",
      "three 3\n",
      "four 4\n",
      "five 5\n"
     ]
    }
   ],
   "source": [
    "#python3.x\n",
    "for key, value in iter(d.items()):   # 키에 대한 반복자, iter(d.keys()) 가 반환한 반복자에 대해 __next__(self) 함수가 순차적으로 불리워짐\n",
    "    print(key, value)"
   ]
  },
  {
   "cell_type": "markdown",
   "metadata": {},
   "source": [
    "- 파일 객체의 반복자\n",
    "  - 파일 객체는 그 자체가 반복자임\n",
    "  - next() 함수에 의해 각 라인이 순차적으로 읽혀짐"
   ]
  },
  {
   "cell_type": "code",
   "execution_count": 31,
   "metadata": {},
   "outputs": [
    {
     "name": "stdout",
     "output_type": "stream",
     "text": [
      "next(f) -  abc\n",
      "\n",
      "def\n",
      "\n",
      "ghi\n"
     ]
    }
   ],
   "source": [
    "f = open('readme.txt')\n",
    "\n",
    "print(\"next(f) - \", next(f))\n",
    "\n",
    "for line in f:   # f.next() 가 순차적으로 호출됨\n",
    "    print(line)  "
   ]
  },
  {
   "cell_type": "markdown",
   "metadata": {},
   "source": [
    "### 4.10.2\t제너레이터 소개\n",
    "- 발생자(Generator)\n",
    "  - (중단됨 시점부터) 재실행 가능한 함수\n",
    "  \n",
    "- 아래 함수 f()는 자신의 인수 및 내부 로컬 변수로서 a, b, c, d를 지니고 있다.\n",
    "  - 이러한 a, b, c, d 변수들은 함수가 종료되고 반환될 때 모두 사라진다.\n",
    "- 발생자는 f()와 같이 함수가 (임시로) 종료될 때 내부 로컬 변수가 메모리에서 해제되는 것을 막고 다시 함수가 호출 될 때 이전에 수행이 종료되었던 지점 부터 계속 수행이 가능하도록 구현된 함수이다."
   ]
  },
  {
   "cell_type": "code",
   "execution_count": 32,
   "metadata": {},
   "outputs": [
    {
     "name": "stdout",
     "output_type": "stream",
     "text": [
      "2 3\n"
     ]
    }
   ],
   "source": [
    "def f(a, b):\n",
    "    c = a * b\n",
    "    d = a + b\n",
    "    return c, d\n",
    "\n",
    "x, y = f(1, 2)\n",
    "print(x, y)"
   ]
  },
  {
   "cell_type": "markdown",
   "metadata": {},
   "source": [
    "- yield 키워드\n",
    "  - return 대신에 yield에 의해 값을 반환하는 함수는 발생자이다.\n",
    "  - yield는 return과 유사하게 임의의 값을 반환하지만 함수의 실행 상태를 보존하면서 함수를 호출한 쪽으로 복귀시켜준다.\n",
    " \n",
    " \n",
    "- 발생자는 곧 반복자이다.\n",
    "  - 즉, 발생자에게 next() 호출이 가능하다."
   ]
  },
  {
   "cell_type": "code",
   "execution_count": 33,
   "metadata": {},
   "outputs": [
    {
     "name": "stdout",
     "output_type": "stream",
     "text": [
      "2 3\n"
     ]
    },
    {
     "ename": "StopIteration",
     "evalue": "",
     "output_type": "error",
     "traceback": [
      "\u001b[0;31m---------------------------------------------------------------------------\u001b[0m",
      "\u001b[0;31mStopIteration\u001b[0m                             Traceback (most recent call last)",
      "\u001b[0;32m<ipython-input-33-79212a10ecdb>\u001b[0m in \u001b[0;36m<module>\u001b[0;34m\u001b[0m\n\u001b[1;32m      9\u001b[0m \u001b[0mprint\u001b[0m\u001b[0;34m(\u001b[0m\u001b[0mx\u001b[0m\u001b[0;34m,\u001b[0m \u001b[0my\u001b[0m\u001b[0;34m)\u001b[0m\u001b[0;34m\u001b[0m\u001b[0;34m\u001b[0m\u001b[0m\n\u001b[1;32m     10\u001b[0m \u001b[0;34m\u001b[0m\u001b[0m\n\u001b[0;32m---> 11\u001b[0;31m \u001b[0mx\u001b[0m\u001b[0;34m,\u001b[0m \u001b[0my\u001b[0m \u001b[0;34m=\u001b[0m \u001b[0mnext\u001b[0m\u001b[0;34m(\u001b[0m\u001b[0mg\u001b[0m\u001b[0;34m)\u001b[0m\u001b[0;34m\u001b[0m\u001b[0;34m\u001b[0m\u001b[0m\n\u001b[0m\u001b[1;32m     12\u001b[0m \u001b[0mprint\u001b[0m\u001b[0;34m(\u001b[0m\u001b[0mx\u001b[0m\u001b[0;34m,\u001b[0m \u001b[0my\u001b[0m\u001b[0;34m)\u001b[0m\u001b[0;34m\u001b[0m\u001b[0;34m\u001b[0m\u001b[0m\n",
      "\u001b[0;31mStopIteration\u001b[0m: "
     ]
    }
   ],
   "source": [
    "def f(a, b):\n",
    "    c = a * b\n",
    "    d = a + b\n",
    "    yield c, d\n",
    "\n",
    "g = f(1, 2)\n",
    "\n",
    "x, y = next(g)\n",
    "print(x, y)\n",
    "\n",
    "x, y = next(g)\n",
    "print(x, y)"
   ]
  },
  {
   "cell_type": "code",
   "execution_count": 34,
   "metadata": {},
   "outputs": [
    {
     "name": "stdout",
     "output_type": "stream",
     "text": [
      "2 3\n",
      "2 3\n"
     ]
    }
   ],
   "source": [
    "def f(a, b):\n",
    "    for _ in range(2):\n",
    "        c = a * b\n",
    "        d = a + b\n",
    "        yield c, d\n",
    "\n",
    "g = f(1, 2)\n",
    "\n",
    "x, y = next(g)\n",
    "print(x, y)\n",
    "\n",
    "x, y = next(g)\n",
    "print(x, y)"
   ]
  },
  {
   "cell_type": "markdown",
   "metadata": {},
   "source": [
    "- 발생자 함수와 일반 함수의 차이점\n",
    "  - 일반 함수는 함수가 호출되면 그 함수 내부에 정의된 모든 일을 마치고 결과를 반환함\n",
    "  - 발생자 함수는 함수 내에서 수행 중에 중간 결과 값을 반환할 수 있음\n",
    "  \n",
    "  \n",
    "- 발생자가 유용하게 사용되는 경우\n",
    "  - 함수 처리의 중간 결과를 다른 코드에서 참조할 경우\n",
    "    - 즉, 모든 결과를 한꺼번에 반환 받는 것이 아니라 함수 처리 중에 나온 중간 결과를 받아서 사용해야 할 경우\n",
    "  - 시퀀스 자료형을 효율적으로 만들고자 하는 경우"
   ]
  },
  {
   "cell_type": "code",
   "execution_count": 3,
   "metadata": {},
   "outputs": [
    {
     "name": "stdout",
     "output_type": "stream",
     "text": [
      "2\n",
      "4\n",
      "6\n",
      "8\n",
      "10\n"
     ]
    }
   ],
   "source": [
    "def print_evens():\n",
    "    for n in range(2, 11, 2):\n",
    "        print(n)\n",
    "        \n",
    "print_evens()"
   ]
  },
  {
   "cell_type": "code",
   "execution_count": 4,
   "metadata": {},
   "outputs": [],
   "source": [
    "def make_evens_gen():\n",
    "    for n in range(2, 11, 2):\n",
    "        yield n"
   ]
  },
  {
   "cell_type": "code",
   "execution_count": 5,
   "metadata": {},
   "outputs": [
    {
     "data": {
      "text/plain": [
       "<generator object make_evens_gen at 0x00000182AEB73148>"
      ]
     },
     "execution_count": 5,
     "metadata": {},
     "output_type": "execute_result"
    }
   ],
   "source": [
    "make_evens_gen()"
   ]
  },
  {
   "cell_type": "code",
   "execution_count": 7,
   "metadata": {},
   "outputs": [
    {
     "data": {
      "text/plain": [
       "2"
      ]
     },
     "execution_count": 7,
     "metadata": {},
     "output_type": "execute_result"
    }
   ],
   "source": [
    "my_gen = make_evens_gen()\n",
    "next(my_gen)"
   ]
  },
  {
   "cell_type": "code",
   "execution_count": 8,
   "metadata": {},
   "outputs": [
    {
     "data": {
      "text/plain": [
       "4"
      ]
     },
     "execution_count": 8,
     "metadata": {},
     "output_type": "execute_result"
    }
   ],
   "source": [
    "next(my_gen)"
   ]
  },
  {
   "cell_type": "code",
   "execution_count": 9,
   "metadata": {},
   "outputs": [
    {
     "data": {
      "text/plain": [
       "6"
      ]
     },
     "execution_count": 9,
     "metadata": {},
     "output_type": "execute_result"
    }
   ],
   "source": [
    "next(my_gen)"
   ]
  },
  {
   "cell_type": "code",
   "execution_count": 12,
   "metadata": {},
   "outputs": [
    {
     "data": {
      "text/plain": [
       "2"
      ]
     },
     "execution_count": 12,
     "metadata": {},
     "output_type": "execute_result"
    }
   ],
   "source": [
    "my_gen = make_evens_gen()  # 다시 시작\n",
    "next(my_gen)"
   ]
  },
  {
   "cell_type": "code",
   "execution_count": 13,
   "metadata": {},
   "outputs": [
    {
     "data": {
      "text/plain": [
       "4"
      ]
     },
     "execution_count": 13,
     "metadata": {},
     "output_type": "execute_result"
    }
   ],
   "source": [
    "next(my_gen)"
   ]
  },
  {
   "cell_type": "code",
   "execution_count": 14,
   "metadata": {},
   "outputs": [
    {
     "data": {
      "text/plain": [
       "6"
      ]
     },
     "execution_count": 14,
     "metadata": {},
     "output_type": "execute_result"
    }
   ],
   "source": [
    "next(my_gen)"
   ]
  },
  {
   "cell_type": "code",
   "execution_count": 15,
   "metadata": {},
   "outputs": [],
   "source": [
    "my_gen = make_evens_gen()  # 다시 시작"
   ]
  },
  {
   "cell_type": "code",
   "execution_count": 16,
   "metadata": {},
   "outputs": [
    {
     "data": {
      "text/plain": [
       "2"
      ]
     },
     "execution_count": 16,
     "metadata": {},
     "output_type": "execute_result"
    }
   ],
   "source": [
    "next(my_gen)"
   ]
  },
  {
   "cell_type": "code",
   "execution_count": 17,
   "metadata": {},
   "outputs": [
    {
     "data": {
      "text/plain": [
       "4"
      ]
     },
     "execution_count": 17,
     "metadata": {},
     "output_type": "execute_result"
    }
   ],
   "source": [
    "next(my_gen)"
   ]
  },
  {
   "cell_type": "code",
   "execution_count": 18,
   "metadata": {},
   "outputs": [
    {
     "data": {
      "text/plain": [
       "6"
      ]
     },
     "execution_count": 18,
     "metadata": {},
     "output_type": "execute_result"
    }
   ],
   "source": [
    "next(my_gen)"
   ]
  },
  {
   "cell_type": "code",
   "execution_count": 19,
   "metadata": {},
   "outputs": [
    {
     "data": {
      "text/plain": [
       "2"
      ]
     },
     "execution_count": 19,
     "metadata": {},
     "output_type": "execute_result"
    }
   ],
   "source": [
    "next(make_evens_gen())"
   ]
  },
  {
   "cell_type": "code",
   "execution_count": 20,
   "metadata": {},
   "outputs": [
    {
     "data": {
      "text/plain": [
       "2"
      ]
     },
     "execution_count": 20,
     "metadata": {},
     "output_type": "execute_result"
    }
   ],
   "source": [
    "next(make_evens_gen())"
   ]
  },
  {
   "cell_type": "code",
   "execution_count": 21,
   "metadata": {},
   "outputs": [
    {
     "data": {
      "text/plain": [
       "2"
      ]
     },
     "execution_count": 21,
     "metadata": {},
     "output_type": "execute_result"
    }
   ],
   "source": [
    "next(make_evens_gen())"
   ]
  },
  {
   "cell_type": "code",
   "execution_count": 22,
   "metadata": {},
   "outputs": [
    {
     "name": "stdout",
     "output_type": "stream",
     "text": [
      "2 4 6 8 10 "
     ]
    }
   ],
   "source": [
    "for i in make_evens_gen():\n",
    "    print(i, end=' ')\n"
   ]
  },
  {
   "cell_type": "code",
   "execution_count": 23,
   "metadata": {},
   "outputs": [
    {
     "name": "stdout",
     "output_type": "stream",
     "text": [
      "2 4 6 8 10 "
     ]
    }
   ],
   "source": [
    "my_gen = make_evens_gen()\n",
    "for i in my_gen:\n",
    "    print(i, end=' ')"
   ]
  },
  {
   "cell_type": "code",
   "execution_count": 24,
   "metadata": {},
   "outputs": [
    {
     "ename": "TypeError",
     "evalue": "'function' object is not iterable",
     "output_type": "error",
     "traceback": [
      "\u001b[1;31m---------------------------------------------------------------------------\u001b[0m",
      "\u001b[1;31mTypeError\u001b[0m                                 Traceback (most recent call last)",
      "\u001b[1;32m<ipython-input-24-038f4ff3c98d>\u001b[0m in \u001b[0;36m<module>\u001b[1;34m\u001b[0m\n\u001b[1;32m----> 1\u001b[1;33m \u001b[1;32mfor\u001b[0m \u001b[0mi\u001b[0m \u001b[1;32min\u001b[0m \u001b[0mmake_evens_gen\u001b[0m\u001b[1;33m:\u001b[0m        \u001b[1;31m# 에러! 이터러블이 아니다!\u001b[0m\u001b[1;33m\u001b[0m\u001b[1;33m\u001b[0m\u001b[0m\n\u001b[0m\u001b[0;32m      2\u001b[0m     \u001b[0mprint\u001b[0m\u001b[1;33m(\u001b[0m\u001b[0mi\u001b[0m\u001b[1;33m,\u001b[0m \u001b[0mend\u001b[0m\u001b[1;33m=\u001b[0m\u001b[1;34m' '\u001b[0m\u001b[1;33m)\u001b[0m\u001b[1;33m\u001b[0m\u001b[1;33m\u001b[0m\u001b[0m\n",
      "\u001b[1;31mTypeError\u001b[0m: 'function' object is not iterable"
     ]
    }
   ],
   "source": [
    "for i in make_evens_gen: \t# 에러! 이터러블이 아니다!\n",
    "    print(i, end=' ')"
   ]
  },
  {
   "cell_type": "code",
   "execution_count": 25,
   "metadata": {},
   "outputs": [
    {
     "data": {
      "text/plain": [
       "[2, 4, 6, 8, 10]"
      ]
     },
     "execution_count": 25,
     "metadata": {},
     "output_type": "execute_result"
    }
   ],
   "source": [
    "my_gen = make_evens_gen()\n",
    "a_list = list(my_gen)\n",
    "a_list"
   ]
  },
  {
   "cell_type": "code",
   "execution_count": 26,
   "metadata": {},
   "outputs": [
    {
     "data": {
      "text/plain": [
       "[]"
      ]
     },
     "execution_count": 26,
     "metadata": {},
     "output_type": "execute_result"
    }
   ],
   "source": [
    "a_list = list(my_gen) \t# 앗! 초기화(reset)를 안했군!\n",
    "a_list"
   ]
  },
  {
   "cell_type": "code",
   "execution_count": 27,
   "metadata": {},
   "outputs": [
    {
     "data": {
      "text/plain": [
       "[2, 4, 6, 8, 10]"
      ]
     },
     "execution_count": 27,
     "metadata": {},
     "output_type": "execute_result"
    }
   ],
   "source": [
    "a_list = list(make_evens_gen())\n",
    "a_list"
   ]
  },
  {
   "cell_type": "code",
   "execution_count": 28,
   "metadata": {},
   "outputs": [],
   "source": [
    "def make_fibo_gen(n):\n",
    "    a, b = 1, 1\n",
    "    while a <= n:\n",
    "        yield a\n",
    "        a, b = a + b, a"
   ]
  },
  {
   "cell_type": "code",
   "execution_count": 30,
   "metadata": {},
   "outputs": [
    {
     "name": "stdout",
     "output_type": "stream",
     "text": [
      "Enter number: 13\n",
      "number is a Fibonacci. \n"
     ]
    }
   ],
   "source": [
    "n = int(input('Enter number: '))\n",
    "if n in make_fibo_gen(n):\n",
    "    print('number is a Fibonacci. ')\n",
    "else:\n",
    "    print('number is not a Fibonacci. ')"
   ]
  },
  {
   "cell_type": "code",
   "execution_count": 31,
   "metadata": {},
   "outputs": [
    {
     "name": "stdout",
     "output_type": "stream",
     "text": [
      "Enter number: 21\n",
      "number is a Fibonacci. \n"
     ]
    }
   ],
   "source": [
    "n = int(input('Enter number: '))\n",
    "my_fibo_gen = make_fibo_gen(n)\n",
    "if n in my_fibo_gen:\n",
    "    print('number is a Fibonacci. ')\n",
    "else:\n",
    "    print('number is not a Fibonacci. ')"
   ]
  },
  {
   "cell_type": "markdown",
   "metadata": {},
   "source": [
    "- 제너레이터의 활용"
   ]
  },
  {
   "cell_type": "code",
   "execution_count": 35,
   "metadata": {},
   "outputs": [],
   "source": [
    "def generate_ints(N):\n",
    "    for i in range(N):\n",
    "        yield i"
   ]
  },
  {
   "cell_type": "code",
   "execution_count": 36,
   "metadata": {},
   "outputs": [
    {
     "name": "stdout",
     "output_type": "stream",
     "text": [
      "<generator object generate_ints at 0x7fb4003bd258>\n",
      "0\n",
      "1\n",
      "2\n"
     ]
    },
    {
     "ename": "StopIteration",
     "evalue": "",
     "output_type": "error",
     "traceback": [
      "\u001b[0;31m---------------------------------------------------------------------------\u001b[0m",
      "\u001b[0;31mStopIteration\u001b[0m                             Traceback (most recent call last)",
      "\u001b[0;32m<ipython-input-36-0043ca97ed03>\u001b[0m in \u001b[0;36m<module>\u001b[0;34m\u001b[0m\n\u001b[1;32m     10\u001b[0m \u001b[0mprint\u001b[0m\u001b[0;34m(\u001b[0m\u001b[0mnext\u001b[0m\u001b[0;34m(\u001b[0m\u001b[0mgen\u001b[0m\u001b[0;34m)\u001b[0m\u001b[0;34m)\u001b[0m \u001b[0;31m# 발생자 실행 재개. yield에 의해 값 반환 후 다시 중단\u001b[0m\u001b[0;34m\u001b[0m\u001b[0;34m\u001b[0m\u001b[0m\n\u001b[1;32m     11\u001b[0m \u001b[0mprint\u001b[0m\u001b[0;34m(\u001b[0m\u001b[0mnext\u001b[0m\u001b[0;34m(\u001b[0m\u001b[0mgen\u001b[0m\u001b[0;34m)\u001b[0m\u001b[0;34m)\u001b[0m \u001b[0;31m# 발생자 실행 재개. yield에 의해 값 반환 후 다시 중단\u001b[0m\u001b[0;34m\u001b[0m\u001b[0;34m\u001b[0m\u001b[0m\n\u001b[0;32m---> 12\u001b[0;31m \u001b[0mprint\u001b[0m\u001b[0;34m(\u001b[0m\u001b[0mnext\u001b[0m\u001b[0;34m(\u001b[0m\u001b[0mgen\u001b[0m\u001b[0;34m)\u001b[0m\u001b[0;34m)\u001b[0m \u001b[0;31m# 발생자 실행 재개. yield에 의해 더 이상 반환할 값이 없다면 StopIteration 예외를 던짐\u001b[0m\u001b[0;34m\u001b[0m\u001b[0;34m\u001b[0m\u001b[0m\n\u001b[0m",
      "\u001b[0;31mStopIteration\u001b[0m: "
     ]
    }
   ],
   "source": [
    "gen = generate_ints(3) # 발생자 객체를 얻는다. generate_ints() 함수에 대한 초기 스택 프레임이 만들어지나 실행은 중단되어 있는 상태임\n",
    "print(gen)\n",
    "\n",
    "# print(gen.next()) \n",
    "# print(gen.next()) \n",
    "# print(gen.next()) \n",
    "# print(gen.next()) \n",
    "\n",
    "print(next(gen)) # 발생자 객체는 반복자 인터페이스를 가진다. 발생자의 실행이 시작됨. yield에 의해 값 반환 후 실행이 중단됨\n",
    "print(next(gen)) # 발생자 실행 재개. yield에 의해 값 반환 후 다시 중단\n",
    "print(next(gen)) # 발생자 실행 재개. yield에 의해 값 반환 후 다시 중단\n",
    "print(next(gen)) # 발생자 실행 재개. yield에 의해 더 이상 반환할 값이 없다면 StopIteration 예외를 던짐"
   ]
  },
  {
   "cell_type": "markdown",
   "metadata": {},
   "source": [
    "- 위와 같은 세부 동작 방식을 이용하여, 다음과 같이 for ~ in 구문에 적용할 수 있다."
   ]
  },
  {
   "cell_type": "code",
   "execution_count": 37,
   "metadata": {},
   "outputs": [
    {
     "name": "stdout",
     "output_type": "stream",
     "text": [
      "0 1 2 3 4 "
     ]
    }
   ],
   "source": [
    "for i in generate_ints(5):\n",
    "    print(i, end=\" \")"
   ]
  },
  {
   "cell_type": "markdown",
   "metadata": {},
   "source": [
    "- 리스트 내포 vs. 발생자\n",
    "  - 리스트 내포는 리스트 객체의 새로운 생성. 즉, 메모리를 실제로 점유하면서 생성됨"
   ]
  },
  {
   "cell_type": "code",
   "execution_count": 38,
   "metadata": {},
   "outputs": [
    {
     "name": "stdout",
     "output_type": "stream",
     "text": [
      "[0, 5, 10, 15, 20, 25, 30, 35, 40, 45, 50, 55, 60, 65, 70, 75, 80, 85, 90, 95]\n"
     ]
    },
    {
     "data": {
      "text/plain": [
       "list"
      ]
     },
     "execution_count": 38,
     "metadata": {},
     "output_type": "execute_result"
    }
   ],
   "source": [
    "a = [k for k in range(100) if k % 5 == 0]\n",
    "print(a)\n",
    "type(a)"
   ]
  },
  {
   "cell_type": "markdown",
   "metadata": {},
   "source": [
    "- 리스트 내포 구문에 []가 아니라 () 사용\n",
    "  - 리스트 대신에 발생자 생성\n",
    "      - 즉, 처음부터 모든 원소가 생성되지 않고 필요한 시점에 각 원소가 만들어짐\n",
    "      - 메모리를 보다 효율적으로 사용할 수 있음"
   ]
  },
  {
   "cell_type": "code",
   "execution_count": 39,
   "metadata": {},
   "outputs": [
    {
     "name": "stdout",
     "output_type": "stream",
     "text": [
      "<generator object <genexpr> at 0x7fb4003bd2b0>\n"
     ]
    },
    {
     "data": {
      "text/plain": [
       "generator"
      ]
     },
     "execution_count": 39,
     "metadata": {},
     "output_type": "execute_result"
    }
   ],
   "source": [
    "a = (k for k in range(100) if k % 5 == 0)\n",
    "print(a)\n",
    "type(a)"
   ]
  },
  {
   "cell_type": "code",
   "execution_count": 40,
   "metadata": {},
   "outputs": [
    {
     "name": "stdout",
     "output_type": "stream",
     "text": [
      "0\n",
      "5\n",
      "10\n",
      "15 20 25 30 35 40 45 50 55 60 65 70 75 80 85 90 95 "
     ]
    }
   ],
   "source": [
    "print(next(a))\n",
    "print(next(a))\n",
    "print(next(a))\n",
    "for i in a:\n",
    "    print(i, end=\" \")"
   ]
  },
  {
   "cell_type": "markdown",
   "metadata": {},
   "source": [
    "- 아래 예는 sum 내장 함수에 발생자를 넣어줌\n",
    "  - sum을 호출하는 시점에는 발생자가 아직 호출되기 직전이므로 각 원소들은 아직 존재하지 않는다.\n",
    "  - sum 내부에서 발생자가 지니고 있는 next() 함수를 호출하여 각 원소들을 직접 만들어 활용한다.\n",
    "  - 메모시 사용 효율이 높다."
   ]
  },
  {
   "cell_type": "code",
   "execution_count": 41,
   "metadata": {},
   "outputs": [
    {
     "name": "stdout",
     "output_type": "stream",
     "text": [
      "6\n"
     ]
    }
   ],
   "source": [
    "a = [1, 2, 3]\n",
    "print(sum(a))"
   ]
  },
  {
   "cell_type": "code",
   "execution_count": 42,
   "metadata": {},
   "outputs": [
    {
     "name": "stdout",
     "output_type": "stream",
     "text": [
      "950\n"
     ]
    }
   ],
   "source": [
    "a = (k for k in range(100) if k % 5 == 0)\n",
    "print(sum(a))"
   ]
  },
  {
   "cell_type": "markdown",
   "metadata": {},
   "source": [
    "- 발생자의 실제 활용 예 1 - 피보나치 수열"
   ]
  },
  {
   "cell_type": "code",
   "execution_count": 43,
   "metadata": {},
   "outputs": [
    {
     "name": "stdout",
     "output_type": "stream",
     "text": [
      "1 1 2 3 5 8 13 21 34 55 89 "
     ]
    }
   ],
   "source": [
    "def fibonacci(a = 1, b = 1):\n",
    "    while 1:\n",
    "        yield a\n",
    "        a, b = b, a + b\n",
    "        \n",
    "for k in fibonacci():  # 발생자를 직접 for ~ in 구문에 활용\n",
    "    if k > 100: \n",
    "        break\n",
    "    print(k, end=\" \")"
   ]
  },
  {
   "cell_type": "markdown",
   "metadata": {},
   "source": [
    "- 발생자의 활용 예 2 - 홀수 집합 만들기"
   ]
  },
  {
   "cell_type": "markdown",
   "metadata": {},
   "source": [
    "  - 이터레이터를 활용한 예"
   ]
  },
  {
   "cell_type": "code",
   "execution_count": 44,
   "metadata": {},
   "outputs": [
    {
     "name": "stdout",
     "output_type": "stream",
     "text": [
      "1 3 5 7 9 11 13 15 17 19 \n",
      "[1, 3, 5, 7, 9, 11, 13, 15, 17, 19]\n"
     ]
    }
   ],
   "source": [
    "#python3.x\n",
    "class Odds:\n",
    "    def __init__(self, limit = None): # 생성자 정의\n",
    "        self.data = -1                # 초기 값\n",
    "        self.limit = limit            # 한계 값\n",
    "        \n",
    "    def __iter__(self):               # Odds 객체의 반복자를 반환하는 특수 함수\n",
    "        return self\n",
    "\n",
    "    def __next__(self):                   # 반복자의 필수 함수\n",
    "        self.data += 2\n",
    "        if self.limit and self.limit <= self.data:\n",
    "            raise StopIteration()\n",
    "        return self.data\n",
    "\n",
    "for k in Odds(20):\n",
    "    print(k, end=\" \")\n",
    "    \n",
    "print()\n",
    "\n",
    "print(list(Odds(20))) # list() 내장 함수가 객체를 인수로 받으면 해당 객체의 반복자를 얻어와 __next__(self)를 매번 호출하여 각 원소를 얻어온다. "
   ]
  },
  {
   "cell_type": "markdown",
   "metadata": {},
   "source": [
    "- 발생자를 활용한 가장 좋은 예"
   ]
  },
  {
   "cell_type": "code",
   "execution_count": 45,
   "metadata": {},
   "outputs": [
    {
     "name": "stdout",
     "output_type": "stream",
     "text": [
      "1 \n",
      "3 \n",
      "5 \n",
      "7 \n",
      "9 \n",
      "11 \n",
      "13 \n",
      "15 \n",
      "17 \n",
      "19 \n",
      "[1, 3, 5, 7, 9, 11, 13, 15, 17, 19]\n"
     ]
    }
   ],
   "source": [
    "def odds(limit=None):\n",
    "    k = 1\n",
    "    while not limit or limit >= k:\n",
    "        yield k\n",
    "        k += 2\n",
    "        \n",
    "for k in odds(20):\n",
    "    print(k, end=\" \")\n",
    "\n",
    "    print()\n",
    "\n",
    "print(list(odds(20))) # list() 내장 함수가 발생자를 인수로 받으면 해당 발생자의 next()를 매번 호출하여 각 원소를 얻어온다. "
   ]
  },
  {
   "cell_type": "markdown",
   "metadata": {},
   "source": [
    "## 4.11\t 커맨드-라인 인수 접근하기"
   ]
  },
  {
   "cell_type": "code",
   "execution_count": 32,
   "metadata": {},
   "outputs": [],
   "source": [
    "import sys"
   ]
  },
  {
   "cell_type": "code",
   "execution_count": 35,
   "metadata": {},
   "outputs": [
    {
     "name": "stdout",
     "output_type": "stream",
     "text": [
      "d:\\python37\\lib\\site-packages\\ipykernel_launcher.py||||-f||||C:\\Users\\Chris\\AppData\\Roaming\\jupyter\\runtime\\kernel-f3b4c5a9-3449-4875-934e-c8934b9a4296.json||||"
     ]
    }
   ],
   "source": [
    "import sys\n",
    "for thing in sys.argv:\n",
    "    print(thing, end='||||')"
   ]
  },
  {
   "cell_type": "code",
   "execution_count": null,
   "metadata": {},
   "outputs": [],
   "source": []
  }
 ],
 "metadata": {
  "kernelspec": {
   "display_name": "Python 3",
   "language": "python",
   "name": "python3"
  },
  "language_info": {
   "codemirror_mode": {
    "name": "ipython",
    "version": 3
   },
   "file_extension": ".py",
   "mimetype": "text/x-python",
   "name": "python",
   "nbconvert_exporter": "python",
   "pygments_lexer": "ipython3",
   "version": "3.6.8"
  }
 },
 "nbformat": 4,
 "nbformat_minor": 4
}

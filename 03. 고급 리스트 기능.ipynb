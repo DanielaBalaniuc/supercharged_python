{
 "cells": [
  {
   "cell_type": "markdown",
   "metadata": {},
   "source": [
    "# 3. 고급 리스트 기능"
   ]
  },
  {
   "cell_type": "markdown",
   "metadata": {},
   "source": [
    "## 3.1 파이썬 리스트 생성 및 활용"
   ]
  },
  {
   "cell_type": "code",
   "execution_count": null,
   "metadata": {
    "pycharm": {
     "name": "#%%\n"
    }
   },
   "outputs": [],
   "source": [
    "x = 5\n",
    "x = [1, 2, 3]"
   ]
  },
  {
   "cell_type": "code",
   "execution_count": null,
   "metadata": {
    "pycharm": {
     "name": "#%%\n"
    }
   },
   "outputs": [],
   "source": [
    "my_int_list = [5, -20, 5, -69]"
   ]
  },
  {
   "cell_type": "code",
   "execution_count": null,
   "metadata": {
    "pycharm": {
     "name": "#%%\n"
    }
   },
   "outputs": [],
   "source": [
    "beat_list = [ 'John', 'Paul', 'George', 'Ringo' ]"
   ]
  },
  {
   "cell_type": "code",
   "execution_count": null,
   "metadata": {
    "pycharm": {
     "name": "#%%\n"
    }
   },
   "outputs": [],
   "source": [
    "mixed_list = [10, 'John', 5, 'Paul' ]"
   ]
  },
  {
   "cell_type": "code",
   "execution_count": null,
   "metadata": {
    "pycharm": {
     "name": "#%%\n"
    }
   },
   "outputs": [],
   "source": [
    "num_list = [3, 2, 17, 2.5]\n",
    "num_list.sort()    \t\t# [2, 2.5, 3, 17]로 정렬\n",
    "num_list"
   ]
  },
  {
   "cell_type": "code",
   "execution_count": null,
   "metadata": {
    "pycharm": {
     "name": "#%%\n"
    }
   },
   "outputs": [],
   "source": [
    "my_list = [] \t# 항목을 추가하기 전에 반드시 빈 리스트를 만들어야 한다\n",
    "my_list.append(1)\n",
    "my_list.append(2)\n",
    "my_list.append(3)"
   ]
  },
  {
   "cell_type": "code",
   "execution_count": null,
   "metadata": {
    "pycharm": {
     "name": "#%%\n"
    }
   },
   "outputs": [],
   "source": [
    "my_list = [1, 2, 3]"
   ]
  },
  {
   "cell_type": "code",
   "execution_count": null,
   "metadata": {
    "pycharm": {
     "name": "#%%\n"
    }
   },
   "outputs": [],
   "source": [
    "my_list.remove(1) \t# 변경된 리스트 : [2, 3]\n",
    "my_list"
   ]
  },
  {
   "cell_type": "code",
   "execution_count": null,
   "metadata": {
    "pycharm": {
     "name": "#%%\n"
    }
   },
   "outputs": [],
   "source": [
    "the_scores = [1.0, 1.0, 9.8, 1.0]"
   ]
  },
  {
   "cell_type": "code",
   "execution_count": null,
   "metadata": {
    "pycharm": {
     "name": "#%%\n"
    }
   },
   "outputs": [],
   "source": [
    "the_scores.remove(1.0) \t\t# 변경된 리스트 : [1.0, 9.8, 1.0]\n",
    "the_scores"
   ]
  },
  {
   "cell_type": "markdown",
   "metadata": {},
   "source": [
    "- 리스트의 원소는 변경 가능"
   ]
  },
  {
   "cell_type": "code",
   "execution_count": null,
   "metadata": {
    "pycharm": {
     "name": "#%%\n"
    }
   },
   "outputs": [],
   "source": [
    "l1 = [4,5,6]\n",
    "l1[0] = 10\n",
    "print(l1)"
   ]
  },
  {
   "cell_type": "markdown",
   "metadata": {},
   "source": [
    "<img src=\"https://github.com/bluebibi/python-e-learning/raw/c4fcaee52cbc4118363b0a4d0716e6311ef4794c/images/changeListElement.png\"/>"
   ]
  },
  {
   "cell_type": "markdown",
   "metadata": {},
   "source": [
    "- 동일한 변수에 다른 리스트를 할당하는 것은 해당 변수의 레퍼런스를 변경함"
   ]
  },
  {
   "cell_type": "code",
   "execution_count": null,
   "metadata": {
    "pycharm": {
     "name": "#%%\n"
    }
   },
   "outputs": [],
   "source": [
    "l1 = [1,2,3]\n",
    "l1 = [4,5,6]\n",
    "print(l1)"
   ]
  },
  {
   "cell_type": "markdown",
   "metadata": {},
   "source": [
    "<img src=\"https://github.com/bluebibi/python-e-learning/raw/c4fcaee52cbc4118363b0a4d0716e6311ef4794c/images/referenceChangeList.png\" />"
   ]
  },
  {
   "cell_type": "code",
   "execution_count": null,
   "metadata": {
    "pycharm": {
     "name": "#%%\n"
    }
   },
   "outputs": [],
   "source": [
    "x = [1,2,3]\n",
    "y = [1,2,3]\n",
    "z = y\n",
    "\n",
    "print(x == y)\n",
    "print(x == z)\n",
    "print(x is y)\n",
    "print(x is z)\n",
    "print(y is z)"
   ]
  },
  {
   "cell_type": "markdown",
   "metadata": {},
   "source": [
    "<img src=\"https://github.com/bluebibi/python-e-learning/raw/c4fcaee52cbc4118363b0a4d0716e6311ef4794c/images/objectIdentity.png\" />"
   ]
  },
  {
   "cell_type": "markdown",
   "metadata": {},
   "source": [
    "- [문제] 아래 예제를 통하여 위 그림의 오류를 지적하시오"
   ]
  },
  {
   "cell_type": "code",
   "execution_count": null,
   "metadata": {
    "pycharm": {
     "name": "#%%\n"
    }
   },
   "outputs": [],
   "source": [
    "print(x[0] == y[0])\n",
    "print(x[0] is y[0])"
   ]
  },
  {
   "cell_type": "markdown",
   "metadata": {},
   "source": [
    "## 3.2 리스트 복사 vs 리스트 변수 복사"
   ]
  },
  {
   "cell_type": "code",
   "execution_count": null,
   "metadata": {
    "pycharm": {
     "name": "#%%\n"
    }
   },
   "outputs": [],
   "source": [
    "a_list = [2, 5, 10]\n",
    "b_list = a_list"
   ]
  },
  {
   "cell_type": "code",
   "execution_count": null,
   "metadata": {
    "pycharm": {
     "name": "#%%\n"
    }
   },
   "outputs": [],
   "source": [
    "b_list.append(100)\n",
    "a_list.append(200)\n",
    "b_list.append(1)\n",
    "print(a_list) \t\t# [2, 5, 10, 100, 200, 1] 출력"
   ]
  },
  {
   "cell_type": "code",
   "execution_count": null,
   "metadata": {
    "pycharm": {
     "name": "#%%\n"
    }
   },
   "outputs": [],
   "source": [
    "my_list = [1, 10, 5]\n",
    "yr_list = my_list[:] \t# member-by-member 복사 수행\n",
    "yr_list.append(100)\n",
    "yr_list"
   ]
  },
  {
   "cell_type": "code",
   "execution_count": null,
   "metadata": {
    "pycharm": {
     "name": "#%%\n"
    }
   },
   "outputs": [],
   "source": [
    "my_list    # 역자주: 위에서 100을 더했지만, 원래 리스트에는 값이 추가되지 않는다."
   ]
  },
  {
   "cell_type": "markdown",
   "metadata": {},
   "source": [
    "## 3.3 인덱스"
   ]
  },
  {
   "cell_type": "code",
   "execution_count": null,
   "metadata": {
    "pycharm": {
     "name": "#%%\n"
    }
   },
   "outputs": [],
   "source": [
    "my_list = [100, 500, 1000]\n",
    "print(my_list[0]) \t\t\t# 100 출력"
   ]
  },
  {
   "cell_type": "code",
   "execution_count": null,
   "metadata": {
    "pycharm": {
     "name": "#%%\n"
    }
   },
   "outputs": [],
   "source": [
    "my_list[1] = 55 \t\t# 두 번째 항목을 55로 변경한다\n",
    "my_list"
   ]
  },
  {
   "cell_type": "markdown",
   "metadata": {},
   "source": [
    "## 3.3.1 양수 인덱스"
   ]
  },
  {
   "cell_type": "markdown",
   "metadata": {},
   "source": [
    "<img src=\"images_skill_up/3-1.PNG\">"
   ]
  },
  {
   "cell_type": "code",
   "execution_count": null,
   "metadata": {
    "pycharm": {
     "name": "#%%\n"
    }
   },
   "outputs": [],
   "source": [
    "a_list = [100, 200, 300, 400, 500, 600]"
   ]
  },
  {
   "cell_type": "code",
   "execution_count": null,
   "metadata": {
    "pycharm": {
     "name": "#%%\n"
    }
   },
   "outputs": [],
   "source": [
    "print(a_list[0]) \t\t# 100 출력\n",
    "print(a_list[1]) \t\t# 200 출력\n",
    "print(a_list[2]) \t\t# 300 출력"
   ]
  },
  {
   "cell_type": "code",
   "execution_count": null,
   "metadata": {
    "pycharm": {
     "name": "#%%\n"
    }
   },
   "outputs": [],
   "source": [
    "print(a_list[0], a_list[1], a_list[2], sep='\\n')"
   ]
  },
  {
   "cell_type": "markdown",
   "metadata": {},
   "source": [
    "## 3.3.2 음수 인덱스"
   ]
  },
  {
   "cell_type": "markdown",
   "metadata": {},
   "source": [
    "<img src=\"images_skill_up/3-2.PNG\">"
   ]
  },
  {
   "cell_type": "code",
   "execution_count": null,
   "metadata": {
    "pycharm": {
     "name": "#%%\n"
    }
   },
   "outputs": [],
   "source": [
    "a_list = [100, 200, 300, 400, 500, 600]\n",
    "print(a_list[-1]) \t\t\t\t# 600 출력\n",
    "print(a_list[-3]) \t\t\t\t# 400 출력"
   ]
  },
  {
   "cell_type": "markdown",
   "metadata": {},
   "source": [
    "## 3.3.3 enumerate 함수로 색인 숫자 생성"
   ]
  },
  {
   "cell_type": "code",
   "execution_count": null,
   "metadata": {
    "pycharm": {
     "name": "#%%\n"
    }
   },
   "outputs": [],
   "source": [
    "a_list = ['Tom', 'Dick', 'Jane']\n",
    "\n",
    "for s in a_list:\n",
    "    print(s)"
   ]
  },
  {
   "cell_type": "code",
   "execution_count": null,
   "metadata": {
    "pycharm": {
     "name": "#%%\n"
    }
   },
   "outputs": [],
   "source": [
    "for i in range(len(a_list)):\n",
    "    print(a_list[i])"
   ]
  },
  {
   "cell_type": "code",
   "execution_count": null,
   "metadata": {
    "pycharm": {
     "name": "#%%\n"
    }
   },
   "outputs": [],
   "source": [
    "list(enumerate(a_list, 1))"
   ]
  },
  {
   "cell_type": "code",
   "execution_count": null,
   "metadata": {
    "pycharm": {
     "name": "#%%\n"
    }
   },
   "outputs": [],
   "source": [
    "for item_num, name_str in enumerate(a_list, 1):\n",
    "    print(item_num, '. ', name_str, sep='')"
   ]
  },
  {
   "cell_type": "markdown",
   "metadata": {},
   "source": [
    "## 3.4 조각으로부터 데이터 가져오기"
   ]
  },
  {
   "cell_type": "markdown",
   "metadata": {},
   "source": [
    "<img src=\"tables_skill_up/t0301.PNG\">"
   ]
  },
  {
   "cell_type": "markdown",
   "metadata": {},
   "source": [
    "<img src=\"images_skill_up/3-3.PNG\">"
   ]
  },
  {
   "cell_type": "code",
   "execution_count": null,
   "metadata": {
    "pycharm": {
     "name": "#%%\n"
    }
   },
   "outputs": [],
   "source": [
    "a_list = [1, 2, 5, 10, 20, 30]\n",
    "b_list = a_list[1:3] \t# [2, 5] 생성\n",
    "c_list = a_list[4:] \t# [20, 30] 생성"
   ]
  },
  {
   "cell_type": "code",
   "execution_count": null,
   "metadata": {
    "pycharm": {
     "name": "#%%\n"
    }
   },
   "outputs": [],
   "source": [
    "d_list = a_list[-4:-1] \t# [5, 10, 20] 생성\n",
    "e_list = a_list[-1:] \t# [30] 생성"
   ]
  },
  {
   "cell_type": "code",
   "execution_count": null,
   "metadata": {
    "pycharm": {
     "name": "#%%\n"
    }
   },
   "outputs": [],
   "source": [
    "a_list = [100, 200, 300, 400, 500, 600]\n",
    "b_list = a_list[2:5:2] \t\t# [300, 500] 생성"
   ]
  },
  {
   "cell_type": "code",
   "execution_count": null,
   "metadata": {
    "pycharm": {
     "name": "#%%\n"
    }
   },
   "outputs": [],
   "source": [
    "rev_list = a_list[::-1]"
   ]
  },
  {
   "cell_type": "code",
   "execution_count": null,
   "metadata": {
    "pycharm": {
     "name": "#%%\n"
    }
   },
   "outputs": [],
   "source": [
    "a_list = [100, 200, 300]\n",
    "rev_list = a_list[::-1]\n",
    "print(rev_list) \t\t# [300, 200, 100] 출력"
   ]
  },
  {
   "cell_type": "markdown",
   "metadata": {},
   "source": [
    "## 3.5 조각 안에 값 대입하기"
   ]
  },
  {
   "cell_type": "code",
   "execution_count": null,
   "metadata": {
    "pycharm": {
     "name": "#%%\n"
    }
   },
   "outputs": [],
   "source": [
    "my_list = [10, 20, 30, 40, 50, 60]\n",
    "my_list[1:4] = [707, 777]\n",
    "my_list"
   ]
  },
  {
   "cell_type": "code",
   "execution_count": null,
   "metadata": {
    "pycharm": {
     "name": "#%%\n"
    }
   },
   "outputs": [],
   "source": [
    "my_list = [1, 2, 3, 4]\n",
    "my_list[0:0] = [-50, -40]\n",
    "print(my_list) \t\t# [-50, -40, 1, 2, 3, 4] 출력"
   ]
  },
  {
   "cell_type": "markdown",
   "metadata": {},
   "source": [
    "## 3.6 리스트 연산자"
   ]
  },
  {
   "cell_type": "markdown",
   "metadata": {},
   "source": [
    "<img src=\"tables_skill_up/t0302-1.PNG\">"
   ]
  },
  {
   "cell_type": "markdown",
   "metadata": {},
   "source": [
    "<img src=\"tables_skill_up/t0302-2.PNG\">"
   ]
  },
  {
   "cell_type": "code",
   "execution_count": null,
   "metadata": {
    "pycharm": {
     "name": "#%%\n"
    }
   },
   "outputs": [],
   "source": [
    "a_list = [1, 3, 5, 0, 2]\n",
    "b_list = a_list \t\t# 별칭 생성\n",
    "c_list = a_list[:] \t\t# 깊은 복사(deep copy)"
   ]
  },
  {
   "cell_type": "code",
   "execution_count": null,
   "metadata": {
    "pycharm": {
     "name": "#%%\n"
    }
   },
   "outputs": [],
   "source": [
    "big_array = [0] * 1000"
   ]
  },
  {
   "cell_type": "code",
   "execution_count": null,
   "metadata": {
    "pycharm": {
     "name": "#%%\n"
    }
   },
   "outputs": [],
   "source": [
    "a = [1, 2, 3]\n",
    "None in a \t\t# False 반환"
   ]
  },
  {
   "cell_type": "code",
   "execution_count": null,
   "metadata": {
    "pycharm": {
     "name": "#%%\n"
    }
   },
   "outputs": [],
   "source": [
    "[] in a \t\t# False 반환"
   ]
  },
  {
   "cell_type": "code",
   "execution_count": null,
   "metadata": {
    "pycharm": {
     "name": "#%%\n"
    }
   },
   "outputs": [],
   "source": [
    "b = [1, 2, 3, [], None]\n",
    "None in b \t\t# True 반환"
   ]
  },
  {
   "cell_type": "code",
   "execution_count": null,
   "metadata": {
    "pycharm": {
     "name": "#%%\n"
    }
   },
   "outputs": [],
   "source": [
    "[] in b \t\t# True 반환"
   ]
  },
  {
   "cell_type": "code",
   "execution_count": null,
   "metadata": {
    "pycharm": {
     "name": "#%%\n"
    }
   },
   "outputs": [],
   "source": [
    "'' in 'Fred'"
   ]
  },
  {
   "cell_type": "markdown",
   "metadata": {},
   "source": [
    "## 3.7 얕은 복사 vs 깊은 복사"
   ]
  },
  {
   "cell_type": "code",
   "execution_count": null,
   "metadata": {
    "pycharm": {
     "name": "#%%\n"
    }
   },
   "outputs": [],
   "source": [
    "a_list = [1, 2, [5, 10]]\n",
    "b_list = a_list[:]                 # 깊은 복사"
   ]
  },
  {
   "cell_type": "markdown",
   "metadata": {},
   "source": [
    "<img src=\"images_skill_up/3-4.PNG\">"
   ]
  },
  {
   "cell_type": "code",
   "execution_count": null,
   "metadata": {
    "pycharm": {
     "name": "#%%\n"
    }
   },
   "outputs": [],
   "source": [
    "b_list[0] = 0\n",
    "b_list[1] = 0\n",
    "b_list[2][0] = 0\n",
    "b_list[2][1] = 0"
   ]
  },
  {
   "cell_type": "code",
   "execution_count": null,
   "metadata": {
    "pycharm": {
     "name": "#%%\n"
    }
   },
   "outputs": [],
   "source": [
    "print(a_list)"
   ]
  },
  {
   "cell_type": "code",
   "execution_count": null,
   "metadata": {
    "pycharm": {
     "name": "#%%\n"
    }
   },
   "outputs": [],
   "source": [
    "import copy\n",
    "\n",
    "a_list = [1, 2, [5, 10]]\n",
    "b_list = copy.deepcopy(a_list)     # 깊은 복사로 리스트 생성\n",
    "b_list[2][0] = 0\n",
    "b_list[2][1] = 0\n",
    "b_list"
   ]
  },
  {
   "cell_type": "markdown",
   "metadata": {},
   "source": [
    "<img src=\"images_skill_up/3-5.PNG\">"
   ]
  },
  {
   "cell_type": "code",
   "execution_count": null,
   "metadata": {
    "pycharm": {
     "name": "#%%\n"
    }
   },
   "outputs": [],
   "source": [
    "a_list"
   ]
  },
  {
   "cell_type": "markdown",
   "metadata": {},
   "source": [
    "## 3.8 리스트 함수"
   ]
  },
  {
   "cell_type": "code",
   "execution_count": null,
   "metadata": {
    "pycharm": {
     "name": "#%%\n"
    }
   },
   "outputs": [],
   "source": [
    "a_list = [1, 2, [5, 10]]\n",
    "\n",
    "for i in range(len(a_list)):\n",
    "    a_list[i] *= 2\n",
    "\n",
    "a_list"
   ]
  },
  {
   "cell_type": "code",
   "execution_count": null,
   "metadata": {
    "pycharm": {
     "name": "#%%\n"
    }
   },
   "outputs": [],
   "source": [
    "a_list = [100, -3, -5, 120]\n",
    "print('Length of the list is', len(a_list))\n",
    "print('Max and min are', max(a_list), min(a_list))"
   ]
  },
  {
   "cell_type": "markdown",
   "metadata": {},
   "source": [
    "#### 리스트의 sort 메소드\n",
    "- L.sort() 함수는 리스트 L 자체를 변경하며 리턴값을 반환하지 않는다.\n",
    "\n",
    "#### sorted 내장 함수\n",
    "- sorted() 내장함수는 L 자체에는 내용 변경 없이 정렬이 되어진 새로운 리스트를 반환한다.\n",
    "- sorted() 함수의 두번째 인자로 key를 지정하는 함수 할당 가능\n",
    "  - 지정된 key 함수가 할당되어 있으면 각 리스트 원소에 대해 기본 비교함수 호출 직전에 key 함수를 먼저 호출한다."
   ]
  },
  {
   "cell_type": "code",
   "execution_count": null,
   "metadata": {
    "pycharm": {
     "name": "#%%\n"
    }
   },
   "outputs": [],
   "source": [
    "a_tup = (30, 55, 15, 45)\n",
    "print(sorted(a_tup))        # [15, 30, 45, 55] 출력"
   ]
  },
  {
   "cell_type": "code",
   "execution_count": null,
   "metadata": {
    "pycharm": {
     "name": "#%%\n"
    }
   },
   "outputs": [],
   "source": [
    "L = [ ('lee', 5, 38), ('kim', 3, 28), ('jung', 10, 36)]\n",
    "\n",
    "def get_key_value(a):\n",
    "    return a[1]\n",
    "\n",
    "print(sorted(L))\n",
    "print(L)\n",
    "\n",
    "print()\n",
    "\n",
    "print(sorted(L, key=get_key_value))\n",
    "print(L)"
   ]
  },
  {
   "cell_type": "code",
   "execution_count": null,
   "metadata": {
    "pycharm": {
     "name": "#%%\n"
    }
   },
   "outputs": [],
   "source": [
    "S = ['loh', 'kim', 'jung']\n",
    "\n",
    "def get_key_value(a):\n",
    "    return a[1]\n",
    "\n",
    "print(sorted(S))\n",
    "print(S)\n",
    "\n",
    "print()\n",
    "\n",
    "print(sorted(S, key=get_key_value))\n",
    "print(S)"
   ]
  },
  {
   "cell_type": "markdown",
   "metadata": {},
   "source": [
    "#### L.reverse() 와 reversed() 내장 함수\n",
    "- L.reverse()도 반환값이 없다.\n",
    "- 즉, L 자체를 역순으로 뒤집는다. ([주의] 역순 정렬이 아니다.)\n",
    "- reversed() 내장함수는 sorted() 처럼 내용이 뒤집힌 리스트를 반환한다.\n",
    "  - sorted() 처럼 원래 리스트 내용에는 변함없다."
   ]
  },
  {
   "cell_type": "code",
   "execution_count": null,
   "metadata": {
    "pycharm": {
     "name": "#%%\n"
    }
   },
   "outputs": [],
   "source": [
    "a_tup = (1, 3, 5, 0)\n",
    "for i in reversed(a_tup):\n",
    "    print(i, end=' ')"
   ]
  },
  {
   "cell_type": "code",
   "execution_count": null,
   "metadata": {
    "pycharm": {
     "name": "#%%\n"
    }
   },
   "outputs": [],
   "source": [
    "print(tuple(reversed(a_tup)))"
   ]
  },
  {
   "cell_type": "code",
   "execution_count": null,
   "metadata": {
    "pycharm": {
     "name": "#%%\n"
    }
   },
   "outputs": [],
   "source": [
    "L = ['123', '34', '56', '2345']\n",
    "print(sorted(L))\n",
    "\n",
    "print(sorted(L, key=int))\n",
    "\n",
    "print(sorted(L, key=int, reverse=True))"
   ]
  },
  {
   "cell_type": "code",
   "execution_count": null,
   "metadata": {
    "pycharm": {
     "name": "#%%\n"
    }
   },
   "outputs": [],
   "source": [
    "num_list = [2.45, 1, -10, 55.5, 100.03, 40, -3]\n",
    "print('The average is ', sum(num_list) / len(num_list))"
   ]
  },
  {
   "cell_type": "markdown",
   "metadata": {},
   "source": [
    "## 3.9 리스트 메서드: 리스트 수정하기"
   ]
  },
  {
   "cell_type": "code",
   "execution_count": null,
   "metadata": {
    "pycharm": {
     "name": "#%%\n"
    }
   },
   "outputs": [],
   "source": [
    "a_list = [1, 2, 3]\n",
    "\n",
    "a_list.append(4)\n",
    "a_list.extend([4])          # 윗줄과 똑같이 동작\n",
    "\n",
    "a_list.extend([4, 5, 6])    # 리스트에 3개 항목 추가\n",
    "a_list"
   ]
  },
  {
   "cell_type": "code",
   "execution_count": null,
   "metadata": {
    "pycharm": {
     "name": "#%%\n"
    }
   },
   "outputs": [],
   "source": [
    "a_list = [10, 20, 40]   # 30이 없음\n",
    "a_list.insert(2, 30)    # 세번째(색인 2)에 30 삽입\n",
    "print(a_list)           # [10, 20, 30, 40] 출력\n",
    "a_list.insert(100, 33)\n",
    "print(a_list)           # [10, 20, 30, 40, 33] 출력\n",
    "a_list.insert(-100, 44)\n",
    "print(a_list)           # [44, 10, 20, 30, 40, 33] 출력"
   ]
  },
  {
   "cell_type": "code",
   "execution_count": null,
   "metadata": {
    "pycharm": {
     "name": "#%%\n"
    }
   },
   "outputs": [],
   "source": [
    "my_list = [15, 25, 15, 25]\n",
    "my_list.remove(25)\n",
    "print(my_list) \t\t\t# [15, 15, 25] 출력"
   ]
  },
  {
   "cell_type": "code",
   "execution_count": null,
   "metadata": {
    "pycharm": {
     "name": "#%%\n"
    }
   },
   "outputs": [],
   "source": [
    "def eval_scores(a_list):\n",
    "    a_list.remove(max(a_list))\n",
    "    a_list.remove(min(a_list))\n",
    "    \n",
    "    return sum(a_list) / len(a_list)"
   ]
  },
  {
   "cell_type": "code",
   "execution_count": null,
   "metadata": {
    "pycharm": {
     "name": "#%%\n"
    }
   },
   "outputs": [],
   "source": [
    "the_scores = [8.5, 6.0, 8.5, 8.7, 9.9, 9.0]"
   ]
  },
  {
   "cell_type": "code",
   "execution_count": null,
   "metadata": {
    "pycharm": {
     "name": "#%%\n"
    }
   },
   "outputs": [],
   "source": [
    "print(eval_scores(the_scores))"
   ]
  },
  {
   "cell_type": "markdown",
   "metadata": {},
   "source": [
    "## 3.10 리스트 메서드: 내용 정보 가져오기"
   ]
  },
  {
   "cell_type": "code",
   "execution_count": null,
   "metadata": {
    "pycharm": {
     "name": "#%%\n"
    }
   },
   "outputs": [],
   "source": [
    "yr_list = [1, 2, 1, 1,[3, 4]]\n",
    "print(yr_list.count(1)) \t\t# 3 출력\n",
    "print(yr_list.count(2)) \t\t# 1 출력\n",
    "print(yr_list.count(3)) \t\t# 0 출력\n",
    "print(yr_list.count([3, 4])) \t# 1 출력"
   ]
  },
  {
   "cell_type": "code",
   "execution_count": null,
   "metadata": {
    "pycharm": {
     "name": "#%%\n"
    }
   },
   "outputs": [],
   "source": [
    "beat_list = ['John', 'Paul', 'George', 'Ringo']\n",
    "print(beat_list.index('Ringo')) \t\t\t#  3 출력"
   ]
  },
  {
   "cell_type": "code",
   "execution_count": null,
   "metadata": {
    "pycharm": {
     "name": "#%%\n"
    }
   },
   "outputs": [],
   "source": [
    "beat_list = ['John', 'Paul', 'George', 'Ringo', 'Ringo']\n",
    "print(beat_list.index('Ringo')) \t\t\t#  3 출력"
   ]
  },
  {
   "cell_type": "markdown",
   "metadata": {},
   "source": [
    "## 3.11 리스트 메서드: 재편성하기(Reorganizing)"
   ]
  },
  {
   "cell_type": "code",
   "execution_count": null,
   "metadata": {
    "pycharm": {
     "name": "#%%\n"
    }
   },
   "outputs": [],
   "source": [
    "def main():\n",
    "    my_list = [] \t\t\t# 빈 리스트로 시작\n",
    "    \n",
    "    while True:\n",
    "        s = input('Enter next name: ')\n",
    "\n",
    "        if len(s) == 0:\n",
    "            break\n",
    "        my_list.append(s)\n",
    "        \n",
    "    my_list.sort() \t\t\t# 모든 항목 정렬\n",
    "    \n",
    "    print('Here is the sorted list:')\n",
    "\n",
    "    for a_word in my_list:\n",
    "        print(a_word, end=' ')\n",
    "\n",
    "main()"
   ]
  },
  {
   "cell_type": "code",
   "execution_count": null,
   "metadata": {
    "pycharm": {
     "name": "#%%\n"
    }
   },
   "outputs": [],
   "source": [
    "def ignore_case(s):\n",
    "    return s.casefold()\n",
    "\n",
    "a_list = [ 'john', 'paul', 'George', 'brian', 'Ringo' ]\n",
    "b_list = a_list[:]\n",
    "a_list.sort()\n",
    "a_list"
   ]
  },
  {
   "cell_type": "code",
   "execution_count": null,
   "metadata": {
    "pycharm": {
     "name": "#%%\n"
    }
   },
   "outputs": [],
   "source": [
    "b_list.sort(key=ignore_case)\n",
    "b_list"
   ]
  },
  {
   "cell_type": "code",
   "execution_count": null,
   "metadata": {
    "pycharm": {
     "name": "#%%\n"
    }
   },
   "outputs": [],
   "source": [
    "my_list = ['Brian', 'John', 'Paul', 'George', 'Ringo']\n",
    "my_list.reverse()    # 항목의 순서를 바로 뒤집는다.\n",
    "\n",
    "for a_word in my_list:\n",
    "    print(a_word, end=' ')"
   ]
  },
  {
   "cell_type": "markdown",
   "metadata": {},
   "source": [
    "## 3.12 스택 역할을 하는 리스트: RPN 애플리케이션"
   ]
  },
  {
   "cell_type": "markdown",
   "metadata": {},
   "source": [
    "<img src=\"images_skill_up/3-6.PNG\">"
   ]
  },
  {
   "cell_type": "markdown",
   "metadata": {},
   "source": [
    "<img src=\"images_skill_up/3-7.PNG\">"
   ]
  },
  {
   "cell_type": "code",
   "execution_count": null,
   "metadata": {
    "pycharm": {
     "name": "#%%\n"
    }
   },
   "outputs": [],
   "source": [
    "the_stack = []\n",
    "\n",
    "def push(v):\n",
    "    the_stack.append(v)\n",
    "\n",
    "def pop():\n",
    "    return the_stack.pop()\n",
    "\n",
    "def main():\n",
    "    s = input('Enter RPN string: ')\n",
    "    a_list = s.split()\n",
    "\n",
    "    for item in a_list:\n",
    "        \n",
    "        if item in '+-*/':\n",
    "            op2 = pop()\n",
    "            op1 = pop()\n",
    "            \n",
    "            if item == '+':\n",
    "                push(op1 + op2)\n",
    "            elif item == '-':\n",
    "                push(op1 - op2)\n",
    "            elif item == '*':\n",
    "                push(op1 * op2)\n",
    "            else:\n",
    "                push(op1 / op2)\n",
    "        else:\n",
    "            push(float(item))\n",
    "        \n",
    "    print(pop())\n",
    "\n",
    "main()"
   ]
  },
  {
   "cell_type": "markdown",
   "metadata": {},
   "source": [
    "- 리스트를 활용한 스택"
   ]
  },
  {
   "cell_type": "markdown",
   "metadata": {},
   "source": [
    "<img src=\"https://github.com/bluebibi/python-e-learning/raw/c4fcaee52cbc4118363b0a4d0716e6311ef4794c/images/stack.png\" />"
   ]
  },
  {
   "cell_type": "code",
   "execution_count": null,
   "metadata": {
    "pycharm": {
     "name": "#%%\n"
    }
   },
   "outputs": [],
   "source": [
    "s = [10, 20, 30, 40, 50]\n",
    "print(s.pop(0))   #0 번째 인덱스 값을 꺼낸다.\n",
    "\n",
    "print(s)\n",
    "\n",
    "print(s.pop(1))   #1 번째 인덱스 값을 꺼낸다.\n",
    "\n",
    "print(s)"
   ]
  },
  {
   "cell_type": "markdown",
   "metadata": {},
   "source": [
    "- 리스트를 활용한 큐"
   ]
  },
  {
   "cell_type": "markdown",
   "metadata": {},
   "source": [
    "<img src=\"https://github.com/bluebibi/python-e-learning/raw/c4fcaee52cbc4118363b0a4d0716e6311ef4794c/images/queue.png\" />"
   ]
  },
  {
   "cell_type": "code",
   "execution_count": null,
   "metadata": {
    "pycharm": {
     "name": "#%%\n"
    }
   },
   "outputs": [],
   "source": [
    "q = [10, 20, 30, 40, 50]\n",
    "q.append(60)\n",
    "print(q.pop(0))\n",
    "\n",
    "print(q)"
   ]
  },
  {
   "cell_type": "markdown",
   "metadata": {},
   "source": [
    "## 3.13 reduce 함수"
   ]
  },
  {
   "cell_type": "code",
   "execution_count": null,
   "metadata": {
    "pycharm": {
     "name": "#%%\n"
    }
   },
   "outputs": [],
   "source": [
    "import functools\n",
    "\n",
    "def add_func(a, b):\n",
    "    return a + b\n",
    "\n",
    "def mul_func(a, b):\n",
    "    return a * b\n",
    "\n",
    "n = 5\n",
    "a_list = list(range(1, n + 1))\n",
    "\n",
    "triangle_num = functools.reduce(add_func, a_list)\n",
    "triangle_num"
   ]
  },
  {
   "cell_type": "code",
   "execution_count": null,
   "metadata": {
    "pycharm": {
     "name": "#%%\n"
    }
   },
   "outputs": [],
   "source": [
    "fact_num = functools.reduce(mul_func, a_list)\n",
    "fact_num"
   ]
  },
  {
   "cell_type": "markdown",
   "metadata": {},
   "source": [
    "## 3.14 람다 함수"
   ]
  },
  {
   "cell_type": "code",
   "execution_count": null,
   "metadata": {
    "pycharm": {
     "name": "#%%\n"
    }
   },
   "outputs": [],
   "source": [
    "my_f = lambda x, y: x + y"
   ]
  },
  {
   "cell_type": "code",
   "execution_count": null,
   "metadata": {
    "pycharm": {
     "name": "#%%\n"
    }
   },
   "outputs": [],
   "source": [
    "sum1 = my_f(3, 7)\n",
    "print(sum1)         # 10 출력\n",
    "sum2 = my_f(10, 15)\n",
    "print(sum2)         # 25 출력"
   ]
  },
  {
   "cell_type": "code",
   "execution_count": null,
   "metadata": {
    "pycharm": {
     "name": "#%%\n"
    }
   },
   "outputs": [],
   "source": [
    "t5 = functools.reduce(lambda x, y: x + y, [1,2,3,4,5])\n",
    "t5"
   ]
  },
  {
   "cell_type": "code",
   "execution_count": null,
   "metadata": {
    "pycharm": {
     "name": "#%%\n"
    }
   },
   "outputs": [],
   "source": [
    "f5 = functools.reduce(lambda x, y: x * y, [1,2,3,4,5])"
   ]
  },
  {
   "cell_type": "code",
   "execution_count": null,
   "metadata": {
    "pycharm": {
     "name": "#%%\n"
    }
   },
   "outputs": [],
   "source": [
    "f5"
   ]
  },
  {
   "cell_type": "markdown",
   "metadata": {},
   "source": []
  },
  {
   "cell_type": "markdown",
   "metadata": {},
   "source": [
    "---\n",
    "### 람다(lambda) 함수 정의\n",
    "---\n",
    "- 람다(lambda) 함수 (or 축약 함수): https://wikidocs.net/64\n",
    "  - 일반적인 함수를 한 줄의 문(Statement)으로 정의할 수 있는 새로운 함수 정의 리터럴\n",
    "    - 람다 함수 몸체에는 식(expression)만이 올 수 있다.\n",
    "  - 대부분의 경우 함수 이름을 정의하지 않으면서 일회성으로 활용할 함수를 정의할 때 활용\n",
    "  - 구문(syntax)\n",
    "\n",
    "   ```*lambda 콤마로 구분된 인수들: 식(expression)*```"
   ]
  },
  {
   "cell_type": "markdown",
   "metadata": {},
   "source": [
    "### 람다 함수 정의 예"
   ]
  },
  {
   "cell_type": "markdown",
   "metadata": {},
   "source": [
    "- 인수가 한 개 있는 람다 함수"
   ]
  },
  {
   "cell_type": "code",
   "execution_count": null,
   "metadata": {
    "pycharm": {
     "name": "#%%\n"
    }
   },
   "outputs": [],
   "source": [
    "f = lambda x: x + 1\n",
    "print(f(1))"
   ]
  },
  {
   "cell_type": "markdown",
   "metadata": {},
   "source": [
    "- 인수가 두 개 있는 람다 함수를 지니는 변수 지정 및 함수 호출"
   ]
  },
  {
   "cell_type": "code",
   "execution_count": null,
   "metadata": {
    "pycharm": {
     "name": "#%%\n"
    }
   },
   "outputs": [],
   "source": [
    "g = lambda x, y: x + y\n",
    "print(g(1, 2))"
   ]
  },
  {
   "cell_type": "markdown",
   "metadata": {},
   "source": [
    "- 기본 인수를 지니는 람다 함수 정의"
   ]
  },
  {
   "cell_type": "code",
   "execution_count": null,
   "metadata": {
    "pycharm": {
     "name": "#%%\n"
    }
   },
   "outputs": [],
   "source": [
    "incr = lambda x, inc = 1: x + inc\n",
    "print(incr(10))#inc 기본 인수 값으로 1 사용\n",
    "print(incr(10, 5))"
   ]
  },
  {
   "cell_type": "markdown",
   "metadata": {},
   "source": [
    "- 가변 인수를 지니는 람다 함수 정의"
   ]
  },
  {
   "cell_type": "code",
   "execution_count": null,
   "metadata": {
    "pycharm": {
     "name": "#%%\n"
    }
   },
   "outputs": [],
   "source": [
    "vargs = lambda x, *args: args\n",
    "print(vargs(1, 2, 3, 4, 5))\n",
    "\n",
    "# 이전 jupyter notebook 참고; \"넣어주는 인수 값들 중 일반 인수에 할당되는 값을 제외한 나머지 값들을 지닌 튜플 객체가 할당된다.\"\n",
    "print(type(vargs))\n",
    "print(type(vargs(1, 2, 3, 4, 5)))"
   ]
  },
  {
   "cell_type": "markdown",
   "metadata": {},
   "source": [
    "### 람다 함수 사용하기"
   ]
  },
  {
   "cell_type": "code",
   "execution_count": null,
   "metadata": {
    "pycharm": {
     "name": "#%%\n"
    }
   },
   "outputs": [],
   "source": [
    "def f1(x):\n",
    "    return x * x + 3 * x - 10\n",
    "\n",
    "def f2(x):\n",
    "    return x * x * x\n",
    "\n",
    "def g(func):\n",
    "    return [func(x) for x in range(-10, 10)]\n",
    "\n",
    "print(g(f1))\n",
    "print(g(f2))"
   ]
  },
  {
   "cell_type": "code",
   "execution_count": null,
   "metadata": {
    "pycharm": {
     "name": "#%%\n"
    }
   },
   "outputs": [],
   "source": [
    "def g(func):\n",
    "    return [func(x) for x in range(-10, 10)]\n",
    "\n",
    "print(g(lambda x: x * x + 3 * x - 10))\n",
    "print(g(lambda x: x * x * x))"
   ]
  },
  {
   "cell_type": "markdown",
   "metadata": {},
   "source": [
    "- 람다 함수를 사용하는 코드 예제"
   ]
  },
  {
   "cell_type": "code",
   "execution_count": null,
   "metadata": {
    "pycharm": {
     "name": "#%%\n"
    }
   },
   "outputs": [],
   "source": [
    "# 더하기, 빼기, 곱하기, 나누기에 해당하는 람다 함수 리스트 정의\n",
    "func_list = [\n",
    "    lambda x, y: x + y,\n",
    "    lambda x, y: x - y,\n",
    "    lambda x, y: x * y,\n",
    "    lambda x, y: x / y\n",
    "]\n",
    "\n",
    "def menu():\n",
    "    print(\"0. add\")\n",
    "    print(\"1. sub\")\n",
    "    print(\"2. mul\")\n",
    "    print(\"3. div\")\n",
    "    print(\"4. quit\")\n",
    "    return int(input('Select menu:'))\n",
    "\n",
    "while 1:\n",
    "    sel = menu()\n",
    "    if sel < 0 or sel > len(func_list):\n",
    "        continue\n",
    "    if sel == len(func_list):\n",
    "        break\n",
    "    x = int(input('First operand:'))\n",
    "    y = int(input('Second operand:'))\n",
    "    print('Result =', func_list[sel](x,y), end=\"\\n\\n\")"
   ]
  },
  {
   "cell_type": "markdown",
   "metadata": {},
   "source": [
    "***\n",
    "### 람다 함수의 활용\n",
    "***\n",
    "- <code>map, filter, reduce</code> 내장 함수\n",
    "  - 첫번째 인자: <code>function</code>\n",
    "    - 첫번째 인자는 일반적으로 람다 함수를 인자로 받는다.\n",
    "  - 두번째 인자: 시퀀스 자료형 (문자열, 리스트, 튜플)"
   ]
  },
  {
   "cell_type": "markdown",
   "metadata": {},
   "source": [
    "#### map 내장 함수\n",
    "- <code>map(function, seq)</code>\n",
    "  - (python2) seq 시퀀스 자료형이 지닌 각 원소값들에 대해 function에 적용한 결과를 동일 시퀀스 자료형으로 반환한다.\n",
    "  - (python3) seq 시퀀스 자료형이 지닌 각 원소값들에 대해 function에 적용한 원소를 지닌 map 객체를 반환한다.\n",
    "    - 이후 동일한 자료형으로 다시 변환 필요"
   ]
  },
  {
   "cell_type": "code",
   "execution_count": null,
   "metadata": {
    "pycharm": {
     "name": "#%%\n"
    }
   },
   "outputs": [],
   "source": [
    "def f(x):\n",
    "    return x * x\n",
    "\n",
    "X = [1, 2, 3, 4, 5]\n",
    "m = map(f, X)\n",
    "print(type(m))"
   ]
  },
  {
   "cell_type": "code",
   "execution_count": null,
   "metadata": {
    "pycharm": {
     "name": "#%%\n"
    }
   },
   "outputs": [],
   "source": [
    "def f(x):\n",
    "    return x * x\n",
    "\n",
    "X = [1, 2, 3, 4, 5]\n",
    "Y = list(map(f, X))\n",
    "\n",
    "print(Y)"
   ]
  },
  {
   "cell_type": "markdown",
   "metadata": {},
   "source": [
    "- map 내장 함수를 사용하지 않을 때 코드"
   ]
  },
  {
   "cell_type": "code",
   "execution_count": null,
   "metadata": {
    "pycharm": {
     "name": "#%%\n"
    }
   },
   "outputs": [],
   "source": [
    "def f(x):\n",
    "    return x * x\n",
    "\n",
    "X = [1, 2, 3, 4, 5]\n",
    "\n",
    "Y = []\n",
    "for x in X:\n",
    "    y = f(x)\n",
    "    Y.append(y)\n",
    "print(Y)"
   ]
  },
  {
   "cell_type": "markdown",
   "metadata": {},
   "source": [
    "- map과 람다 함수를 동시에 사용하는 코드 (가장 추천하는 코드)"
   ]
  },
  {
   "cell_type": "code",
   "execution_count": null,
   "metadata": {
    "pycharm": {
     "name": "#%%\n"
    }
   },
   "outputs": [],
   "source": [
    "X = [1, 2, 3, 4, 5]\n",
    "print(list(map(lambda x: x * x, X)))"
   ]
  },
  {
   "cell_type": "markdown",
   "metadata": {},
   "source": [
    "- range(10)의 모든 값 x에 대해 f = x \\* x + 4 * x + 5의 계산 결과를 리스트로 구함"
   ]
  },
  {
   "cell_type": "code",
   "execution_count": null,
   "metadata": {
    "pycharm": {
     "name": "#%%\n"
    }
   },
   "outputs": [],
   "source": [
    "Y = list(map(lambda x: x * x + 4 * x + 5, range(10)))\n",
    "print(Y)"
   ]
  },
  {
   "cell_type": "markdown",
   "metadata": {},
   "source": [
    "- 각 단어들의 길이 리스트"
   ]
  },
  {
   "cell_type": "code",
   "execution_count": null,
   "metadata": {
    "pycharm": {
     "name": "#%%\n"
    }
   },
   "outputs": [],
   "source": [
    "y = list(map(lambda x: len(x), [\"Hello\", \"Python\", \"Programming\"]))\n",
    "print(y)"
   ]
  },
  {
   "cell_type": "markdown",
   "metadata": {},
   "source": [
    "#### filter 내장 함수\n",
    "- <code>filter(function, seq)</code>\n",
    "  - (python2) seq 시퀀스 자료형이 지닌 각 원소값들에 대해 function에 적용한 결과가 참인 원소값들만을 동일 시퀀스 자료형으로 반환한다.\n",
    "  - (python3) seq 시퀀스 자료형이 지닌 각 원소값들에 대해 function에 적용한 결과가 참인 원소값들만을 지닌 filter 객체를 반환한다.\n",
    "    - 이후 동일한 자료형으로 다시 변환 필요"
   ]
  },
  {
   "cell_type": "code",
   "execution_count": null,
   "metadata": {
    "pycharm": {
     "name": "#%%\n"
    }
   },
   "outputs": [],
   "source": [
    "print(list(filter(lambda x: x > 2, [1, 2, 3, 34])))"
   ]
  },
  {
   "cell_type": "markdown",
   "metadata": {},
   "source": [
    "- 위 코드는 아래와 동일하다."
   ]
  },
  {
   "cell_type": "code",
   "execution_count": null,
   "metadata": {
    "pycharm": {
     "name": "#%%\n"
    }
   },
   "outputs": [],
   "source": [
    "y = []\n",
    "for x in [1, 2, 3, 34]:\n",
    "    if x > 2:\n",
    "        y.append(x)\n",
    "print(y)"
   ]
  },
  {
   "cell_type": "markdown",
   "metadata": {},
   "source": [
    "- 주어진 시퀀스 내에 있는 정수중 홀수만 필터링"
   ]
  },
  {
   "cell_type": "code",
   "execution_count": null,
   "metadata": {
    "pycharm": {
     "name": "#%%\n"
    }
   },
   "outputs": [],
   "source": [
    "print(list(filter(lambda x: x % 2, [1, 2, 3, 4, 5, 6])))"
   ]
  },
  {
   "cell_type": "markdown",
   "metadata": {},
   "source": [
    "- 주어진 시퀀스 내에 있는 정수중 짝수만 필터링"
   ]
  },
  {
   "cell_type": "code",
   "execution_count": null,
   "metadata": {
    "pycharm": {
     "name": "#%%\n"
    }
   },
   "outputs": [],
   "source": [
    "print(list(filter(lambda x: x % 2 - 1, [1, 2, 3, 4, 5, 6])))"
   ]
  },
  {
   "cell_type": "markdown",
   "metadata": {},
   "source": [
    "- 특정 범위에 있는 정수만 필터링"
   ]
  },
  {
   "cell_type": "code",
   "execution_count": null,
   "metadata": {
    "pycharm": {
     "name": "#%%\n"
    }
   },
   "outputs": [],
   "source": [
    "def F():\n",
    "    x = 1\n",
    "    print(list(filter(lambda a: a > x, range(-5, 5))))\n",
    "\n",
    "F()"
   ]
  },
  {
   "cell_type": "markdown",
   "metadata": {},
   "source": [
    "### python2 --> python3"
   ]
  },
  {
   "cell_type": "markdown",
   "metadata": {},
   "source": [
    "(python2)\n",
    "- map과 filter의 결과는 주어진 seq 자료형과 동일함"
   ]
  },
  {
   "cell_type": "markdown",
   "metadata": {},
   "source": [
    "(python3)\n",
    "- filter, map은 iterator 객체인 filter, map을 각각 리턴함\n",
    "- 참고\n",
    "  - https://docs.python.org/3/library/functions.html#map\n",
    "  - https://docs.python.org/3/library/functions.html#filter\n",
    "  - https://stackoverflow.com/questions/12319025/filters-in-python3"
   ]
  },
  {
   "cell_type": "code",
   "execution_count": 2,
   "metadata": {
    "pycharm": {
     "name": "#%%\n"
    }
   },
   "outputs": [
    {
     "name": "stdout",
     "output_type": "stream",
     "text": [
      "<filter object at 0x7f8528635710>\n",
      "<filter object at 0x7f8528635860>\n",
      "<filter object at 0x7f8528635710>\n"
     ]
    }
   ],
   "source": [
    "print(filter(lambda x: x > 2, [1, 2, 3, 34]))\n",
    "print(filter(lambda x: x > 2, (1, 2, 3, 34)))\n",
    "print(filter(lambda x: x < 'a', 'abcABCdefDEF'))"
   ]
  },
  {
   "cell_type": "code",
   "execution_count": 1,
   "metadata": {
    "pycharm": {
     "name": "#%%\n"
    }
   },
   "outputs": [
    {
     "name": "stdout",
     "output_type": "stream",
     "text": [
      "[3, 34]\n",
      "(3, 34)\n",
      "['A', 'B', 'C', 'D', 'E', 'F']\n"
     ]
    }
   ],
   "source": [
    "print(list(filter(lambda x: x > 2, [1, 2, 3, 34])))\n",
    "print(tuple(filter(lambda x: x > 2, (1, 2, 3, 34))))\n",
    "print(list(filter(lambda x: x < 'a', 'abcABCdefDEF')))"
   ]
  },
  {
   "cell_type": "markdown",
   "metadata": {},
   "source": [
    "## 3.15 리스트 함축 (List Comprehension)"
   ]
  },
  {
   "cell_type": "markdown",
   "metadata": {},
   "source": [
    "- 다음은 고등학교 수학에서 배운 집합의 표기 방법이다.\n",
    "  - A = {x^2 | x in {0, ..., 9}}\n",
    "  - B = {1, 2, 4, 8, 16, ..., 2^16}\n",
    "  - C = {x | x in S and x is odd}\n",
    "\n",
    "- 파이썬의 리스트 내포(list comprehension)는 바로 위 집합 표기법과 유사한 방식의 리터럴이다.\n",
    "\n",
    "- 위 집합들을 리스트 내포 방식으로 표현하면 다음과 같다.\n",
    "  - A = [x**2 for x in range(10)]\n",
    "  - B = [2**i for i in range(17)]\n",
    "  - C = [x for x in S if x % 2 == 1]"
   ]
  },
  {
   "cell_type": "markdown",
   "metadata": {},
   "source": [
    "<img src=\"images_skill_up/3-8.PNG\">"
   ]
  },
  {
   "cell_type": "markdown",
   "metadata": {},
   "source": [
    "- 리스트 내포 리터럴"
   ]
  },
  {
   "cell_type": "markdown",
   "metadata": {},
   "source": [
    "```\n",
    "[expression for expr1 in sequence1\n",
    "            for expr2 in sequence2 \n",
    "            ...\n",
    "            for exprN in sequenceN\n",
    "            if condition]\n",
    "```"
   ]
  },
  {
   "cell_type": "markdown",
   "metadata": {},
   "source": [
    "- 위 리터럴은 다음의 일반적인 for 문의 리털러과 동일"
   ]
  },
  {
   "cell_type": "markdown",
   "metadata": {},
   "source": [
    "```\n",
    "l = []\n",
    "for expr1 in sequence1:\n",
    "  for expr2 in sequence2:\n",
    "    ...\n",
    "       for exprtN in sequenceN:\n",
    "          if condition:\n",
    "             l.append(expression)\n",
    "```"
   ]
  },
  {
   "cell_type": "code",
   "execution_count": null,
   "metadata": {
    "pycharm": {
     "name": "#%%\n"
    }
   },
   "outputs": [],
   "source": [
    "b_list = a_list[:]"
   ]
  },
  {
   "cell_type": "code",
   "execution_count": null,
   "metadata": {
    "pycharm": {
     "name": "#%%\n"
    }
   },
   "outputs": [],
   "source": [
    "b_list = []\n",
    "for i in a_list:\n",
    "    b_list.append(i)"
   ]
  },
  {
   "cell_type": "code",
   "execution_count": null,
   "metadata": {
    "pycharm": {
     "name": "#%%\n"
    }
   },
   "outputs": [],
   "source": [
    "b_list = [i for i in a_list]"
   ]
  },
  {
   "cell_type": "code",
   "execution_count": null,
   "metadata": {
    "pycharm": {
     "name": "#%%\n"
    }
   },
   "outputs": [],
   "source": [
    "b_list = [i * i for i in a_list]"
   ]
  },
  {
   "cell_type": "code",
   "execution_count": null,
   "metadata": {
    "pycharm": {
     "name": "#%%\n"
    }
   },
   "outputs": [],
   "source": [
    "mult_list = [ ]\n",
    "for i in range(3):\n",
    "    for j in range(3):\n",
    "        mult_list.append(i * j)"
   ]
  },
  {
   "cell_type": "code",
   "execution_count": null,
   "metadata": {
    "pycharm": {
     "name": "#%%\n"
    }
   },
   "outputs": [],
   "source": [
    "mult_list = [i * j for i in range(3) for j in range(3)]"
   ]
  },
  {
   "cell_type": "code",
   "execution_count": null,
   "metadata": {
    "pycharm": {
     "name": "#%%\n"
    }
   },
   "outputs": [],
   "source": [
    "my_list = [10, -10, -1, 12, -500, 13, 15, -3]\n",
    "\n",
    "new_list = []\n",
    "\n",
    "for i in my_list:\n",
    "    if i > 0:\n",
    "        new_list.append(i)"
   ]
  },
  {
   "cell_type": "code",
   "execution_count": null,
   "metadata": {
    "pycharm": {
     "name": "#%%\n"
    }
   },
   "outputs": [],
   "source": [
    "new_list = [i for i in my_list if i > 0 ]"
   ]
  },
  {
   "cell_type": "code",
   "execution_count": null,
   "metadata": {
    "pycharm": {
     "name": "#%%\n"
    }
   },
   "outputs": [],
   "source": [
    "my_list = [1, 2, -10, -500, 33, 21, -1]\n",
    "neg_list = [i for i in my_list if i < 0 ]"
   ]
  },
  {
   "cell_type": "markdown",
   "metadata": {},
   "source": [
    "- 100 보다 작은 홀수의 제곱만 리스트로 형성"
   ]
  },
  {
   "cell_type": "code",
   "execution_count": null,
   "metadata": {
    "pycharm": {
     "name": "#%%\n"
    }
   },
   "outputs": [],
   "source": [
    "L = [k * k for k in range(100) if k % 2]   # 홀수의 제곱만 리스트로 형성\n",
    "print(L)"
   ]
  },
  {
   "cell_type": "markdown",
   "metadata": {},
   "source": [
    "- 위의 리스트 내포 코드는 아래와 동일"
   ]
  },
  {
   "cell_type": "code",
   "execution_count": null,
   "metadata": {
    "pycharm": {
     "name": "#%%\n"
    }
   },
   "outputs": [],
   "source": [
    "L = []\n",
    "for k in range(10):\n",
    "    if k % 2:\n",
    "        L.append(k*k)\n",
    "print(L)"
   ]
  },
  {
   "cell_type": "markdown",
   "metadata": {},
   "source": [
    "- 두 개의 시퀀스 자료형에 대해 각각의 원소에 대한 쌍을 튜플 형태로 만들면서 리스트에 저장하는 코드"
   ]
  },
  {
   "cell_type": "code",
   "execution_count": null,
   "metadata": {
    "pycharm": {
     "name": "#%%\n"
    }
   },
   "outputs": [],
   "source": [
    "seq1 = 'abc'\n",
    "seq2 = (1, 2, 3)\n",
    "print([(x, y) for x in seq1 for y in seq2])"
   ]
  },
  {
   "cell_type": "code",
   "execution_count": null,
   "metadata": {
    "pycharm": {
     "name": "#%%\n"
    }
   },
   "outputs": [],
   "source": [
    "seq1 = 'abc'\n",
    "seq2 = (1, 2, 3)\n",
    "l = []\n",
    "for x in seq1:\n",
    "    for y in seq2:\n",
    "        l.append((x, y))\n",
    "print(l)"
   ]
  },
  {
   "cell_type": "markdown",
   "metadata": {},
   "source": [
    "- 20보다 작은 2의 배수와 3의 배수에 대해 그 두 수의 합이 7의 배수인 것들에 대해 그 두 수의 곱을 출력하는 코드"
   ]
  },
  {
   "cell_type": "code",
   "execution_count": null,
   "metadata": {
    "pycharm": {
     "name": "#%%\n"
    }
   },
   "outputs": [],
   "source": [
    "L = [(i, j, i*j) for i in range(2, 20, 2) for j in range(3, 20, 3) if (i + j) % 7 == 0]\n",
    "print(L)"
   ]
  },
  {
   "cell_type": "markdown",
   "metadata": {},
   "source": [
    "- 문장 내 단어의 길이 출력"
   ]
  },
  {
   "cell_type": "code",
   "execution_count": null,
   "metadata": {
    "pycharm": {
     "name": "#%%\n"
    }
   },
   "outputs": [],
   "source": [
    "words = 'The quick brown fox jumps over the lazy dog'.split()\n",
    "stuff = [[w.upper(), w.lower(), len(w)] for w in words]\n",
    "for i in stuff:\n",
    "    print(i)"
   ]
  },
  {
   "cell_type": "markdown",
   "metadata": {},
   "source": [
    "- 피타고라스 삼각형의 각 3변의 길이 리스트 (조건: 각 변 x, y, z의 길이는 30 보다 작아야 하며, x <= y <= z 이어야 함)"
   ]
  },
  {
   "cell_type": "code",
   "execution_count": null,
   "metadata": {
    "pycharm": {
     "name": "#%%\n"
    }
   },
   "outputs": [],
   "source": [
    "k = [(x,y,z) for x in range(1,30) for y in range(x,30) for z in range(y,30) if x**2 + y**2 == z**2]\n",
    "print(k)"
   ]
  },
  {
   "cell_type": "markdown",
   "metadata": {},
   "source": [
    "## 3.16 딕셔너리와 세트 함축"
   ]
  },
  {
   "cell_type": "markdown",
   "source": [
    "- 세트 함축"
   ],
   "metadata": {
    "collapsed": false,
    "pycharm": {
     "name": "#%% md\n"
    }
   }
  },
  {
   "cell_type": "code",
   "execution_count": null,
   "metadata": {
    "pycharm": {
     "name": "#%%\n"
    }
   },
   "outputs": [],
   "source": [
    "a_list = [5, 5, 5, -20, 2, -1, 2]\n",
    "my_set = set( )\n",
    "for i in a_list:\n",
    "    if i > 0:\n",
    "        my_set.add(i)"
   ]
  },
  {
   "cell_type": "code",
   "execution_count": null,
   "metadata": {
    "pycharm": {
     "name": "#%%\n"
    }
   },
   "outputs": [],
   "source": [
    "my_set = {i for i in a_list if i > 0}\n",
    "my_set"
   ]
  },
  {
   "cell_type": "code",
   "execution_count": null,
   "metadata": {
    "pycharm": {
     "name": "#%%\n"
    }
   },
   "outputs": [],
   "source": [
    "my_set = {i * i for i in a_list if i > 0}\n",
    "my_set"
   ]
  },
  {
   "cell_type": "markdown",
   "source": [
    "- 딕셔너리 함축\n"
   ],
   "metadata": {
    "collapsed": false
   }
  },
  {
   "cell_type": "code",
   "execution_count": null,
   "metadata": {
    "pycharm": {
     "name": "#%%\n"
    }
   },
   "outputs": [],
   "source": [
    "vals_list = [ ('pi', 3.14), ('phi', 1.618) ]"
   ]
  },
  {
   "cell_type": "code",
   "execution_count": null,
   "metadata": {
    "pycharm": {
     "name": "#%%\n"
    }
   },
   "outputs": [],
   "source": [
    "my_dict = { i[0]: i[1] for i in vals_list }\n",
    "my_dict['pi']"
   ]
  },
  {
   "cell_type": "code",
   "execution_count": null,
   "metadata": {
    "pycharm": {
     "name": "#%%\n"
    }
   },
   "outputs": [],
   "source": [
    "keys = ['Bob', 'Carol', 'Ted', 'Alice' ]\n",
    "vals = [4.0, 4.0, 3.75, 3.9]\n",
    "grade_dict = { keys[i]: vals[i] for i in range(len(keys)) }\n",
    "grade_dict"
   ]
  },
  {
   "cell_type": "code",
   "execution_count": null,
   "metadata": {
    "pycharm": {
     "name": "#%%\n"
    }
   },
   "outputs": [],
   "source": [
    "grade_dict = { key: val for key, val in zip(keys, vals)}\n",
    "grade_dict"
   ]
  },
  {
   "cell_type": "code",
   "execution_count": null,
   "metadata": {
    "pycharm": {
     "name": "#%%\n"
    }
   },
   "outputs": [],
   "source": [
    "phone_dict = {'철수': '000-0000-00000', '영희': '000-1111-00000'}\n",
    "idict = {v : k for k, v in phone_dict.items() }\n",
    "idict"
   ]
  },
  {
   "cell_type": "markdown",
   "metadata": {},
   "source": [
    "## 3.17 리스트를 통한 인수 전달하기"
   ]
  },
  {
   "cell_type": "code",
   "execution_count": null,
   "metadata": {
    "pycharm": {
     "name": "#%%\n"
    }
   },
   "outputs": [],
   "source": [
    "def set_list_vals(list_arg):\n",
    "    list_arg[0] = 100\n",
    "    list_arg[1] = 200\n",
    "    list_arg[2] = 150 \n",
    "\n",
    "a_list = [0, 0, 0]\n",
    "set_list_vals(a_list)\n",
    "print(a_list) \t\t# [100, 200, 150] 출력"
   ]
  },
  {
   "cell_type": "code",
   "execution_count": null,
   "metadata": {
    "pycharm": {
     "name": "#%%\n"
    }
   },
   "outputs": [],
   "source": [
    "def set_list_vals(list_arg):\n",
    "    list_arg = [100, 200, 150]\n",
    "\n",
    "a_list = [0, 0, 0]\n",
    "set_list_vals(a_list)\n",
    "print(a_list)          # [0, 0, 0] 출력"
   ]
  },
  {
   "cell_type": "code",
   "execution_count": null,
   "metadata": {
    "pycharm": {
     "name": "#%%\n"
    }
   },
   "outputs": [],
   "source": [
    "new_data = -123\n",
    "my_list[0] = new_data \t\t# 리스트 데이터를 실제로 변경한다.\n",
    "my_list"
   ]
  },
  {
   "cell_type": "markdown",
   "metadata": {},
   "source": [
    "## 3.18 다차원 리스트"
   ]
  },
  {
   "cell_type": "code",
   "execution_count": null,
   "metadata": {
    "pycharm": {
     "name": "#%%\n"
    }
   },
   "outputs": [],
   "source": [
    "weird_list = [ [1, 2, 3], 'John', 'George' ]"
   ]
  },
  {
   "cell_type": "code",
   "execution_count": null,
   "metadata": {
    "pycharm": {
     "name": "#%%\n"
    }
   },
   "outputs": [],
   "source": [
    "mat = [[10, 11, 21], [20, 21, 22], [25, 15, 15]]"
   ]
  },
  {
   "cell_type": "markdown",
   "metadata": {},
   "source": [
    "### 3.18.1 불균형 행렬"
   ]
  },
  {
   "cell_type": "code",
   "execution_count": null,
   "metadata": {
    "pycharm": {
     "name": "#%%\n"
    }
   },
   "outputs": [],
   "source": [
    "weird_mat = [[1, 2, 3, 4], [0, 5], [9, 8, 3]]"
   ]
  },
  {
   "cell_type": "code",
   "execution_count": null,
   "metadata": {
    "pycharm": {
     "name": "#%%\n"
    }
   },
   "outputs": [],
   "source": [
    "len(weird_mat)"
   ]
  },
  {
   "cell_type": "code",
   "execution_count": null,
   "metadata": {
    "pycharm": {
     "name": "#%%\n"
    }
   },
   "outputs": [],
   "source": [
    "len(weird_mat[0]) \t# 4 반환"
   ]
  },
  {
   "cell_type": "code",
   "execution_count": null,
   "metadata": {
    "pycharm": {
     "name": "#%%\n"
    }
   },
   "outputs": [],
   "source": [
    "len(weird_mat[1]) \t# 2 반환"
   ]
  },
  {
   "cell_type": "code",
   "execution_count": null,
   "metadata": {
    "pycharm": {
     "name": "#%%\n"
    }
   },
   "outputs": [],
   "source": [
    "len(weird_mat[2]) \t# 3 반환"
   ]
  },
  {
   "cell_type": "markdown",
   "metadata": {},
   "source": [
    "### 3.18.2 제멋대로 큰 행렬 만들기"
   ]
  },
  {
   "cell_type": "code",
   "execution_count": null,
   "metadata": {
    "pycharm": {
     "name": "#%%\n"
    }
   },
   "outputs": [],
   "source": [
    "big_list = [0] * 100 \t# 0으로 초기화된 100개 항목을 가진 리스트 생성"
   ]
  },
  {
   "cell_type": "code",
   "execution_count": null,
   "metadata": {
    "pycharm": {
     "name": "#%%\n"
    }
   },
   "outputs": [],
   "source": [
    "mat = [[0] * 100] * 200"
   ]
  },
  {
   "cell_type": "code",
   "execution_count": null,
   "metadata": {
    "pycharm": {
     "name": "#%%\n"
    }
   },
   "outputs": [],
   "source": [
    "mat = []\n",
    "for i in range(200):\n",
    "    mat.append([0] * 100)"
   ]
  },
  {
   "cell_type": "code",
   "execution_count": null,
   "metadata": {
    "pycharm": {
     "name": "#%%\n"
    }
   },
   "outputs": [],
   "source": [
    "mat[150][87] = 3.141592"
   ]
  },
  {
   "cell_type": "code",
   "execution_count": null,
   "metadata": {
    "pycharm": {
     "name": "#%%\n"
    }
   },
   "outputs": [],
   "source": [
    "mat = [ [0] * 100 for i in range(200) ]"
   ]
  },
  {
   "cell_type": "code",
   "execution_count": null,
   "metadata": {
    "pycharm": {
     "name": "#%%\n"
    }
   },
   "outputs": [],
   "source": [
    "mat2 = [ [0] * 25 for _ in range(30) ]"
   ]
  },
  {
   "cell_type": "code",
   "execution_count": null,
   "metadata": {
    "pycharm": {
     "name": "#%%\n"
    }
   },
   "outputs": [],
   "source": [
    "mat2 = [[ [0] * 25  for _ in range(20) ]\n",
    "                    for _ in range(30) ]"
   ]
  },
  {
   "cell_type": "code",
   "execution_count": null,
   "metadata": {
    "pycharm": {
     "name": "#%%\n"
    }
   },
   "outputs": [],
   "source": [
    "mat2 = [[[ [0] * 10 for _ in range(10) ]\n",
    "                    for _ in range(10) ]\n",
    "                    for _ in range(10) ]"
   ]
  },
  {
   "cell_type": "markdown",
   "metadata": {},
   "source": [
    "***\n",
    "#### [추가 내용] 집합 자료형\n",
    "***\n",
    "- set 내장 함수를 사용한 집합 자료 생성\n",
    "  - 변경 가능(Mutable)한 객체이다.\n",
    "  - 각 원소간에 순서는 없다.\n",
    "  - 각 원소는 중복될 수 없다.\n",
    "  - [note] set은 컨네이너 자료형이지만 시퀀스 자료형은 아니다."
   ]
  },
  {
   "cell_type": "markdown",
   "metadata": {},
   "source": [
    "#### 집합 자료형 생성"
   ]
  },
  {
   "cell_type": "code",
   "execution_count": null,
   "metadata": {
    "pycharm": {
     "name": "#%%\n"
    }
   },
   "outputs": [],
   "source": [
    "a = set([1, 2, 3])\n",
    "print(type(a))\n",
    "print(a)"
   ]
  },
  {
   "cell_type": "code",
   "execution_count": null,
   "metadata": {
    "pycharm": {
     "name": "#%%\n"
    }
   },
   "outputs": [],
   "source": [
    "b = set((1, 2, 3))\n",
    "print(type(b))\n",
    "print(b)"
   ]
  },
  {
   "cell_type": "code",
   "execution_count": null,
   "metadata": {
    "pycharm": {
     "name": "#%%\n"
    }
   },
   "outputs": [],
   "source": [
    "c = set({'a':1, 'b':2, 'c':3})\n",
    "print(type(c))\n",
    "print(c)"
   ]
  },
  {
   "cell_type": "code",
   "execution_count": null,
   "metadata": {
    "pycharm": {
     "name": "#%%\n"
    }
   },
   "outputs": [],
   "source": [
    "d = set({'a':1, 'b':2, 'c':3}.values())\n",
    "print(type(d))\n",
    "print(d)"
   ]
  },
  {
   "cell_type": "markdown",
   "metadata": {},
   "source": [
    "- 집합 만드는 다른 방법"
   ]
  },
  {
   "cell_type": "code",
   "execution_count": null,
   "metadata": {
    "pycharm": {
     "name": "#%%\n"
    }
   },
   "outputs": [],
   "source": [
    "e = {1, 2, 3, 4, 5}\n",
    "print(type(e))\n",
    "print(e)"
   ]
  },
  {
   "cell_type": "markdown",
   "metadata": {},
   "source": [
    "- set에는 동일한 자료가 중복해서 저장되지 않는다. 즉 중복이 자동으로 제거됨"
   ]
  },
  {
   "cell_type": "code",
   "execution_count": null,
   "metadata": {
    "pycharm": {
     "name": "#%%\n"
    }
   },
   "outputs": [],
   "source": [
    "f = {1, 1, 2, 2, 3, 3}\n",
    "g = set([1, 1, 2, 2, 3, 3])\n",
    "print(f)\n",
    "print(g)"
   ]
  },
  {
   "cell_type": "markdown",
   "metadata": {},
   "source": [
    "- set의 원소로는 변경 불가능(Immutable)한 것만 할당 가능하다."
   ]
  },
  {
   "cell_type": "code",
   "execution_count": null,
   "metadata": {
    "pycharm": {
     "name": "#%%\n"
    }
   },
   "outputs": [],
   "source": [
    "print(set())                         # 빈 set 객체 생성\n",
    "print(set([1, 2, 3, 4, 5]))         # 초기 값은 일반적으로 시퀀스 자료형인 리스트를 넣어준다.\n",
    "print(set([1, 2, 3, 2, 3, 4]))      # 중복된 원소는 한 나만 저장됨\n",
    "print(set('abc'))                  # 문자열은 각 문자를 집합 원소로 지닌다.\n",
    "print(set([(1, 2, 3), (4, 5, 6)]))  # 각 튜플은 원소로 가질 수 있음\n",
    "print(set([[1, 2, 3], [4, 5, 6]]))  # 변경 가능 자료인 리스트는 집합의 원소가 될 수 없다."
   ]
  },
  {
   "cell_type": "code",
   "execution_count": null,
   "metadata": {
    "pycharm": {
     "name": "#%%\n"
    }
   },
   "outputs": [],
   "source": [
    "print(set([{1:\"aaa\"}, {2:\"bbb\"}]))  # 변경 가능 자료인 사전도 집합의 원소가 될 수 없다."
   ]
  },
  {
   "cell_type": "markdown",
   "metadata": {},
   "source": [
    "- set의 기본 연산\n",
    "\n",
    "|          set 연산         | 동일 연산자 | 내용                        |\n",
    "|---------------------------|-------------|-----------------------------|\n",
    "| len(s)                    |             | 원소의 개수                 |\n",
    "| x in s                    |             | x가 집합 s의 원소인가?      |\n",
    "| x not in s                |             | x가 집합 s의 원소가 아닌가? |"
   ]
  },
  {
   "cell_type": "code",
   "execution_count": null,
   "metadata": {
    "pycharm": {
     "name": "#%%\n"
    }
   },
   "outputs": [],
   "source": [
    "A = set([1, 2, 3, 4, 5, 6, 7, 8, 9])\n",
    "\n",
    "print(len(A))      # 집합의 원소의 수\n",
    "print(5 in A)      # 멤버십 테스트\n",
    "print(10 not in A) # 멤버십 테스트"
   ]
  },
  {
   "cell_type": "markdown",
   "metadata": {},
   "source": [
    "#### 집합 자료형 메소드"
   ]
  },
  {
   "cell_type": "markdown",
   "metadata": {},
   "source": [
    "- set의 주요 메소드\n",
    "  - 다음 연산은 원래 집합은 변경하지 않고 새로운 집합을 반환한다.\n",
    "\n",
    "|          set 연산         | 동일 연산자 | 내용                        |\n",
    "|---------------------------|-------------|-----------------------------|\n",
    "| s.issubset(t)             | s <= t      | s가 t의 부분집합인가?       |\n",
    "| s.issuperset(t)           | s >= t      | s가 t의 슈퍼집합인가?       |\n",
    "| s.union(t)                | s &#124; t       | 새로운 s와 t의 합집합       |\n",
    "| s.intersection(t)         | s & t       | 새로운 s와 t의 교집합       |\n",
    "| s.difference(t)           | s - t       | 새로운 s와 t의 차집합       |\n",
    "| s.symmetric_difference(t) | s ^ t       | 새로운 s와 t의 배타집합     |\n",
    "| s.copy()                  |             | 집합 s의 shallow 복사      |"
   ]
  },
  {
   "cell_type": "code",
   "execution_count": null,
   "metadata": {
    "pycharm": {
     "name": "#%%\n"
    }
   },
   "outputs": [],
   "source": [
    "B = set([4, 5, 6, 10, 20, 30])\n",
    "C = set([10, 20, 30])\n",
    "\n",
    "print(C.issubset(B))    # C가 B의 부분집합?\n",
    "print(C <= B)\n",
    "print(B.issuperset(C))  # B가 C를 포함하는 집합?\n",
    "print(B >= C)\n",
    "print()"
   ]
  },
  {
   "cell_type": "code",
   "execution_count": null,
   "metadata": {
    "pycharm": {
     "name": "#%%\n"
    }
   },
   "outputs": [],
   "source": [
    "A = set([1, 2, 3, 4, 5, 6, 7, 8, 9])\n",
    "B = set([4, 5, 6, 10, 20, 30])\n",
    "\n",
    "print(A.union(B)) # A와 B의 합집합\n",
    "print(A | B)\n",
    "print(A)"
   ]
  },
  {
   "cell_type": "code",
   "execution_count": null,
   "metadata": {
    "pycharm": {
     "name": "#%%\n"
    }
   },
   "outputs": [],
   "source": [
    "print(A.intersection(B)) # A와 B의 교집합\n",
    "print(A & B)\n",
    "print(A)"
   ]
  },
  {
   "cell_type": "code",
   "execution_count": null,
   "metadata": {
    "pycharm": {
     "name": "#%%\n"
    }
   },
   "outputs": [],
   "source": [
    "print(A.difference(B)) # A - B (차집합)\n",
    "print(A - B)\n",
    "print(A)"
   ]
  },
  {
   "cell_type": "code",
   "execution_count": null,
   "metadata": {
    "pycharm": {
     "name": "#%%\n"
    }
   },
   "outputs": [],
   "source": [
    "print(A.symmetric_difference(B)) # 베타집합. A와 B의 합집합에서 교집합의 원소를 제외한 집합\n",
    "print(A ^ B)\n",
    "print(A)"
   ]
  },
  {
   "cell_type": "code",
   "execution_count": null,
   "metadata": {
    "pycharm": {
     "name": "#%%\n"
    }
   },
   "outputs": [],
   "source": [
    "A = set([1, 2, 3, 4, 5, 6, 7, 8, 9])\n",
    "D = A.copy()\n",
    "print(D)\n",
    "print()\n",
    "\n",
    "print(A == D) #자료값 비교\n",
    "print(A is D) #객체 동등성 비교"
   ]
  },
  {
   "cell_type": "markdown",
   "metadata": {},
   "source": [
    "- set은 시퀀스 자료형이 아니므로 인덱싱, 슬라이싱, 정렬 등을 지원하지 않는다."
   ]
  },
  {
   "cell_type": "code",
   "execution_count": null,
   "metadata": {
    "pycharm": {
     "name": "#%%\n"
    }
   },
   "outputs": [],
   "source": [
    "A = set([1, 2, 3, 4, 5, 6, 7, 8, 9])\n",
    "print(A[0])"
   ]
  },
  {
   "cell_type": "code",
   "execution_count": null,
   "metadata": {
    "pycharm": {
     "name": "#%%\n"
    }
   },
   "outputs": [],
   "source": [
    "print(A[1:4])"
   ]
  },
  {
   "cell_type": "code",
   "execution_count": null,
   "metadata": {
    "pycharm": {
     "name": "#%%\n"
    }
   },
   "outputs": [],
   "source": [
    "print(A.sort())"
   ]
  },
  {
   "cell_type": "markdown",
   "metadata": {},
   "source": [
    "- 집합을 리스트나 튜플로 변경가능\n",
    "  - 집합에 인덱싱, 슬라이싱, 정렬 등을 적용하기 위해서는 리스트나 튜플로 변경한다."
   ]
  },
  {
   "cell_type": "code",
   "execution_count": null,
   "metadata": {
    "pycharm": {
     "name": "#%%\n"
    }
   },
   "outputs": [],
   "source": [
    "print(list(A))\n",
    "print(tuple(A))"
   ]
  },
  {
   "cell_type": "markdown",
   "metadata": {},
   "source": [
    "- 하지만 집합에 for ~ in 연산은 적용 가능하다."
   ]
  },
  {
   "cell_type": "code",
   "execution_count": null,
   "metadata": {
    "pycharm": {
     "name": "#%%\n"
    }
   },
   "outputs": [],
   "source": [
    "A = set([1, 2, 3, 4, 5, 6, 7, 8, 9])\n",
    "for ele in A:\n",
    "    print(ele,end=\" \")"
   ]
  },
  {
   "cell_type": "markdown",
   "metadata": {},
   "source": [
    "- set은 변경 가능(Mutable)한 자료 구조 객체\n",
    "- 다음 메소드들은 set을 변경하는 집합 자료 구조 메소드들임\n",
    "\n",
    "|          set 연산         | 동일 연산자 | 내용                        |\n",
    "|---------------------------|-------------|-----------------------------|\n",
    "| s.update(t)               | s &#124;= t      | s와 t의 합집합을 s에 저장      |\n",
    "| s.intersection_update(t)  | s &= t      | s와 t의 교집합을 s에 저장      |\n",
    "| s.difference_update(t)    | s -= t      | s와 t의 차집합을 s에 저장      |\n",
    "| s.symmetric_difference_update(t)| s ^= t  | s와 t의 배타집합을 s에 저장     |\n",
    "| s.add(x)                  |             | 원소 x를 집합 s에 추가      |\n",
    "| s.remove(x)               |             | 원소 x를 집합 s에서 제거, 원소 x가 집합 s에 없으면 예외 발생       |\n",
    "| s.discard(x)              |             | 원소 x를 집합 s에서 제거       |\n",
    "| s.pop()                   |             | 임의의 원소를 집합 s에서 제거, 집합 s가 공집합이면 예외 발생       |\n",
    "| s.clear()                 |             | 집합 s의 모든 원소 제거     |"
   ]
  },
  {
   "cell_type": "code",
   "execution_count": null,
   "metadata": {
    "pycharm": {
     "name": "#%%\n"
    }
   },
   "outputs": [],
   "source": [
    "A = set([1, 2, 3, 4])\n",
    "B = set([3, 4, 5, 6])\n",
    "\n",
    "A.update(B) # A에 B 집합의 원소를 추가 시킴\n",
    "print(A)"
   ]
  },
  {
   "cell_type": "code",
   "execution_count": null,
   "metadata": {
    "pycharm": {
     "name": "#%%\n"
    }
   },
   "outputs": [],
   "source": [
    "A.intersection_update([4,5,6,7,8]) # &=\n",
    "print(A)"
   ]
  },
  {
   "cell_type": "code",
   "execution_count": null,
   "metadata": {
    "pycharm": {
     "name": "#%%\n"
    }
   },
   "outputs": [],
   "source": [
    "A.difference_update([6,7,8]) # -=\n",
    "print(A)"
   ]
  },
  {
   "cell_type": "code",
   "execution_count": null,
   "metadata": {
    "pycharm": {
     "name": "#%%\n"
    }
   },
   "outputs": [],
   "source": [
    "A.symmetric_difference_update([5,6,7]) # ^=\n",
    "print(A)"
   ]
  },
  {
   "cell_type": "code",
   "execution_count": null,
   "metadata": {
    "pycharm": {
     "name": "#%%\n"
    }
   },
   "outputs": [],
   "source": [
    "A.add(8)    # 원소 추가\n",
    "print(A)"
   ]
  },
  {
   "cell_type": "code",
   "execution_count": null,
   "metadata": {
    "pycharm": {
     "name": "#%%\n"
    }
   },
   "outputs": [],
   "source": [
    "A.remove(8) # 원소 제거\n",
    "print(A)"
   ]
  },
  {
   "cell_type": "code",
   "execution_count": null,
   "metadata": {
    "pycharm": {
     "name": "#%%\n"
    }
   },
   "outputs": [],
   "source": [
    "A.remove(10) # 없는 원소를 제거하면 KeyError 발생"
   ]
  },
  {
   "cell_type": "code",
   "execution_count": null,
   "metadata": {
    "pycharm": {
     "name": "#%%\n"
    }
   },
   "outputs": [],
   "source": [
    "A.discard(10) # remove와 같으나 예외가 발생하지 않음\n",
    "A.discard(6)  # 원소 6제거\n",
    "print(A)"
   ]
  },
  {
   "cell_type": "code",
   "execution_count": null,
   "metadata": {
    "pycharm": {
     "name": "#%%\n"
    }
   },
   "outputs": [],
   "source": [
    "A.pop() # 임의의 원소 하나 꺼내기\n",
    "print(A)"
   ]
  },
  {
   "cell_type": "code",
   "execution_count": null,
   "metadata": {
    "pycharm": {
     "name": "#%%\n"
    }
   },
   "outputs": [],
   "source": [
    "A = set([1,2,3,4])\n",
    "A.clear() # 모든 원소 없애기\n",
    "print(A)"
   ]
  },
  {
   "cell_type": "markdown",
   "metadata": {},
   "source": [
    "## 3.19 정리해 보자"
   ]
  },
  {
   "cell_type": "markdown",
   "metadata": {},
   "source": [
    "| 자료형 |   저장/접근 방법  | 변경 가능성 |       저장 모델      |\n",
    "|:------:|:-----------------:|:-----------:|:--------------------:|\n",
    "| 수치형 |    직접(Direct)   |     변경불가능(Immutable)    |   리터럴 (Literal)   |\n",
    "| 문자열 | 시퀀스 (Sequence) |     변경불가능(Immutable)    |   리터럴 (Literal)   |\n",
    "| 리스트 | 시퀀스 (Sequence) |     변경가능(Mutable)    | 컨테이너 (Container) |\n",
    "|  튜플  | 시퀀스 (Sequence) |     변경불가능(Immutable)    | 컨테이너 (Container) |\n",
    "|  사전  |   매핑 (Mapping)  |     변경가능(Mutable)    | 컨테이너 (Container) |"
   ]
  },
  {
   "cell_type": "markdown",
   "metadata": {},
   "source": [
    "## 3.20 복습문제"
   ]
  },
  {
   "cell_type": "markdown",
   "metadata": {},
   "source": [
    "## 3.21 실습 문제"
   ]
  }
 ],
 "metadata": {
  "kernelspec": {
   "display_name": "Python 3",
   "language": "python",
   "name": "python3"
  },
  "language_info": {
   "codemirror_mode": {
    "name": "ipython",
    "version": 3
   },
   "file_extension": ".py",
   "mimetype": "text/x-python",
   "name": "python",
   "nbconvert_exporter": "python",
   "pygments_lexer": "ipython3",
   "version": "3.6.8"
  }
 },
 "nbformat": 4,
 "nbformat_minor": 4
}